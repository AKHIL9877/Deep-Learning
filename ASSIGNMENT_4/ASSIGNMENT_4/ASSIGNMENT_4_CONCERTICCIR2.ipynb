{
 "cells": [
  {
   "cell_type": "markdown",
   "id": "4554ade2",
   "metadata": {},
   "source": [
    "## Importing Libraries"
   ]
  },
  {
   "cell_type": "code",
   "execution_count": 1,
   "id": "38694f14",
   "metadata": {},
   "outputs": [],
   "source": [
    "import numpy as np\n",
    "import pandas as pd  \n",
    "from sklearn.preprocessing import StandardScaler\n",
    "from sklearn.model_selection import train_test_split\n",
    "from keras import Sequential \n",
    "from keras.layers import Dense \n",
    "from keras.regularizers import L1,L2,L1L2 \n",
    "from keras.optimizers import SGD  \n",
    "import matplotlib.pyplot as plt  "
   ]
  },
  {
   "cell_type": "markdown",
   "id": "d82346e5",
   "metadata": {},
   "source": [
    "## Importing the CSV file"
   ]
  },
  {
   "cell_type": "code",
   "execution_count": 2,
   "id": "bb67035c",
   "metadata": {},
   "outputs": [
    {
     "data": {
      "text/html": [
       "<div>\n",
       "<style scoped>\n",
       "    .dataframe tbody tr th:only-of-type {\n",
       "        vertical-align: middle;\n",
       "    }\n",
       "\n",
       "    .dataframe tbody tr th {\n",
       "        vertical-align: top;\n",
       "    }\n",
       "\n",
       "    .dataframe thead th {\n",
       "        text-align: right;\n",
       "    }\n",
       "</style>\n",
       "<table border=\"1\" class=\"dataframe\">\n",
       "  <thead>\n",
       "    <tr style=\"text-align: right;\">\n",
       "      <th></th>\n",
       "      <th>0</th>\n",
       "      <th>1</th>\n",
       "      <th>2</th>\n",
       "    </tr>\n",
       "  </thead>\n",
       "  <tbody>\n",
       "    <tr>\n",
       "      <th>0</th>\n",
       "      <td>0.700335</td>\n",
       "      <td>-0.247068</td>\n",
       "      <td>0.0</td>\n",
       "    </tr>\n",
       "    <tr>\n",
       "      <th>1</th>\n",
       "      <td>-3.950019</td>\n",
       "      <td>2.740080</td>\n",
       "      <td>1.0</td>\n",
       "    </tr>\n",
       "    <tr>\n",
       "      <th>2</th>\n",
       "      <td>0.150222</td>\n",
       "      <td>-2.157638</td>\n",
       "      <td>1.0</td>\n",
       "    </tr>\n",
       "    <tr>\n",
       "      <th>3</th>\n",
       "      <td>-1.672050</td>\n",
       "      <td>-0.941519</td>\n",
       "      <td>1.0</td>\n",
       "    </tr>\n",
       "    <tr>\n",
       "      <th>4</th>\n",
       "      <td>2.560483</td>\n",
       "      <td>-1.846577</td>\n",
       "      <td>1.0</td>\n",
       "    </tr>\n",
       "  </tbody>\n",
       "</table>\n",
       "</div>"
      ],
      "text/plain": [
       "          0         1    2\n",
       "0  0.700335 -0.247068  0.0\n",
       "1 -3.950019  2.740080  1.0\n",
       "2  0.150222 -2.157638  1.0\n",
       "3 -1.672050 -0.941519  1.0\n",
       "4  2.560483 -1.846577  1.0"
      ]
     },
     "execution_count": 2,
     "metadata": {},
     "output_type": "execute_result"
    }
   ],
   "source": [
    "df=pd.read_csv(r\"C:\\Users\\hp\\Downloads\\ASSIGNMENT_4\\ASSIGNMENT_4\\Multiple CSV\\3.concertriccir2.csv\",header=None) \n",
    "df.head() "
   ]
  },
  {
   "cell_type": "code",
   "execution_count": 3,
   "id": "9543d42a",
   "metadata": {},
   "outputs": [
    {
     "name": "stdout",
     "output_type": "stream",
     "text": [
      "<class 'pandas.core.frame.DataFrame'>\n",
      "RangeIndex: 500 entries, 0 to 499\n",
      "Data columns (total 3 columns):\n",
      " #   Column  Non-Null Count  Dtype  \n",
      "---  ------  --------------  -----  \n",
      " 0   0       500 non-null    float64\n",
      " 1   1       500 non-null    float64\n",
      " 2   2       500 non-null    float64\n",
      "dtypes: float64(3)\n",
      "memory usage: 11.8 KB\n"
     ]
    }
   ],
   "source": [
    "df.info() "
   ]
  },
  {
   "cell_type": "code",
   "execution_count": 4,
   "id": "6ed6ed49",
   "metadata": {},
   "outputs": [
    {
     "data": {
      "text/plain": [
       "0.0    250\n",
       "1.0    250\n",
       "Name: 2, dtype: int64"
      ]
     },
     "execution_count": 4,
     "metadata": {},
     "output_type": "execute_result"
    }
   ],
   "source": [
    "df[2].value_counts()  "
   ]
  },
  {
   "cell_type": "markdown",
   "id": "ee0a0804",
   "metadata": {},
   "source": [
    "## Seperating the Input and Output Features"
   ]
  },
  {
   "cell_type": "code",
   "execution_count": 5,
   "id": "8bd0fe64",
   "metadata": {},
   "outputs": [],
   "source": [
    "x=df.iloc[:,0:2]\n",
    "y=df.iloc[:,2].astype(int) "
   ]
  },
  {
   "cell_type": "code",
   "execution_count": 6,
   "id": "cd031598",
   "metadata": {},
   "outputs": [
    {
     "data": {
      "text/html": [
       "<div>\n",
       "<style scoped>\n",
       "    .dataframe tbody tr th:only-of-type {\n",
       "        vertical-align: middle;\n",
       "    }\n",
       "\n",
       "    .dataframe tbody tr th {\n",
       "        vertical-align: top;\n",
       "    }\n",
       "\n",
       "    .dataframe thead th {\n",
       "        text-align: right;\n",
       "    }\n",
       "</style>\n",
       "<table border=\"1\" class=\"dataframe\">\n",
       "  <thead>\n",
       "    <tr style=\"text-align: right;\">\n",
       "      <th></th>\n",
       "      <th>0</th>\n",
       "      <th>1</th>\n",
       "    </tr>\n",
       "  </thead>\n",
       "  <tbody>\n",
       "    <tr>\n",
       "      <th>0</th>\n",
       "      <td>0.700335</td>\n",
       "      <td>-0.247068</td>\n",
       "    </tr>\n",
       "    <tr>\n",
       "      <th>1</th>\n",
       "      <td>-3.950019</td>\n",
       "      <td>2.740080</td>\n",
       "    </tr>\n",
       "    <tr>\n",
       "      <th>2</th>\n",
       "      <td>0.150222</td>\n",
       "      <td>-2.157638</td>\n",
       "    </tr>\n",
       "    <tr>\n",
       "      <th>3</th>\n",
       "      <td>-1.672050</td>\n",
       "      <td>-0.941519</td>\n",
       "    </tr>\n",
       "    <tr>\n",
       "      <th>4</th>\n",
       "      <td>2.560483</td>\n",
       "      <td>-1.846577</td>\n",
       "    </tr>\n",
       "  </tbody>\n",
       "</table>\n",
       "</div>"
      ],
      "text/plain": [
       "          0         1\n",
       "0  0.700335 -0.247068\n",
       "1 -3.950019  2.740080\n",
       "2  0.150222 -2.157638\n",
       "3 -1.672050 -0.941519\n",
       "4  2.560483 -1.846577"
      ]
     },
     "execution_count": 6,
     "metadata": {},
     "output_type": "execute_result"
    }
   ],
   "source": [
    "x.head()  "
   ]
  },
  {
   "cell_type": "code",
   "execution_count": 7,
   "id": "96e8beaa",
   "metadata": {},
   "outputs": [
    {
     "data": {
      "text/plain": [
       "0    0\n",
       "1    1\n",
       "2    1\n",
       "3    1\n",
       "4    1\n",
       "Name: 2, dtype: int32"
      ]
     },
     "execution_count": 7,
     "metadata": {},
     "output_type": "execute_result"
    }
   ],
   "source": [
    "y.head()  "
   ]
  },
  {
   "cell_type": "markdown",
   "id": "14a6e89b",
   "metadata": {},
   "source": [
    "## Split the data into train and test "
   ]
  },
  {
   "cell_type": "code",
   "execution_count": 8,
   "id": "17267076",
   "metadata": {},
   "outputs": [],
   "source": [
    "x_train,x_test,y_train,y_test=train_test_split(x,y,test_size=0.1)"
   ]
  },
  {
   "cell_type": "code",
   "execution_count": 9,
   "id": "e9f429fc",
   "metadata": {},
   "outputs": [
    {
     "data": {
      "text/plain": [
       "(450, 2)"
      ]
     },
     "execution_count": 9,
     "metadata": {},
     "output_type": "execute_result"
    }
   ],
   "source": [
    "x_train.shape  "
   ]
  },
  {
   "cell_type": "code",
   "execution_count": 10,
   "id": "3d820ebf",
   "metadata": {},
   "outputs": [
    {
     "data": {
      "text/plain": [
       "(50, 2)"
      ]
     },
     "execution_count": 10,
     "metadata": {},
     "output_type": "execute_result"
    }
   ],
   "source": [
    "x_test.shape  "
   ]
  },
  {
   "cell_type": "markdown",
   "id": "0a202fa1",
   "metadata": {},
   "source": [
    "### Standardising input features "
   ]
  },
  {
   "cell_type": "code",
   "execution_count": 11,
   "id": "dc22f9ef",
   "metadata": {},
   "outputs": [],
   "source": [
    "std=StandardScaler()\n",
    "x_train=std.fit_transform(x_train)\n",
    "x_test=std.transform(x_test)  "
   ]
  },
  {
   "cell_type": "markdown",
   "id": "5b555985",
   "metadata": {},
   "source": [
    "### Build the Logical Structure"
   ]
  },
  {
   "cell_type": "code",
   "execution_count": 12,
   "id": "780292be",
   "metadata": {},
   "outputs": [],
   "source": [
    "model=Sequential()\n",
    "model.add(Dense(18,activation=\"relu\",kernel_regularizer=L1(0.001),bias_regularizer=L1(0.001),input_dim=2))\n",
    "model.add(Dense(16,activation=\"relu\",kernel_regularizer=L1(0.001),bias_regularizer=L1(0.001)))\n",
    "model.add(Dense(10,activation=\"relu\",kernel_regularizer=L1(0.001),bias_regularizer=L1(0.001)))\n",
    "model.add(Dense(1,activation=\"sigmoid\"))  "
   ]
  },
  {
   "cell_type": "code",
   "execution_count": 13,
   "id": "20fe0b8a",
   "metadata": {},
   "outputs": [
    {
     "name": "stdout",
     "output_type": "stream",
     "text": [
      "Model: \"sequential\"\n",
      "_________________________________________________________________\n",
      " Layer (type)                Output Shape              Param #   \n",
      "=================================================================\n",
      " dense (Dense)               (None, 18)                54        \n",
      "                                                                 \n",
      " dense_1 (Dense)             (None, 16)                304       \n",
      "                                                                 \n",
      " dense_2 (Dense)             (None, 10)                170       \n",
      "                                                                 \n",
      " dense_3 (Dense)             (None, 1)                 11        \n",
      "                                                                 \n",
      "=================================================================\n",
      "Total params: 539 (2.11 KB)\n",
      "Trainable params: 539 (2.11 KB)\n",
      "Non-trainable params: 0 (0.00 Byte)\n",
      "_________________________________________________________________\n"
     ]
    }
   ],
   "source": [
    "model.summary() "
   ]
  },
  {
   "cell_type": "markdown",
   "id": "a3d2bdad",
   "metadata": {},
   "source": [
    "### compiling the model "
   ]
  },
  {
   "cell_type": "code",
   "execution_count": 14,
   "id": "86129a1c",
   "metadata": {},
   "outputs": [
    {
     "name": "stdout",
     "output_type": "stream",
     "text": [
      "Epoch 1/300\n",
      "41/41 [==============================] - 2s 12ms/step - loss: 0.8105 - accuracy: 0.4370 - val_loss: 0.8108 - val_accuracy: 0.4000\n",
      "Epoch 2/300\n",
      "41/41 [==============================] - 0s 4ms/step - loss: 0.8091 - accuracy: 0.4247 - val_loss: 0.8091 - val_accuracy: 0.4444\n",
      "Epoch 3/300\n",
      "41/41 [==============================] - 0s 4ms/step - loss: 0.8075 - accuracy: 0.4074 - val_loss: 0.8078 - val_accuracy: 0.4222\n",
      "Epoch 4/300\n",
      "41/41 [==============================] - 0s 4ms/step - loss: 0.8061 - accuracy: 0.4296 - val_loss: 0.8064 - val_accuracy: 0.4667\n",
      "Epoch 5/300\n",
      "41/41 [==============================] - 0s 4ms/step - loss: 0.8049 - accuracy: 0.4296 - val_loss: 0.8049 - val_accuracy: 0.5111\n",
      "Epoch 6/300\n",
      "41/41 [==============================] - 0s 4ms/step - loss: 0.8037 - accuracy: 0.4346 - val_loss: 0.8038 - val_accuracy: 0.4444\n",
      "Epoch 7/300\n",
      "41/41 [==============================] - 0s 4ms/step - loss: 0.8024 - accuracy: 0.4469 - val_loss: 0.8023 - val_accuracy: 0.4889\n",
      "Epoch 8/300\n",
      "41/41 [==============================] - 0s 4ms/step - loss: 0.8012 - accuracy: 0.4790 - val_loss: 0.8011 - val_accuracy: 0.4667\n",
      "Epoch 9/300\n",
      "41/41 [==============================] - 0s 4ms/step - loss: 0.8001 - accuracy: 0.4988 - val_loss: 0.8002 - val_accuracy: 0.4667\n",
      "Epoch 10/300\n",
      "41/41 [==============================] - 0s 4ms/step - loss: 0.7992 - accuracy: 0.5383 - val_loss: 0.7994 - val_accuracy: 0.5111\n",
      "Epoch 11/300\n",
      "41/41 [==============================] - 0s 4ms/step - loss: 0.7984 - accuracy: 0.5556 - val_loss: 0.7989 - val_accuracy: 0.5111\n",
      "Epoch 12/300\n",
      "41/41 [==============================] - 0s 4ms/step - loss: 0.7978 - accuracy: 0.5827 - val_loss: 0.7982 - val_accuracy: 0.5111\n",
      "Epoch 13/300\n",
      "41/41 [==============================] - 0s 4ms/step - loss: 0.7972 - accuracy: 0.5704 - val_loss: 0.7980 - val_accuracy: 0.4889\n",
      "Epoch 14/300\n",
      "41/41 [==============================] - 0s 5ms/step - loss: 0.7966 - accuracy: 0.6198 - val_loss: 0.7973 - val_accuracy: 0.4889\n",
      "Epoch 15/300\n",
      "41/41 [==============================] - 0s 4ms/step - loss: 0.7960 - accuracy: 0.6173 - val_loss: 0.7967 - val_accuracy: 0.5111\n",
      "Epoch 16/300\n",
      "41/41 [==============================] - 0s 4ms/step - loss: 0.7955 - accuracy: 0.6296 - val_loss: 0.7962 - val_accuracy: 0.5111\n",
      "Epoch 17/300\n",
      "41/41 [==============================] - 0s 5ms/step - loss: 0.7949 - accuracy: 0.6321 - val_loss: 0.7958 - val_accuracy: 0.5111\n",
      "Epoch 18/300\n",
      "41/41 [==============================] - 0s 5ms/step - loss: 0.7943 - accuracy: 0.6370 - val_loss: 0.7953 - val_accuracy: 0.5333\n",
      "Epoch 19/300\n",
      "41/41 [==============================] - 0s 4ms/step - loss: 0.7938 - accuracy: 0.6370 - val_loss: 0.7947 - val_accuracy: 0.5333\n",
      "Epoch 20/300\n",
      "41/41 [==============================] - 0s 5ms/step - loss: 0.7933 - accuracy: 0.6321 - val_loss: 0.7944 - val_accuracy: 0.5556\n",
      "Epoch 21/300\n",
      "41/41 [==============================] - 0s 5ms/step - loss: 0.7928 - accuracy: 0.6346 - val_loss: 0.7939 - val_accuracy: 0.5778\n",
      "Epoch 22/300\n",
      "41/41 [==============================] - 0s 5ms/step - loss: 0.7923 - accuracy: 0.6370 - val_loss: 0.7933 - val_accuracy: 0.5333\n",
      "Epoch 23/300\n",
      "41/41 [==============================] - 0s 5ms/step - loss: 0.7917 - accuracy: 0.6469 - val_loss: 0.7930 - val_accuracy: 0.5778\n",
      "Epoch 24/300\n",
      "41/41 [==============================] - 0s 4ms/step - loss: 0.7912 - accuracy: 0.6444 - val_loss: 0.7925 - val_accuracy: 0.5556\n",
      "Epoch 25/300\n",
      "41/41 [==============================] - 0s 5ms/step - loss: 0.7907 - accuracy: 0.6247 - val_loss: 0.7918 - val_accuracy: 0.5778\n",
      "Epoch 26/300\n",
      "41/41 [==============================] - 0s 5ms/step - loss: 0.7901 - accuracy: 0.6494 - val_loss: 0.7913 - val_accuracy: 0.5778\n",
      "Epoch 27/300\n",
      "41/41 [==============================] - 0s 5ms/step - loss: 0.7895 - accuracy: 0.6519 - val_loss: 0.7907 - val_accuracy: 0.6000\n",
      "Epoch 28/300\n",
      "41/41 [==============================] - 0s 5ms/step - loss: 0.7890 - accuracy: 0.6519 - val_loss: 0.7903 - val_accuracy: 0.5778\n",
      "Epoch 29/300\n",
      "41/41 [==============================] - 0s 5ms/step - loss: 0.7884 - accuracy: 0.6568 - val_loss: 0.7897 - val_accuracy: 0.6000\n",
      "Epoch 30/300\n",
      "41/41 [==============================] - 0s 5ms/step - loss: 0.7877 - accuracy: 0.6593 - val_loss: 0.7890 - val_accuracy: 0.6000\n",
      "Epoch 31/300\n",
      "41/41 [==============================] - 0s 5ms/step - loss: 0.7871 - accuracy: 0.6593 - val_loss: 0.7883 - val_accuracy: 0.5778\n",
      "Epoch 32/300\n",
      "41/41 [==============================] - 0s 5ms/step - loss: 0.7865 - accuracy: 0.6642 - val_loss: 0.7877 - val_accuracy: 0.6000\n",
      "Epoch 33/300\n",
      "41/41 [==============================] - 0s 5ms/step - loss: 0.7858 - accuracy: 0.6667 - val_loss: 0.7872 - val_accuracy: 0.6000\n",
      "Epoch 34/300\n",
      "41/41 [==============================] - 0s 5ms/step - loss: 0.7851 - accuracy: 0.6617 - val_loss: 0.7865 - val_accuracy: 0.6000\n",
      "Epoch 35/300\n",
      "41/41 [==============================] - 0s 5ms/step - loss: 0.7844 - accuracy: 0.6765 - val_loss: 0.7856 - val_accuracy: 0.6000\n",
      "Epoch 36/300\n",
      "41/41 [==============================] - 0s 5ms/step - loss: 0.7836 - accuracy: 0.6617 - val_loss: 0.7848 - val_accuracy: 0.6000\n",
      "Epoch 37/300\n",
      "41/41 [==============================] - 0s 4ms/step - loss: 0.7829 - accuracy: 0.6765 - val_loss: 0.7842 - val_accuracy: 0.6222\n",
      "Epoch 38/300\n",
      "41/41 [==============================] - 0s 4ms/step - loss: 0.7822 - accuracy: 0.6617 - val_loss: 0.7833 - val_accuracy: 0.6222\n",
      "Epoch 39/300\n",
      "41/41 [==============================] - 0s 4ms/step - loss: 0.7814 - accuracy: 0.6765 - val_loss: 0.7823 - val_accuracy: 0.6444\n",
      "Epoch 40/300\n",
      "41/41 [==============================] - 0s 4ms/step - loss: 0.7807 - accuracy: 0.6938 - val_loss: 0.7814 - val_accuracy: 0.6444\n",
      "Epoch 41/300\n",
      "41/41 [==============================] - 0s 5ms/step - loss: 0.7799 - accuracy: 0.7086 - val_loss: 0.7804 - val_accuracy: 0.6444\n",
      "Epoch 42/300\n",
      "41/41 [==============================] - 0s 6ms/step - loss: 0.7790 - accuracy: 0.7210 - val_loss: 0.7794 - val_accuracy: 0.6444\n",
      "Epoch 43/300\n",
      "41/41 [==============================] - 0s 5ms/step - loss: 0.7782 - accuracy: 0.7259 - val_loss: 0.7786 - val_accuracy: 0.6444\n",
      "Epoch 44/300\n",
      "41/41 [==============================] - 0s 5ms/step - loss: 0.7775 - accuracy: 0.7160 - val_loss: 0.7774 - val_accuracy: 0.6444\n",
      "Epoch 45/300\n",
      "41/41 [==============================] - 0s 4ms/step - loss: 0.7766 - accuracy: 0.7210 - val_loss: 0.7765 - val_accuracy: 0.6444\n",
      "Epoch 46/300\n",
      "41/41 [==============================] - 0s 4ms/step - loss: 0.7757 - accuracy: 0.7407 - val_loss: 0.7758 - val_accuracy: 0.6444\n",
      "Epoch 47/300\n",
      "41/41 [==============================] - 0s 4ms/step - loss: 0.7749 - accuracy: 0.7235 - val_loss: 0.7751 - val_accuracy: 0.6667\n",
      "Epoch 48/300\n",
      "41/41 [==============================] - 0s 4ms/step - loss: 0.7740 - accuracy: 0.7259 - val_loss: 0.7743 - val_accuracy: 0.6667\n",
      "Epoch 49/300\n",
      "41/41 [==============================] - 0s 4ms/step - loss: 0.7731 - accuracy: 0.7333 - val_loss: 0.7732 - val_accuracy: 0.6444\n",
      "Epoch 50/300\n",
      "41/41 [==============================] - 0s 4ms/step - loss: 0.7721 - accuracy: 0.7284 - val_loss: 0.7720 - val_accuracy: 0.6444\n",
      "Epoch 51/300\n",
      "41/41 [==============================] - 0s 4ms/step - loss: 0.7713 - accuracy: 0.7481 - val_loss: 0.7708 - val_accuracy: 0.6667\n",
      "Epoch 52/300\n",
      "41/41 [==============================] - 0s 4ms/step - loss: 0.7703 - accuracy: 0.7333 - val_loss: 0.7699 - val_accuracy: 0.6667\n",
      "Epoch 53/300\n",
      "41/41 [==============================] - 0s 4ms/step - loss: 0.7693 - accuracy: 0.7556 - val_loss: 0.7689 - val_accuracy: 0.6889\n",
      "Epoch 54/300\n",
      "41/41 [==============================] - 0s 5ms/step - loss: 0.7684 - accuracy: 0.7432 - val_loss: 0.7681 - val_accuracy: 0.6667\n",
      "Epoch 55/300\n",
      "41/41 [==============================] - 0s 4ms/step - loss: 0.7672 - accuracy: 0.7481 - val_loss: 0.7669 - val_accuracy: 0.6889\n",
      "Epoch 56/300\n",
      "41/41 [==============================] - 0s 4ms/step - loss: 0.7662 - accuracy: 0.7556 - val_loss: 0.7659 - val_accuracy: 0.6889\n",
      "Epoch 57/300\n",
      "41/41 [==============================] - 0s 4ms/step - loss: 0.7650 - accuracy: 0.7531 - val_loss: 0.7650 - val_accuracy: 0.6889\n",
      "Epoch 58/300\n",
      "41/41 [==============================] - 0s 6ms/step - loss: 0.7640 - accuracy: 0.7605 - val_loss: 0.7637 - val_accuracy: 0.6889\n"
     ]
    },
    {
     "name": "stdout",
     "output_type": "stream",
     "text": [
      "Epoch 59/300\n",
      "41/41 [==============================] - 0s 5ms/step - loss: 0.7628 - accuracy: 0.7556 - val_loss: 0.7626 - val_accuracy: 0.6889\n",
      "Epoch 60/300\n",
      "41/41 [==============================] - 0s 5ms/step - loss: 0.7617 - accuracy: 0.7457 - val_loss: 0.7612 - val_accuracy: 0.7111\n",
      "Epoch 61/300\n",
      "41/41 [==============================] - 0s 4ms/step - loss: 0.7605 - accuracy: 0.7506 - val_loss: 0.7599 - val_accuracy: 0.7111\n",
      "Epoch 62/300\n",
      "41/41 [==============================] - 0s 4ms/step - loss: 0.7593 - accuracy: 0.7457 - val_loss: 0.7585 - val_accuracy: 0.7111\n",
      "Epoch 63/300\n",
      "41/41 [==============================] - 0s 5ms/step - loss: 0.7581 - accuracy: 0.7580 - val_loss: 0.7569 - val_accuracy: 0.7111\n",
      "Epoch 64/300\n",
      "41/41 [==============================] - 0s 4ms/step - loss: 0.7568 - accuracy: 0.7531 - val_loss: 0.7559 - val_accuracy: 0.7111\n",
      "Epoch 65/300\n",
      "41/41 [==============================] - 0s 4ms/step - loss: 0.7554 - accuracy: 0.7679 - val_loss: 0.7545 - val_accuracy: 0.7111\n",
      "Epoch 66/300\n",
      "41/41 [==============================] - 0s 4ms/step - loss: 0.7540 - accuracy: 0.7605 - val_loss: 0.7529 - val_accuracy: 0.7111\n",
      "Epoch 67/300\n",
      "41/41 [==============================] - 0s 4ms/step - loss: 0.7526 - accuracy: 0.7556 - val_loss: 0.7520 - val_accuracy: 0.6889\n",
      "Epoch 68/300\n",
      "41/41 [==============================] - 0s 5ms/step - loss: 0.7511 - accuracy: 0.7605 - val_loss: 0.7506 - val_accuracy: 0.7111\n",
      "Epoch 69/300\n",
      "41/41 [==============================] - 0s 5ms/step - loss: 0.7496 - accuracy: 0.7556 - val_loss: 0.7486 - val_accuracy: 0.7111\n",
      "Epoch 70/300\n",
      "41/41 [==============================] - 0s 5ms/step - loss: 0.7481 - accuracy: 0.7630 - val_loss: 0.7475 - val_accuracy: 0.7111\n",
      "Epoch 71/300\n",
      "41/41 [==============================] - 0s 4ms/step - loss: 0.7465 - accuracy: 0.7753 - val_loss: 0.7459 - val_accuracy: 0.7111\n",
      "Epoch 72/300\n",
      "41/41 [==============================] - 0s 4ms/step - loss: 0.7449 - accuracy: 0.7728 - val_loss: 0.7443 - val_accuracy: 0.7333\n",
      "Epoch 73/300\n",
      "41/41 [==============================] - 0s 5ms/step - loss: 0.7431 - accuracy: 0.7580 - val_loss: 0.7421 - val_accuracy: 0.7111\n",
      "Epoch 74/300\n",
      "41/41 [==============================] - 0s 4ms/step - loss: 0.7416 - accuracy: 0.7654 - val_loss: 0.7410 - val_accuracy: 0.7333\n",
      "Epoch 75/300\n",
      "41/41 [==============================] - 0s 4ms/step - loss: 0.7397 - accuracy: 0.7802 - val_loss: 0.7386 - val_accuracy: 0.7111\n",
      "Epoch 76/300\n",
      "41/41 [==============================] - 0s 4ms/step - loss: 0.7379 - accuracy: 0.7827 - val_loss: 0.7370 - val_accuracy: 0.7333\n",
      "Epoch 77/300\n",
      "41/41 [==============================] - 0s 4ms/step - loss: 0.7360 - accuracy: 0.7827 - val_loss: 0.7351 - val_accuracy: 0.7333\n",
      "Epoch 78/300\n",
      "41/41 [==============================] - 0s 5ms/step - loss: 0.7342 - accuracy: 0.7679 - val_loss: 0.7334 - val_accuracy: 0.7333\n",
      "Epoch 79/300\n",
      "41/41 [==============================] - 0s 4ms/step - loss: 0.7320 - accuracy: 0.7926 - val_loss: 0.7311 - val_accuracy: 0.7333\n",
      "Epoch 80/300\n",
      "41/41 [==============================] - 0s 4ms/step - loss: 0.7298 - accuracy: 0.7654 - val_loss: 0.7298 - val_accuracy: 0.7556\n",
      "Epoch 81/300\n",
      "41/41 [==============================] - 0s 4ms/step - loss: 0.7278 - accuracy: 0.7802 - val_loss: 0.7274 - val_accuracy: 0.7333\n",
      "Epoch 82/300\n",
      "41/41 [==============================] - 0s 4ms/step - loss: 0.7255 - accuracy: 0.7901 - val_loss: 0.7258 - val_accuracy: 0.7556\n",
      "Epoch 83/300\n",
      "41/41 [==============================] - 0s 4ms/step - loss: 0.7233 - accuracy: 0.7852 - val_loss: 0.7246 - val_accuracy: 0.7556\n",
      "Epoch 84/300\n",
      "41/41 [==============================] - 0s 5ms/step - loss: 0.7211 - accuracy: 0.7901 - val_loss: 0.7218 - val_accuracy: 0.7556\n",
      "Epoch 85/300\n",
      "41/41 [==============================] - 0s 4ms/step - loss: 0.7184 - accuracy: 0.8000 - val_loss: 0.7198 - val_accuracy: 0.7556\n",
      "Epoch 86/300\n",
      "41/41 [==============================] - 0s 4ms/step - loss: 0.7161 - accuracy: 0.8025 - val_loss: 0.7175 - val_accuracy: 0.7556\n",
      "Epoch 87/300\n",
      "41/41 [==============================] - 0s 4ms/step - loss: 0.7134 - accuracy: 0.8025 - val_loss: 0.7145 - val_accuracy: 0.7778\n",
      "Epoch 88/300\n",
      "41/41 [==============================] - 0s 4ms/step - loss: 0.7106 - accuracy: 0.7975 - val_loss: 0.7126 - val_accuracy: 0.7556\n",
      "Epoch 89/300\n",
      "41/41 [==============================] - 0s 4ms/step - loss: 0.7080 - accuracy: 0.7926 - val_loss: 0.7093 - val_accuracy: 0.8000\n",
      "Epoch 90/300\n",
      "41/41 [==============================] - 0s 4ms/step - loss: 0.7054 - accuracy: 0.7951 - val_loss: 0.7074 - val_accuracy: 0.8000\n",
      "Epoch 91/300\n",
      "41/41 [==============================] - 0s 4ms/step - loss: 0.7028 - accuracy: 0.8173 - val_loss: 0.7038 - val_accuracy: 0.8000\n",
      "Epoch 92/300\n",
      "41/41 [==============================] - 0s 4ms/step - loss: 0.6995 - accuracy: 0.8173 - val_loss: 0.7018 - val_accuracy: 0.8000\n",
      "Epoch 93/300\n",
      "41/41 [==============================] - 0s 4ms/step - loss: 0.6970 - accuracy: 0.8074 - val_loss: 0.6994 - val_accuracy: 0.8000\n",
      "Epoch 94/300\n",
      "41/41 [==============================] - 0s 4ms/step - loss: 0.6936 - accuracy: 0.8222 - val_loss: 0.6968 - val_accuracy: 0.8000\n",
      "Epoch 95/300\n",
      "41/41 [==============================] - 0s 4ms/step - loss: 0.6908 - accuracy: 0.8272 - val_loss: 0.6941 - val_accuracy: 0.8000\n",
      "Epoch 96/300\n",
      "41/41 [==============================] - 0s 4ms/step - loss: 0.6870 - accuracy: 0.8247 - val_loss: 0.6924 - val_accuracy: 0.7778\n",
      "Epoch 97/300\n",
      "41/41 [==============================] - 0s 4ms/step - loss: 0.6843 - accuracy: 0.8296 - val_loss: 0.6892 - val_accuracy: 0.8000\n",
      "Epoch 98/300\n",
      "41/41 [==============================] - 0s 4ms/step - loss: 0.6809 - accuracy: 0.8272 - val_loss: 0.6863 - val_accuracy: 0.7778\n",
      "Epoch 99/300\n",
      "41/41 [==============================] - 0s 4ms/step - loss: 0.6777 - accuracy: 0.8272 - val_loss: 0.6843 - val_accuracy: 0.7778\n",
      "Epoch 100/300\n",
      "41/41 [==============================] - 0s 4ms/step - loss: 0.6745 - accuracy: 0.8272 - val_loss: 0.6792 - val_accuracy: 0.8000\n",
      "Epoch 101/300\n",
      "41/41 [==============================] - 0s 4ms/step - loss: 0.6705 - accuracy: 0.8469 - val_loss: 0.6763 - val_accuracy: 0.7556\n",
      "Epoch 102/300\n",
      "41/41 [==============================] - 0s 4ms/step - loss: 0.6678 - accuracy: 0.8346 - val_loss: 0.6738 - val_accuracy: 0.8000\n",
      "Epoch 103/300\n",
      "41/41 [==============================] - 0s 4ms/step - loss: 0.6643 - accuracy: 0.8370 - val_loss: 0.6701 - val_accuracy: 0.8000\n",
      "Epoch 104/300\n",
      "41/41 [==============================] - 0s 4ms/step - loss: 0.6603 - accuracy: 0.8370 - val_loss: 0.6653 - val_accuracy: 0.8000\n",
      "Epoch 105/300\n",
      "41/41 [==============================] - 0s 4ms/step - loss: 0.6572 - accuracy: 0.8395 - val_loss: 0.6618 - val_accuracy: 0.8222\n",
      "Epoch 106/300\n",
      "41/41 [==============================] - 0s 4ms/step - loss: 0.6528 - accuracy: 0.8420 - val_loss: 0.6587 - val_accuracy: 0.8222\n",
      "Epoch 107/300\n",
      "41/41 [==============================] - 0s 4ms/step - loss: 0.6493 - accuracy: 0.8444 - val_loss: 0.6542 - val_accuracy: 0.8000\n",
      "Epoch 108/300\n",
      "41/41 [==============================] - 0s 5ms/step - loss: 0.6450 - accuracy: 0.8420 - val_loss: 0.6491 - val_accuracy: 0.7556\n",
      "Epoch 109/300\n",
      "41/41 [==============================] - 0s 4ms/step - loss: 0.6421 - accuracy: 0.8296 - val_loss: 0.6453 - val_accuracy: 0.8222\n",
      "Epoch 110/300\n",
      "41/41 [==============================] - 0s 4ms/step - loss: 0.6381 - accuracy: 0.8321 - val_loss: 0.6438 - val_accuracy: 0.8000\n",
      "Epoch 111/300\n",
      "41/41 [==============================] - 0s 4ms/step - loss: 0.6341 - accuracy: 0.8617 - val_loss: 0.6385 - val_accuracy: 0.8222\n",
      "Epoch 112/300\n",
      "41/41 [==============================] - 0s 4ms/step - loss: 0.6298 - accuracy: 0.8469 - val_loss: 0.6324 - val_accuracy: 0.8222\n",
      "Epoch 113/300\n",
      "41/41 [==============================] - 0s 4ms/step - loss: 0.6254 - accuracy: 0.8272 - val_loss: 0.6321 - val_accuracy: 0.8000\n",
      "Epoch 114/300\n",
      "41/41 [==============================] - 0s 4ms/step - loss: 0.6206 - accuracy: 0.8346 - val_loss: 0.6243 - val_accuracy: 0.8444\n",
      "Epoch 115/300\n",
      "41/41 [==============================] - 0s 4ms/step - loss: 0.6184 - accuracy: 0.8494 - val_loss: 0.6215 - val_accuracy: 0.8000\n",
      "Epoch 116/300\n"
     ]
    },
    {
     "name": "stdout",
     "output_type": "stream",
     "text": [
      "41/41 [==============================] - 0s 4ms/step - loss: 0.6132 - accuracy: 0.8420 - val_loss: 0.6160 - val_accuracy: 0.8444\n",
      "Epoch 117/300\n",
      "41/41 [==============================] - 0s 4ms/step - loss: 0.6095 - accuracy: 0.8272 - val_loss: 0.6140 - val_accuracy: 0.8222\n",
      "Epoch 118/300\n",
      "41/41 [==============================] - 0s 4ms/step - loss: 0.6034 - accuracy: 0.8395 - val_loss: 0.6063 - val_accuracy: 0.8444\n",
      "Epoch 119/300\n",
      "41/41 [==============================] - 0s 4ms/step - loss: 0.6003 - accuracy: 0.8296 - val_loss: 0.6010 - val_accuracy: 0.8667\n",
      "Epoch 120/300\n",
      "41/41 [==============================] - 0s 4ms/step - loss: 0.5945 - accuracy: 0.8444 - val_loss: 0.5957 - val_accuracy: 0.8444\n",
      "Epoch 121/300\n",
      "41/41 [==============================] - 0s 4ms/step - loss: 0.5902 - accuracy: 0.8469 - val_loss: 0.5896 - val_accuracy: 0.8222\n",
      "Epoch 122/300\n",
      "41/41 [==============================] - 0s 4ms/step - loss: 0.5871 - accuracy: 0.8519 - val_loss: 0.5834 - val_accuracy: 0.8889\n",
      "Epoch 123/300\n",
      "41/41 [==============================] - 0s 4ms/step - loss: 0.5823 - accuracy: 0.8346 - val_loss: 0.5785 - val_accuracy: 0.8889\n",
      "Epoch 124/300\n",
      "41/41 [==============================] - 0s 4ms/step - loss: 0.5787 - accuracy: 0.8469 - val_loss: 0.5749 - val_accuracy: 0.8667\n",
      "Epoch 125/300\n",
      "41/41 [==============================] - 0s 4ms/step - loss: 0.5735 - accuracy: 0.8395 - val_loss: 0.5680 - val_accuracy: 0.8667\n",
      "Epoch 126/300\n",
      "41/41 [==============================] - 0s 4ms/step - loss: 0.5687 - accuracy: 0.8395 - val_loss: 0.5753 - val_accuracy: 0.8222\n",
      "Epoch 127/300\n",
      "41/41 [==============================] - 0s 4ms/step - loss: 0.5646 - accuracy: 0.8444 - val_loss: 0.5573 - val_accuracy: 0.8889\n",
      "Epoch 128/300\n",
      "41/41 [==============================] - 0s 4ms/step - loss: 0.5583 - accuracy: 0.8444 - val_loss: 0.5704 - val_accuracy: 0.8444\n",
      "Epoch 129/300\n",
      "41/41 [==============================] - 0s 4ms/step - loss: 0.5577 - accuracy: 0.8346 - val_loss: 0.5534 - val_accuracy: 0.8444\n",
      "Epoch 130/300\n",
      "41/41 [==============================] - 0s 4ms/step - loss: 0.5516 - accuracy: 0.8543 - val_loss: 0.5379 - val_accuracy: 0.8444\n",
      "Epoch 131/300\n",
      "41/41 [==============================] - 0s 4ms/step - loss: 0.5476 - accuracy: 0.8543 - val_loss: 0.5305 - val_accuracy: 0.8889\n",
      "Epoch 132/300\n",
      "41/41 [==============================] - 0s 4ms/step - loss: 0.5425 - accuracy: 0.8420 - val_loss: 0.5278 - val_accuracy: 0.8444\n",
      "Epoch 133/300\n",
      "41/41 [==============================] - 0s 4ms/step - loss: 0.5373 - accuracy: 0.8494 - val_loss: 0.5277 - val_accuracy: 0.8667\n",
      "Epoch 134/300\n",
      "41/41 [==============================] - 0s 4ms/step - loss: 0.5332 - accuracy: 0.8494 - val_loss: 0.5146 - val_accuracy: 0.9111\n",
      "Epoch 135/300\n",
      "41/41 [==============================] - 0s 4ms/step - loss: 0.5287 - accuracy: 0.8568 - val_loss: 0.5133 - val_accuracy: 0.8667\n",
      "Epoch 136/300\n",
      "41/41 [==============================] - 0s 4ms/step - loss: 0.5223 - accuracy: 0.8543 - val_loss: 0.4996 - val_accuracy: 0.9111\n",
      "Epoch 137/300\n",
      "41/41 [==============================] - 0s 4ms/step - loss: 0.5217 - accuracy: 0.8494 - val_loss: 0.5192 - val_accuracy: 0.8667\n",
      "Epoch 138/300\n",
      "41/41 [==============================] - 0s 4ms/step - loss: 0.5132 - accuracy: 0.8568 - val_loss: 0.4928 - val_accuracy: 0.8889\n",
      "Epoch 139/300\n",
      "41/41 [==============================] - 0s 4ms/step - loss: 0.5146 - accuracy: 0.8519 - val_loss: 0.4835 - val_accuracy: 0.9111\n",
      "Epoch 140/300\n",
      "41/41 [==============================] - 0s 4ms/step - loss: 0.5100 - accuracy: 0.8543 - val_loss: 0.4870 - val_accuracy: 0.8889\n",
      "Epoch 141/300\n",
      "41/41 [==============================] - 0s 4ms/step - loss: 0.5017 - accuracy: 0.8617 - val_loss: 0.4732 - val_accuracy: 0.9111\n",
      "Epoch 142/300\n",
      "41/41 [==============================] - 0s 4ms/step - loss: 0.5027 - accuracy: 0.8519 - val_loss: 0.4797 - val_accuracy: 0.8889\n",
      "Epoch 143/300\n",
      "41/41 [==============================] - 0s 4ms/step - loss: 0.4960 - accuracy: 0.8593 - val_loss: 0.4609 - val_accuracy: 0.9111\n",
      "Epoch 144/300\n",
      "41/41 [==============================] - 0s 4ms/step - loss: 0.4935 - accuracy: 0.8642 - val_loss: 0.4609 - val_accuracy: 0.8889\n",
      "Epoch 145/300\n",
      "41/41 [==============================] - 0s 4ms/step - loss: 0.4879 - accuracy: 0.8568 - val_loss: 0.4544 - val_accuracy: 0.8889\n",
      "Epoch 146/300\n",
      "41/41 [==============================] - 0s 4ms/step - loss: 0.4861 - accuracy: 0.8642 - val_loss: 0.4498 - val_accuracy: 0.9111\n",
      "Epoch 147/300\n",
      "41/41 [==============================] - 0s 4ms/step - loss: 0.4828 - accuracy: 0.8593 - val_loss: 0.4509 - val_accuracy: 0.8889\n",
      "Epoch 148/300\n",
      "41/41 [==============================] - 0s 4ms/step - loss: 0.4786 - accuracy: 0.8519 - val_loss: 0.4387 - val_accuracy: 0.9333\n",
      "Epoch 149/300\n",
      "41/41 [==============================] - 0s 4ms/step - loss: 0.4736 - accuracy: 0.8765 - val_loss: 0.4517 - val_accuracy: 0.8889\n",
      "Epoch 150/300\n",
      "41/41 [==============================] - 0s 4ms/step - loss: 0.4722 - accuracy: 0.8667 - val_loss: 0.4286 - val_accuracy: 0.9333\n",
      "Epoch 151/300\n",
      "41/41 [==============================] - 0s 5ms/step - loss: 0.4725 - accuracy: 0.8642 - val_loss: 0.4327 - val_accuracy: 0.8889\n",
      "Epoch 152/300\n",
      "41/41 [==============================] - 0s 4ms/step - loss: 0.4683 - accuracy: 0.8593 - val_loss: 0.4358 - val_accuracy: 0.8889\n",
      "Epoch 153/300\n",
      "41/41 [==============================] - 0s 4ms/step - loss: 0.4612 - accuracy: 0.8741 - val_loss: 0.4142 - val_accuracy: 0.9333\n",
      "Epoch 154/300\n",
      "41/41 [==============================] - 0s 4ms/step - loss: 0.4616 - accuracy: 0.8667 - val_loss: 0.4253 - val_accuracy: 0.8889\n",
      "Epoch 155/300\n",
      "41/41 [==============================] - 0s 4ms/step - loss: 0.4554 - accuracy: 0.8617 - val_loss: 0.4073 - val_accuracy: 0.9333\n",
      "Epoch 156/300\n",
      "41/41 [==============================] - 0s 4ms/step - loss: 0.4577 - accuracy: 0.8642 - val_loss: 0.4272 - val_accuracy: 0.8889\n",
      "Epoch 157/300\n",
      "41/41 [==============================] - 0s 4ms/step - loss: 0.4469 - accuracy: 0.8840 - val_loss: 0.4003 - val_accuracy: 0.9556\n",
      "Epoch 158/300\n",
      "41/41 [==============================] - 0s 4ms/step - loss: 0.4487 - accuracy: 0.8790 - val_loss: 0.4219 - val_accuracy: 0.9111\n",
      "Epoch 159/300\n",
      "41/41 [==============================] - 0s 4ms/step - loss: 0.4455 - accuracy: 0.8741 - val_loss: 0.4234 - val_accuracy: 0.8889\n",
      "Epoch 160/300\n",
      "41/41 [==============================] - 0s 4ms/step - loss: 0.4409 - accuracy: 0.8765 - val_loss: 0.4494 - val_accuracy: 0.8889\n",
      "Epoch 161/300\n",
      "41/41 [==============================] - 0s 4ms/step - loss: 0.4448 - accuracy: 0.8716 - val_loss: 0.4179 - val_accuracy: 0.8889\n",
      "Epoch 162/300\n",
      "41/41 [==============================] - 0s 4ms/step - loss: 0.4381 - accuracy: 0.8716 - val_loss: 0.4137 - val_accuracy: 0.8889\n",
      "Epoch 163/300\n",
      "41/41 [==============================] - 0s 4ms/step - loss: 0.4356 - accuracy: 0.8815 - val_loss: 0.3926 - val_accuracy: 0.9111\n",
      "Epoch 164/300\n",
      "41/41 [==============================] - 0s 4ms/step - loss: 0.4329 - accuracy: 0.8741 - val_loss: 0.4525 - val_accuracy: 0.8667\n",
      "Epoch 165/300\n",
      "41/41 [==============================] - 0s 4ms/step - loss: 0.4353 - accuracy: 0.8667 - val_loss: 0.4139 - val_accuracy: 0.8889\n",
      "Epoch 166/300\n",
      "41/41 [==============================] - 0s 4ms/step - loss: 0.4270 - accuracy: 0.8840 - val_loss: 0.4833 - val_accuracy: 0.8667\n",
      "Epoch 167/300\n",
      "41/41 [==============================] - 0s 4ms/step - loss: 0.4309 - accuracy: 0.8691 - val_loss: 0.3875 - val_accuracy: 0.9111\n",
      "Epoch 168/300\n",
      "41/41 [==============================] - 0s 4ms/step - loss: 0.4265 - accuracy: 0.8815 - val_loss: 0.3773 - val_accuracy: 0.9333\n",
      "Epoch 169/300\n",
      "41/41 [==============================] - 0s 4ms/step - loss: 0.4264 - accuracy: 0.8667 - val_loss: 0.4144 - val_accuracy: 0.8889\n",
      "Epoch 170/300\n",
      "41/41 [==============================] - 0s 4ms/step - loss: 0.4213 - accuracy: 0.8790 - val_loss: 0.3966 - val_accuracy: 0.8667\n",
      "Epoch 171/300\n",
      "41/41 [==============================] - 0s 4ms/step - loss: 0.4245 - accuracy: 0.8840 - val_loss: 0.3644 - val_accuracy: 0.9333\n",
      "Epoch 172/300\n",
      "41/41 [==============================] - 0s 4ms/step - loss: 0.4142 - accuracy: 0.8988 - val_loss: 0.3525 - val_accuracy: 0.9333\n",
      "Epoch 173/300\n"
     ]
    },
    {
     "name": "stdout",
     "output_type": "stream",
     "text": [
      "41/41 [==============================] - 0s 4ms/step - loss: 0.4228 - accuracy: 0.8914 - val_loss: 0.4134 - val_accuracy: 0.8889\n",
      "Epoch 174/300\n",
      "41/41 [==============================] - 0s 4ms/step - loss: 0.4154 - accuracy: 0.8840 - val_loss: 0.3855 - val_accuracy: 0.9111\n",
      "Epoch 175/300\n",
      "41/41 [==============================] - 0s 4ms/step - loss: 0.4117 - accuracy: 0.8790 - val_loss: 0.4262 - val_accuracy: 0.8889\n",
      "Epoch 176/300\n",
      "41/41 [==============================] - 0s 4ms/step - loss: 0.4121 - accuracy: 0.8914 - val_loss: 0.3833 - val_accuracy: 0.9111\n",
      "Epoch 177/300\n",
      "41/41 [==============================] - 0s 4ms/step - loss: 0.4135 - accuracy: 0.8938 - val_loss: 0.3843 - val_accuracy: 0.9111\n",
      "Epoch 178/300\n",
      "41/41 [==============================] - 0s 4ms/step - loss: 0.4080 - accuracy: 0.8790 - val_loss: 0.4184 - val_accuracy: 0.8889\n",
      "Epoch 179/300\n",
      "41/41 [==============================] - 0s 4ms/step - loss: 0.4069 - accuracy: 0.8840 - val_loss: 0.3649 - val_accuracy: 0.9333\n",
      "Epoch 180/300\n",
      "41/41 [==============================] - 0s 4ms/step - loss: 0.4048 - accuracy: 0.8864 - val_loss: 0.3421 - val_accuracy: 0.9556\n",
      "Epoch 181/300\n",
      "41/41 [==============================] - 0s 4ms/step - loss: 0.4077 - accuracy: 0.8716 - val_loss: 0.3810 - val_accuracy: 0.8889\n",
      "Epoch 182/300\n",
      "41/41 [==============================] - 0s 4ms/step - loss: 0.4064 - accuracy: 0.8889 - val_loss: 0.3810 - val_accuracy: 0.8889\n",
      "Epoch 183/300\n",
      "41/41 [==============================] - 0s 4ms/step - loss: 0.4027 - accuracy: 0.8815 - val_loss: 0.3501 - val_accuracy: 0.9333\n",
      "Epoch 184/300\n",
      "41/41 [==============================] - 0s 4ms/step - loss: 0.4007 - accuracy: 0.8815 - val_loss: 0.3459 - val_accuracy: 0.9111\n",
      "Epoch 185/300\n",
      "41/41 [==============================] - 0s 4ms/step - loss: 0.4022 - accuracy: 0.8963 - val_loss: 0.3717 - val_accuracy: 0.9111\n",
      "Epoch 186/300\n",
      "41/41 [==============================] - 0s 4ms/step - loss: 0.4040 - accuracy: 0.8840 - val_loss: 0.3640 - val_accuracy: 0.9111\n",
      "Epoch 187/300\n",
      "41/41 [==============================] - 0s 4ms/step - loss: 0.3999 - accuracy: 0.8938 - val_loss: 0.4355 - val_accuracy: 0.8889\n",
      "Epoch 188/300\n",
      "41/41 [==============================] - 0s 5ms/step - loss: 0.3999 - accuracy: 0.8889 - val_loss: 0.3846 - val_accuracy: 0.9111\n",
      "Epoch 189/300\n",
      "41/41 [==============================] - 0s 4ms/step - loss: 0.3967 - accuracy: 0.8840 - val_loss: 0.4065 - val_accuracy: 0.8889\n",
      "Epoch 190/300\n",
      "41/41 [==============================] - 0s 4ms/step - loss: 0.3962 - accuracy: 0.9012 - val_loss: 0.3376 - val_accuracy: 0.9333\n",
      "Epoch 191/300\n",
      "41/41 [==============================] - 0s 4ms/step - loss: 0.3946 - accuracy: 0.8914 - val_loss: 0.3566 - val_accuracy: 0.9111\n",
      "Epoch 192/300\n",
      "41/41 [==============================] - 0s 4ms/step - loss: 0.3921 - accuracy: 0.8988 - val_loss: 0.3413 - val_accuracy: 0.9333\n",
      "Epoch 193/300\n",
      "41/41 [==============================] - 0s 4ms/step - loss: 0.3909 - accuracy: 0.8988 - val_loss: 0.3357 - val_accuracy: 0.9556\n",
      "Epoch 194/300\n",
      "41/41 [==============================] - 0s 4ms/step - loss: 0.3897 - accuracy: 0.8914 - val_loss: 0.3424 - val_accuracy: 0.9111\n",
      "Epoch 195/300\n",
      "41/41 [==============================] - 0s 4ms/step - loss: 0.3976 - accuracy: 0.8938 - val_loss: 0.3550 - val_accuracy: 0.9111\n",
      "Epoch 196/300\n",
      "41/41 [==============================] - 0s 4ms/step - loss: 0.3857 - accuracy: 0.8840 - val_loss: 0.3294 - val_accuracy: 0.9333\n",
      "Epoch 197/300\n",
      "41/41 [==============================] - 0s 4ms/step - loss: 0.3894 - accuracy: 0.8864 - val_loss: 0.3362 - val_accuracy: 0.9333\n",
      "Epoch 198/300\n",
      "41/41 [==============================] - 0s 4ms/step - loss: 0.3901 - accuracy: 0.8889 - val_loss: 0.3711 - val_accuracy: 0.8889\n",
      "Epoch 199/300\n",
      "41/41 [==============================] - 0s 4ms/step - loss: 0.3884 - accuracy: 0.8914 - val_loss: 0.3320 - val_accuracy: 0.9333\n",
      "Epoch 200/300\n",
      "41/41 [==============================] - 0s 4ms/step - loss: 0.3881 - accuracy: 0.8963 - val_loss: 0.3317 - val_accuracy: 0.9333\n",
      "Epoch 201/300\n",
      "41/41 [==============================] - 0s 4ms/step - loss: 0.3882 - accuracy: 0.8815 - val_loss: 0.3269 - val_accuracy: 0.9333\n",
      "Epoch 202/300\n",
      "41/41 [==============================] - 0s 4ms/step - loss: 0.3850 - accuracy: 0.8988 - val_loss: 0.3462 - val_accuracy: 0.9111\n",
      "Epoch 203/300\n",
      "41/41 [==============================] - 0s 4ms/step - loss: 0.3815 - accuracy: 0.8889 - val_loss: 0.3418 - val_accuracy: 0.9111\n",
      "Epoch 204/300\n",
      "41/41 [==============================] - 0s 4ms/step - loss: 0.3857 - accuracy: 0.8864 - val_loss: 0.3221 - val_accuracy: 0.9333\n",
      "Epoch 205/300\n",
      "41/41 [==============================] - 0s 4ms/step - loss: 0.3821 - accuracy: 0.8988 - val_loss: 0.3190 - val_accuracy: 0.9111\n",
      "Epoch 206/300\n",
      "41/41 [==============================] - 0s 4ms/step - loss: 0.3864 - accuracy: 0.8988 - val_loss: 0.3256 - val_accuracy: 0.9111\n",
      "Epoch 207/300\n",
      "41/41 [==============================] - 0s 4ms/step - loss: 0.3841 - accuracy: 0.8914 - val_loss: 0.3565 - val_accuracy: 0.8667\n",
      "Epoch 208/300\n",
      "41/41 [==============================] - 0s 4ms/step - loss: 0.3839 - accuracy: 0.8864 - val_loss: 0.4125 - val_accuracy: 0.8889\n",
      "Epoch 209/300\n",
      "41/41 [==============================] - 0s 4ms/step - loss: 0.3803 - accuracy: 0.8938 - val_loss: 0.3324 - val_accuracy: 0.9333\n",
      "Epoch 210/300\n",
      "41/41 [==============================] - 0s 4ms/step - loss: 0.3888 - accuracy: 0.8840 - val_loss: 0.3692 - val_accuracy: 0.8889\n",
      "Epoch 211/300\n",
      "41/41 [==============================] - 0s 4ms/step - loss: 0.3760 - accuracy: 0.9037 - val_loss: 0.3664 - val_accuracy: 0.9111\n",
      "Epoch 212/300\n",
      "41/41 [==============================] - 0s 4ms/step - loss: 0.3752 - accuracy: 0.8840 - val_loss: 0.3469 - val_accuracy: 0.9111\n",
      "Epoch 213/300\n",
      "41/41 [==============================] - 0s 4ms/step - loss: 0.3808 - accuracy: 0.8938 - val_loss: 0.3247 - val_accuracy: 0.9111\n",
      "Epoch 214/300\n",
      "41/41 [==============================] - 0s 4ms/step - loss: 0.3748 - accuracy: 0.8840 - val_loss: 0.3049 - val_accuracy: 0.9556\n",
      "Epoch 215/300\n",
      "41/41 [==============================] - 0s 4ms/step - loss: 0.3686 - accuracy: 0.9037 - val_loss: 0.3728 - val_accuracy: 0.8889\n",
      "Epoch 216/300\n",
      "41/41 [==============================] - 0s 4ms/step - loss: 0.3748 - accuracy: 0.8988 - val_loss: 0.3280 - val_accuracy: 0.9111\n",
      "Epoch 217/300\n",
      "41/41 [==============================] - 0s 4ms/step - loss: 0.3729 - accuracy: 0.8988 - val_loss: 0.3465 - val_accuracy: 0.9111\n",
      "Epoch 218/300\n",
      "41/41 [==============================] - 0s 4ms/step - loss: 0.3761 - accuracy: 0.8815 - val_loss: 0.3883 - val_accuracy: 0.8889\n",
      "Epoch 219/300\n",
      "41/41 [==============================] - 0s 4ms/step - loss: 0.3712 - accuracy: 0.8988 - val_loss: 0.3619 - val_accuracy: 0.8889\n",
      "Epoch 220/300\n",
      "41/41 [==============================] - 0s 4ms/step - loss: 0.3676 - accuracy: 0.8914 - val_loss: 0.3114 - val_accuracy: 0.9556\n",
      "Epoch 221/300\n",
      "41/41 [==============================] - 0s 4ms/step - loss: 0.3714 - accuracy: 0.8988 - val_loss: 0.3705 - val_accuracy: 0.8667\n",
      "Epoch 222/300\n",
      "41/41 [==============================] - 0s 4ms/step - loss: 0.3672 - accuracy: 0.9012 - val_loss: 0.3335 - val_accuracy: 0.9111\n",
      "Epoch 223/300\n",
      "41/41 [==============================] - 0s 4ms/step - loss: 0.3554 - accuracy: 0.9062 - val_loss: 0.2946 - val_accuracy: 0.9333\n",
      "Epoch 224/300\n",
      "41/41 [==============================] - 0s 5ms/step - loss: 0.3748 - accuracy: 0.8790 - val_loss: 0.3282 - val_accuracy: 0.9111\n",
      "Epoch 225/300\n",
      "41/41 [==============================] - 0s 4ms/step - loss: 0.3711 - accuracy: 0.8889 - val_loss: 0.3237 - val_accuracy: 0.9333\n",
      "Epoch 226/300\n",
      "41/41 [==============================] - 0s 4ms/step - loss: 0.3634 - accuracy: 0.8963 - val_loss: 0.3412 - val_accuracy: 0.8889\n",
      "Epoch 227/300\n",
      "41/41 [==============================] - 0s 6ms/step - loss: 0.3639 - accuracy: 0.8938 - val_loss: 0.3346 - val_accuracy: 0.9111\n",
      "Epoch 228/300\n",
      "41/41 [==============================] - 0s 5ms/step - loss: 0.3723 - accuracy: 0.8938 - val_loss: 0.4004 - val_accuracy: 0.8889\n",
      "Epoch 229/300\n",
      "41/41 [==============================] - 0s 5ms/step - loss: 0.3701 - accuracy: 0.8914 - val_loss: 0.3242 - val_accuracy: 0.9111\n",
      "Epoch 230/300\n"
     ]
    },
    {
     "name": "stdout",
     "output_type": "stream",
     "text": [
      "41/41 [==============================] - 0s 6ms/step - loss: 0.3628 - accuracy: 0.8938 - val_loss: 0.3263 - val_accuracy: 0.9111\n",
      "Epoch 231/300\n",
      "41/41 [==============================] - 0s 5ms/step - loss: 0.3692 - accuracy: 0.8840 - val_loss: 0.2970 - val_accuracy: 0.9556\n",
      "Epoch 232/300\n",
      "41/41 [==============================] - 0s 6ms/step - loss: 0.3636 - accuracy: 0.8938 - val_loss: 0.3351 - val_accuracy: 0.9111\n",
      "Epoch 233/300\n",
      "41/41 [==============================] - 0s 5ms/step - loss: 0.3615 - accuracy: 0.8988 - val_loss: 0.3834 - val_accuracy: 0.8889\n",
      "Epoch 234/300\n",
      "41/41 [==============================] - 0s 4ms/step - loss: 0.3617 - accuracy: 0.8963 - val_loss: 0.3273 - val_accuracy: 0.9111\n",
      "Epoch 235/300\n",
      "41/41 [==============================] - 0s 4ms/step - loss: 0.3610 - accuracy: 0.9012 - val_loss: 0.3523 - val_accuracy: 0.8889\n",
      "Epoch 236/300\n",
      "41/41 [==============================] - 0s 4ms/step - loss: 0.3613 - accuracy: 0.8914 - val_loss: 0.2936 - val_accuracy: 0.9333\n",
      "Epoch 237/300\n",
      "41/41 [==============================] - 0s 5ms/step - loss: 0.3599 - accuracy: 0.8963 - val_loss: 0.3504 - val_accuracy: 0.9111\n",
      "Epoch 238/300\n",
      "41/41 [==============================] - 0s 5ms/step - loss: 0.3620 - accuracy: 0.8963 - val_loss: 0.3446 - val_accuracy: 0.9111\n",
      "Epoch 239/300\n",
      "41/41 [==============================] - 0s 5ms/step - loss: 0.3629 - accuracy: 0.8963 - val_loss: 0.3334 - val_accuracy: 0.9111\n",
      "Epoch 240/300\n",
      "41/41 [==============================] - 0s 5ms/step - loss: 0.3583 - accuracy: 0.9012 - val_loss: 0.3165 - val_accuracy: 0.9111\n",
      "Epoch 241/300\n",
      "41/41 [==============================] - 0s 5ms/step - loss: 0.3566 - accuracy: 0.9062 - val_loss: 0.3090 - val_accuracy: 0.9556\n",
      "Epoch 242/300\n",
      "41/41 [==============================] - 0s 5ms/step - loss: 0.3641 - accuracy: 0.8864 - val_loss: 0.3592 - val_accuracy: 0.8889\n",
      "Epoch 243/300\n",
      "41/41 [==============================] - 0s 4ms/step - loss: 0.3587 - accuracy: 0.8864 - val_loss: 0.3371 - val_accuracy: 0.9111\n",
      "Epoch 244/300\n",
      "41/41 [==============================] - 0s 5ms/step - loss: 0.3584 - accuracy: 0.8914 - val_loss: 0.2854 - val_accuracy: 0.9556\n",
      "Epoch 245/300\n",
      "41/41 [==============================] - 0s 6ms/step - loss: 0.3553 - accuracy: 0.8988 - val_loss: 0.3541 - val_accuracy: 0.8889\n",
      "Epoch 246/300\n",
      "41/41 [==============================] - 0s 4ms/step - loss: 0.3583 - accuracy: 0.8938 - val_loss: 0.3011 - val_accuracy: 0.9111\n",
      "Epoch 247/300\n",
      "41/41 [==============================] - 0s 4ms/step - loss: 0.3527 - accuracy: 0.9062 - val_loss: 0.3439 - val_accuracy: 0.8889\n",
      "Epoch 248/300\n",
      "41/41 [==============================] - 0s 4ms/step - loss: 0.3505 - accuracy: 0.9111 - val_loss: 0.3691 - val_accuracy: 0.8889\n",
      "Epoch 249/300\n",
      "41/41 [==============================] - 0s 4ms/step - loss: 0.3530 - accuracy: 0.9136 - val_loss: 0.3543 - val_accuracy: 0.8889\n",
      "Epoch 250/300\n",
      "41/41 [==============================] - 0s 4ms/step - loss: 0.3541 - accuracy: 0.8988 - val_loss: 0.3056 - val_accuracy: 0.9111\n",
      "Epoch 251/300\n",
      "41/41 [==============================] - 0s 4ms/step - loss: 0.3575 - accuracy: 0.9062 - val_loss: 0.3419 - val_accuracy: 0.9111\n",
      "Epoch 252/300\n",
      "41/41 [==============================] - 0s 4ms/step - loss: 0.3541 - accuracy: 0.8938 - val_loss: 0.2898 - val_accuracy: 0.9333\n",
      "Epoch 253/300\n",
      "41/41 [==============================] - 0s 4ms/step - loss: 0.3519 - accuracy: 0.8864 - val_loss: 0.3083 - val_accuracy: 0.9333\n",
      "Epoch 254/300\n",
      "41/41 [==============================] - 0s 5ms/step - loss: 0.3529 - accuracy: 0.9111 - val_loss: 0.3778 - val_accuracy: 0.8667\n",
      "Epoch 255/300\n",
      "41/41 [==============================] - 0s 5ms/step - loss: 0.3521 - accuracy: 0.9012 - val_loss: 0.2756 - val_accuracy: 0.9556\n",
      "Epoch 256/300\n",
      "41/41 [==============================] - 0s 5ms/step - loss: 0.3598 - accuracy: 0.8914 - val_loss: 0.3838 - val_accuracy: 0.8889\n",
      "Epoch 257/300\n",
      "41/41 [==============================] - 0s 4ms/step - loss: 0.3515 - accuracy: 0.9037 - val_loss: 0.2814 - val_accuracy: 0.9556\n",
      "Epoch 258/300\n",
      "41/41 [==============================] - 0s 4ms/step - loss: 0.3490 - accuracy: 0.8988 - val_loss: 0.2889 - val_accuracy: 0.9556\n",
      "Epoch 259/300\n",
      "41/41 [==============================] - 0s 4ms/step - loss: 0.3530 - accuracy: 0.8840 - val_loss: 0.3958 - val_accuracy: 0.8667\n",
      "Epoch 260/300\n",
      "41/41 [==============================] - 0s 4ms/step - loss: 0.3530 - accuracy: 0.8914 - val_loss: 0.3186 - val_accuracy: 0.9111\n",
      "Epoch 261/300\n",
      "41/41 [==============================] - 0s 4ms/step - loss: 0.3451 - accuracy: 0.9012 - val_loss: 0.3092 - val_accuracy: 0.9333\n",
      "Epoch 262/300\n",
      "41/41 [==============================] - 0s 4ms/step - loss: 0.3424 - accuracy: 0.9086 - val_loss: 0.2792 - val_accuracy: 0.9778\n",
      "Epoch 263/300\n",
      "41/41 [==============================] - 0s 4ms/step - loss: 0.3466 - accuracy: 0.8963 - val_loss: 0.3810 - val_accuracy: 0.8889\n",
      "Epoch 264/300\n",
      "41/41 [==============================] - 0s 4ms/step - loss: 0.3463 - accuracy: 0.8914 - val_loss: 0.3009 - val_accuracy: 0.9111\n",
      "Epoch 265/300\n",
      "41/41 [==============================] - 0s 4ms/step - loss: 0.3517 - accuracy: 0.8889 - val_loss: 0.3062 - val_accuracy: 0.9333\n",
      "Epoch 266/300\n",
      "41/41 [==============================] - 0s 4ms/step - loss: 0.3556 - accuracy: 0.8914 - val_loss: 0.2984 - val_accuracy: 0.9333\n",
      "Epoch 267/300\n",
      "41/41 [==============================] - 0s 5ms/step - loss: 0.3488 - accuracy: 0.9037 - val_loss: 0.3277 - val_accuracy: 0.9111\n",
      "Epoch 268/300\n",
      "41/41 [==============================] - 0s 4ms/step - loss: 0.3521 - accuracy: 0.9012 - val_loss: 0.3025 - val_accuracy: 0.9333\n",
      "Epoch 269/300\n",
      "41/41 [==============================] - 0s 4ms/step - loss: 0.3435 - accuracy: 0.8963 - val_loss: 0.3287 - val_accuracy: 0.9333\n",
      "Epoch 270/300\n",
      "41/41 [==============================] - 0s 4ms/step - loss: 0.3466 - accuracy: 0.8889 - val_loss: 0.3337 - val_accuracy: 0.9111\n",
      "Epoch 271/300\n",
      "41/41 [==============================] - 0s 4ms/step - loss: 0.3529 - accuracy: 0.9062 - val_loss: 0.3247 - val_accuracy: 0.9111\n",
      "Epoch 272/300\n",
      "41/41 [==============================] - 0s 4ms/step - loss: 0.3443 - accuracy: 0.8988 - val_loss: 0.3423 - val_accuracy: 0.8889\n",
      "Epoch 273/300\n",
      "41/41 [==============================] - 0s 4ms/step - loss: 0.3395 - accuracy: 0.9037 - val_loss: 0.2937 - val_accuracy: 0.9556\n",
      "Epoch 274/300\n",
      "41/41 [==============================] - 0s 4ms/step - loss: 0.3442 - accuracy: 0.8963 - val_loss: 0.3529 - val_accuracy: 0.9111\n",
      "Epoch 275/300\n",
      "41/41 [==============================] - 0s 4ms/step - loss: 0.3400 - accuracy: 0.9037 - val_loss: 0.3203 - val_accuracy: 0.9333\n",
      "Epoch 276/300\n",
      "41/41 [==============================] - 0s 4ms/step - loss: 0.3394 - accuracy: 0.8963 - val_loss: 0.3271 - val_accuracy: 0.9111\n",
      "Epoch 277/300\n",
      "41/41 [==============================] - 0s 4ms/step - loss: 0.3426 - accuracy: 0.9062 - val_loss: 0.3821 - val_accuracy: 0.8889\n",
      "Epoch 278/300\n",
      "41/41 [==============================] - 0s 4ms/step - loss: 0.3393 - accuracy: 0.8938 - val_loss: 0.3585 - val_accuracy: 0.9111\n",
      "Epoch 279/300\n",
      "41/41 [==============================] - 0s 4ms/step - loss: 0.3505 - accuracy: 0.8938 - val_loss: 0.2626 - val_accuracy: 0.9778\n",
      "Epoch 280/300\n",
      "41/41 [==============================] - 0s 4ms/step - loss: 0.3424 - accuracy: 0.8938 - val_loss: 0.3201 - val_accuracy: 0.8889\n",
      "Epoch 281/300\n",
      "41/41 [==============================] - 0s 4ms/step - loss: 0.3402 - accuracy: 0.8988 - val_loss: 0.3255 - val_accuracy: 0.9111\n",
      "Epoch 282/300\n",
      "41/41 [==============================] - 0s 4ms/step - loss: 0.3382 - accuracy: 0.8988 - val_loss: 0.3171 - val_accuracy: 0.9111\n",
      "Epoch 283/300\n",
      "41/41 [==============================] - 0s 4ms/step - loss: 0.3429 - accuracy: 0.8938 - val_loss: 0.3471 - val_accuracy: 0.9111\n",
      "Epoch 284/300\n",
      "41/41 [==============================] - 0s 4ms/step - loss: 0.3407 - accuracy: 0.8963 - val_loss: 0.3000 - val_accuracy: 0.9333\n",
      "Epoch 285/300\n",
      "41/41 [==============================] - 0s 4ms/step - loss: 0.3368 - accuracy: 0.9086 - val_loss: 0.3390 - val_accuracy: 0.9111\n",
      "Epoch 286/300\n",
      "41/41 [==============================] - 0s 4ms/step - loss: 0.3373 - accuracy: 0.9037 - val_loss: 0.3074 - val_accuracy: 0.9556\n",
      "Epoch 287/300\n"
     ]
    },
    {
     "name": "stdout",
     "output_type": "stream",
     "text": [
      "41/41 [==============================] - 0s 4ms/step - loss: 0.3444 - accuracy: 0.8938 - val_loss: 0.2936 - val_accuracy: 0.9333\n",
      "Epoch 288/300\n",
      "41/41 [==============================] - 0s 4ms/step - loss: 0.3382 - accuracy: 0.8963 - val_loss: 0.3386 - val_accuracy: 0.9111\n",
      "Epoch 289/300\n",
      "41/41 [==============================] - 0s 4ms/step - loss: 0.3307 - accuracy: 0.9062 - val_loss: 0.3144 - val_accuracy: 0.9111\n",
      "Epoch 290/300\n",
      "41/41 [==============================] - 0s 4ms/step - loss: 0.3387 - accuracy: 0.8914 - val_loss: 0.3981 - val_accuracy: 0.8889\n",
      "Epoch 291/300\n",
      "41/41 [==============================] - 0s 4ms/step - loss: 0.3317 - accuracy: 0.9012 - val_loss: 0.2951 - val_accuracy: 0.9556\n",
      "Epoch 292/300\n",
      "41/41 [==============================] - 0s 4ms/step - loss: 0.3330 - accuracy: 0.9185 - val_loss: 0.2970 - val_accuracy: 0.9111\n",
      "Epoch 293/300\n",
      "41/41 [==============================] - 0s 4ms/step - loss: 0.3365 - accuracy: 0.9012 - val_loss: 0.2991 - val_accuracy: 0.9111\n",
      "Epoch 294/300\n",
      "41/41 [==============================] - 0s 4ms/step - loss: 0.3368 - accuracy: 0.9012 - val_loss: 0.2927 - val_accuracy: 0.9333\n",
      "Epoch 295/300\n",
      "41/41 [==============================] - 0s 4ms/step - loss: 0.3352 - accuracy: 0.9012 - val_loss: 0.3866 - val_accuracy: 0.8889\n",
      "Epoch 296/300\n",
      "41/41 [==============================] - 0s 4ms/step - loss: 0.3323 - accuracy: 0.8938 - val_loss: 0.3140 - val_accuracy: 0.9111\n",
      "Epoch 297/300\n",
      "41/41 [==============================] - 0s 4ms/step - loss: 0.3375 - accuracy: 0.8963 - val_loss: 0.3004 - val_accuracy: 0.9111\n",
      "Epoch 298/300\n",
      "41/41 [==============================] - 0s 4ms/step - loss: 0.3309 - accuracy: 0.9160 - val_loss: 0.3011 - val_accuracy: 0.9333\n",
      "Epoch 299/300\n",
      "41/41 [==============================] - 0s 4ms/step - loss: 0.3310 - accuracy: 0.8988 - val_loss: 0.3206 - val_accuracy: 0.9333\n",
      "Epoch 300/300\n",
      "41/41 [==============================] - 0s 4ms/step - loss: 0.3304 - accuracy: 0.9062 - val_loss: 0.2719 - val_accuracy: 0.9778\n"
     ]
    }
   ],
   "source": [
    "model.compile(loss=\"binary_crossentropy\",optimizer=SGD(0.01),metrics=[\"accuracy\"])\n",
    "history=model.fit(x_train,y_train,batch_size=10,epochs=300,validation_split=0.1)  "
   ]
  },
  {
   "cell_type": "code",
   "execution_count": 15,
   "id": "477cd9f7",
   "metadata": {},
   "outputs": [
    {
     "data": {
      "text/plain": [
       "<matplotlib.legend.Legend at 0x13045fba880>"
      ]
     },
     "execution_count": 15,
     "metadata": {},
     "output_type": "execute_result"
    },
    {
     "data": {
      "image/png": "[encoded data removed]",
      "text/plain": [
       "<Figure size 640x480 with 1 Axes>"
      ]
     },
     "metadata": {},
     "output_type": "display_data"
    }
   ],
   "source": [
    "plt.plot(range(1,301),history.history[\"loss\"],label=\"train_loss\")\n",
    "plt.plot(range(1,301),history.history[\"val_loss\"],label=\"test_loss\") \n",
    "plt.legend() "
   ]
  },
  {
   "cell_type": "markdown",
   "id": "f0fda2cd",
   "metadata": {},
   "source": [
    "## Predicting the model "
   ]
  },
  {
   "cell_type": "code",
   "execution_count": 16,
   "id": "2dde5cec",
   "metadata": {},
   "outputs": [
    {
     "name": "stdout",
     "output_type": "stream",
     "text": [
      "2/2 [==============================] - 0s 5ms/step\n"
     ]
    },
    {
     "data": {
      "text/plain": [
       "array([[2.3833074e-04],\n",
       "       [2.4597545e-03],\n",
       "       [3.0969158e-01],\n",
       "       [1.7604256e-02],\n",
       "       [9.9891168e-01],\n",
       "       [1.1336533e-04],\n",
       "       [9.8477322e-01],\n",
       "       [2.8047647e-02],\n",
       "       [1.3355721e-02],\n",
       "       [8.7293071e-01],\n",
       "       [5.6019783e-01],\n",
       "       [1.5054084e-01],\n",
       "       [9.8534220e-01],\n",
       "       [9.9028254e-01],\n",
       "       [9.8749733e-01],\n",
       "       [2.1743868e-04],\n",
       "       [6.4290591e-02],\n",
       "       [3.0457485e-02],\n",
       "       [1.0770039e-02],\n",
       "       [2.9992047e-01],\n",
       "       [9.5669168e-01],\n",
       "       [3.2330904e-02],\n",
       "       [2.9234178e-03],\n",
       "       [2.9215364e-02],\n",
       "       [3.2521903e-08],\n",
       "       [9.8969334e-01],\n",
       "       [4.4200844e-01],\n",
       "       [7.3368717e-03],\n",
       "       [5.8949400e-02],\n",
       "       [5.5453467e-01],\n",
       "       [7.4561000e-01],\n",
       "       [5.3998047e-01],\n",
       "       [2.8791398e-01],\n",
       "       [7.0369822e-01],\n",
       "       [3.5707874e-03],\n",
       "       [2.9504582e-01],\n",
       "       [9.8510069e-01],\n",
       "       [1.3571204e-01],\n",
       "       [9.2976447e-03],\n",
       "       [7.0134693e-01],\n",
       "       [1.8193215e-01],\n",
       "       [7.1137451e-02],\n",
       "       [9.2747939e-01],\n",
       "       [9.9010879e-01],\n",
       "       [6.5529132e-01],\n",
       "       [8.9297873e-01],\n",
       "       [7.3607177e-01],\n",
       "       [6.5545947e-03],\n",
       "       [3.2373789e-01],\n",
       "       [4.2154208e-01]], dtype=float32)"
      ]
     },
     "execution_count": 16,
     "metadata": {},
     "output_type": "execute_result"
    }
   ],
   "source": [
    "predicted=model.predict(x_test) \n",
    "predicted  "
   ]
  },
  {
   "cell_type": "code",
   "execution_count": 17,
   "id": "a02289ea",
   "metadata": {},
   "outputs": [
    {
     "data": {
      "text/plain": [
       "array([[0],\n",
       "       [0],\n",
       "       [0],\n",
       "       [0],\n",
       "       [1],\n",
       "       [0],\n",
       "       [1],\n",
       "       [0],\n",
       "       [0],\n",
       "       [1],\n",
       "       [1],\n",
       "       [0],\n",
       "       [1],\n",
       "       [1],\n",
       "       [1],\n",
       "       [0],\n",
       "       [0],\n",
       "       [0],\n",
       "       [0],\n",
       "       [0],\n",
       "       [1],\n",
       "       [0],\n",
       "       [0],\n",
       "       [0],\n",
       "       [0],\n",
       "       [1],\n",
       "       [0],\n",
       "       [0],\n",
       "       [0],\n",
       "       [1],\n",
       "       [1],\n",
       "       [1],\n",
       "       [0],\n",
       "       [1],\n",
       "       [0],\n",
       "       [0],\n",
       "       [1],\n",
       "       [0],\n",
       "       [0],\n",
       "       [1],\n",
       "       [0],\n",
       "       [0],\n",
       "       [1],\n",
       "       [1],\n",
       "       [1],\n",
       "       [1],\n",
       "       [1],\n",
       "       [0],\n",
       "       [0],\n",
       "       [0]])"
      ]
     },
     "execution_count": 17,
     "metadata": {},
     "output_type": "execute_result"
    }
   ],
   "source": [
    "predicted=np.where(predicted>0.5,1,0)\n",
    "predicted  "
   ]
  },
  {
   "cell_type": "markdown",
   "id": "99bcc7c8",
   "metadata": {},
   "source": [
    "## Evaluating the model "
   ]
  },
  {
   "cell_type": "code",
   "execution_count": 18,
   "id": "0d0fdeeb",
   "metadata": {},
   "outputs": [
    {
     "name": "stdout",
     "output_type": "stream",
     "text": [
      "0.86\n"
     ]
    },
    {
     "data": {
      "image/png": "[encoded data removed]",
      "text/plain": [
       "<Figure size 640x480 with 2 Axes>"
      ]
     },
     "metadata": {},
     "output_type": "display_data"
    }
   ],
   "source": [
    "from sklearn.metrics import accuracy_score,confusion_matrix,ConfusionMatrixDisplay\n",
    "print(accuracy_score(y_test,predicted))\n",
    "cm=confusion_matrix(y_test,predicted)\n",
    "va=ConfusionMatrixDisplay(cm)\n",
    "va.plot() \n",
    "plt.show() "
   ]
  },
  {
   "cell_type": "markdown",
   "id": "c88a670e",
   "metadata": {},
   "source": [
    "## PLOTING THE DECISION SURFACE "
   ]
  },
  {
   "cell_type": "code",
   "execution_count": 19,
   "id": "5040eb51",
   "metadata": {},
   "outputs": [],
   "source": [
    "from mlxtend.plotting  import plot_decision_regions  "
   ]
  },
  {
   "cell_type": "code",
   "execution_count": 20,
   "id": "b27b0565",
   "metadata": {},
   "outputs": [
    {
     "name": "stdout",
     "output_type": "stream",
     "text": [
      "9600/9600 [==============================] - 21s 2ms/step\n"
     ]
    },
    {
     "data": {
      "text/plain": [
       "<AxesSubplot:>"
      ]
     },
     "execution_count": 20,
     "metadata": {},
     "output_type": "execute_result"
    },
    {
     "data": {
      "image/png": "[encoded data removed]",
      "text/plain": [
       "<Figure size 640x480 with 1 Axes>"
      ]
     },
     "metadata": {},
     "output_type": "display_data"
    }
   ],
   "source": [
    "plot_decision_regions(x_train,y_train.values,clf=model)  "
   ]
  },
  {
   "cell_type": "code",
   "execution_count": 21,
   "id": "15b5afe2",
   "metadata": {},
   "outputs": [
    {
     "name": "stdout",
     "output_type": "stream",
     "text": [
      "9600/9600 [==============================] - 21s 2ms/step\n"
     ]
    },
    {
     "data": {
      "text/plain": [
       "<AxesSubplot:>"
      ]
     },
     "execution_count": 21,
     "metadata": {},
     "output_type": "execute_result"
    },
    {
     "data": {
      "image/png": "[encoded data removed]",
      "text/plain": [
       "<Figure size 640x480 with 1 Axes>"
      ]
     },
     "metadata": {},
     "output_type": "display_data"
    }
   ],
   "source": [
    "plot_decision_regions(x_test,y_test.values,clf=model) "
   ]
  },
  {
   "cell_type": "markdown",
   "id": "ac319eca",
   "metadata": {},
   "source": [
    "## Conclusions:\n",
    "\n",
    "###### This model achieves an accuracy of 90%. The model architecture consists of 3 hidden layers, Below are the mentioned Specifications\n",
    "\n",
    "- 1st HL:-18 neurons with the ReLU activation functions and L2 regularizer with a strength of 0.001.\n",
    "- 2nd HL:-16 neurons with the ReLU activation function and L2 regularizer with a strength of 0.001.\n",
    "- 3rd HL:-10 neurons with the ReLU activation function and L2 regularizer with a strength of 0.001.\n",
    "\n",
    "###### output layer :- sigmoid activation function.\n",
    "\n",
    "###### Loss function: Binary cross-entropy.\n",
    "- Optimizer: Stochastic Gradient Descent (SGD) with a batch size of 10 with learning rate of 0.01.\n",
    "- The model was trained for 300 epochs.\n",
    " "
   ]
  },
  {
   "cell_type": "code",
   "execution_count": null,
   "id": "0ecea9d4",
   "metadata": {},
   "outputs": [],
   "source": []
  }
 ],
 "metadata": {
  "kernelspec": {
   "display_name": "Python 3 (ipykernel)",
   "language": "python",
   "name": "python3"
  },
  "language_info": {
   "codemirror_mode": {
    "name": "ipython",
    "version": 3
   },
   "file_extension": ".py",
   "mimetype": "text/x-python",
   "name": "python",
   "nbconvert_exporter": "python",
   "pygments_lexer": "ipython3",
   "version": "3.9.13"
  }
 },
 "nbformat": 4,
 "nbformat_minor": 5
}
