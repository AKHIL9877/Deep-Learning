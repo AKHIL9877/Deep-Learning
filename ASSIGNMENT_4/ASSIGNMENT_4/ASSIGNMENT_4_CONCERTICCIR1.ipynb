{
 "cells": [
  {
   "cell_type": "markdown",
   "id": "f56e71fb",
   "metadata": {},
   "source": [
    "## Importing Libraries "
   ]
  },
  {
   "cell_type": "code",
   "execution_count": 1,
   "id": "756ecf44",
   "metadata": {},
   "outputs": [],
   "source": [
    "import numpy as np\n",
    "import pandas as pd  \n",
    "from sklearn.preprocessing import StandardScaler\n",
    "from sklearn.model_selection import train_test_split\n",
    "from keras import Sequential \n",
    "from keras.layers import Dense \n",
    "from keras.regularizers import L1,L2,L1L2 \n",
    "from keras.optimizers import SGD  \n",
    "import matplotlib.pyplot as plt "
   ]
  },
  {
   "cell_type": "markdown",
   "id": "30390514",
   "metadata": {},
   "source": [
    "## Importing the CSV file "
   ]
  },
  {
   "cell_type": "code",
   "execution_count": 32,
   "id": "a044e743",
   "metadata": {},
   "outputs": [
    {
     "data": {
      "text/html": [
       "<div>\n",
       "<style scoped>\n",
       "    .dataframe tbody tr th:only-of-type {\n",
       "        vertical-align: middle;\n",
       "    }\n",
       "\n",
       "    .dataframe tbody tr th {\n",
       "        vertical-align: top;\n",
       "    }\n",
       "\n",
       "    .dataframe thead th {\n",
       "        text-align: right;\n",
       "    }\n",
       "</style>\n",
       "<table border=\"1\" class=\"dataframe\">\n",
       "  <thead>\n",
       "    <tr style=\"text-align: right;\">\n",
       "      <th></th>\n",
       "      <th>0</th>\n",
       "      <th>1</th>\n",
       "      <th>2</th>\n",
       "    </tr>\n",
       "  </thead>\n",
       "  <tbody>\n",
       "    <tr>\n",
       "      <th>0</th>\n",
       "      <td>-0.382891</td>\n",
       "      <td>-0.090840</td>\n",
       "      <td>1.0</td>\n",
       "    </tr>\n",
       "    <tr>\n",
       "      <th>1</th>\n",
       "      <td>-0.020962</td>\n",
       "      <td>-0.477874</td>\n",
       "      <td>1.0</td>\n",
       "    </tr>\n",
       "    <tr>\n",
       "      <th>2</th>\n",
       "      <td>-0.396116</td>\n",
       "      <td>-1.289427</td>\n",
       "      <td>0.0</td>\n",
       "    </tr>\n",
       "    <tr>\n",
       "      <th>3</th>\n",
       "      <td>-0.618130</td>\n",
       "      <td>-0.063837</td>\n",
       "      <td>1.0</td>\n",
       "    </tr>\n",
       "    <tr>\n",
       "      <th>4</th>\n",
       "      <td>0.703478</td>\n",
       "      <td>-0.187038</td>\n",
       "      <td>1.0</td>\n",
       "    </tr>\n",
       "  </tbody>\n",
       "</table>\n",
       "</div>"
      ],
      "text/plain": [
       "          0         1    2\n",
       "0 -0.382891 -0.090840  1.0\n",
       "1 -0.020962 -0.477874  1.0\n",
       "2 -0.396116 -1.289427  0.0\n",
       "3 -0.618130 -0.063837  1.0\n",
       "4  0.703478 -0.187038  1.0"
      ]
     },
     "execution_count": 32,
     "metadata": {},
     "output_type": "execute_result"
    }
   ],
   "source": [
    "df=pd.read_csv(r\"C:\\Users\\hp\\Downloads\\ASSIGNMENT_4\\ASSIGNMENT_4\\Multiple CSV\\2.concerticcir1.csv\",header=None) \n",
    "df.head()   "
   ]
  },
  {
   "cell_type": "code",
   "execution_count": 33,
   "id": "5edd5186",
   "metadata": {},
   "outputs": [
    {
     "name": "stdout",
     "output_type": "stream",
     "text": [
      "<class 'pandas.core.frame.DataFrame'>\n",
      "RangeIndex: 100 entries, 0 to 99\n",
      "Data columns (total 3 columns):\n",
      " #   Column  Non-Null Count  Dtype  \n",
      "---  ------  --------------  -----  \n",
      " 0   0       100 non-null    float64\n",
      " 1   1       100 non-null    float64\n",
      " 2   2       100 non-null    float64\n",
      "dtypes: float64(3)\n",
      "memory usage: 2.5 KB\n"
     ]
    }
   ],
   "source": [
    "df.info() "
   ]
  },
  {
   "cell_type": "code",
   "execution_count": 34,
   "id": "0fb07a19",
   "metadata": {},
   "outputs": [
    {
     "data": {
      "text/plain": [
       "1.0    50\n",
       "0.0    50\n",
       "Name: 2, dtype: int64"
      ]
     },
     "execution_count": 34,
     "metadata": {},
     "output_type": "execute_result"
    }
   ],
   "source": [
    "df[2].value_counts() "
   ]
  },
  {
   "cell_type": "markdown",
   "id": "13f5b0f5",
   "metadata": {},
   "source": [
    "### Seperating the Input and Output Features"
   ]
  },
  {
   "cell_type": "code",
   "execution_count": 35,
   "id": "742672c9",
   "metadata": {},
   "outputs": [],
   "source": [
    "x=df.iloc[:,0:2]\n",
    "y=df.iloc[:,2].astype(int) "
   ]
  },
  {
   "cell_type": "code",
   "execution_count": 36,
   "id": "7301a154",
   "metadata": {},
   "outputs": [
    {
     "data": {
      "text/html": [
       "<div>\n",
       "<style scoped>\n",
       "    .dataframe tbody tr th:only-of-type {\n",
       "        vertical-align: middle;\n",
       "    }\n",
       "\n",
       "    .dataframe tbody tr th {\n",
       "        vertical-align: top;\n",
       "    }\n",
       "\n",
       "    .dataframe thead th {\n",
       "        text-align: right;\n",
       "    }\n",
       "</style>\n",
       "<table border=\"1\" class=\"dataframe\">\n",
       "  <thead>\n",
       "    <tr style=\"text-align: right;\">\n",
       "      <th></th>\n",
       "      <th>0</th>\n",
       "      <th>1</th>\n",
       "    </tr>\n",
       "  </thead>\n",
       "  <tbody>\n",
       "    <tr>\n",
       "      <th>0</th>\n",
       "      <td>-0.382891</td>\n",
       "      <td>-0.090840</td>\n",
       "    </tr>\n",
       "    <tr>\n",
       "      <th>1</th>\n",
       "      <td>-0.020962</td>\n",
       "      <td>-0.477874</td>\n",
       "    </tr>\n",
       "    <tr>\n",
       "      <th>2</th>\n",
       "      <td>-0.396116</td>\n",
       "      <td>-1.289427</td>\n",
       "    </tr>\n",
       "    <tr>\n",
       "      <th>3</th>\n",
       "      <td>-0.618130</td>\n",
       "      <td>-0.063837</td>\n",
       "    </tr>\n",
       "    <tr>\n",
       "      <th>4</th>\n",
       "      <td>0.703478</td>\n",
       "      <td>-0.187038</td>\n",
       "    </tr>\n",
       "  </tbody>\n",
       "</table>\n",
       "</div>"
      ],
      "text/plain": [
       "          0         1\n",
       "0 -0.382891 -0.090840\n",
       "1 -0.020962 -0.477874\n",
       "2 -0.396116 -1.289427\n",
       "3 -0.618130 -0.063837\n",
       "4  0.703478 -0.187038"
      ]
     },
     "execution_count": 36,
     "metadata": {},
     "output_type": "execute_result"
    }
   ],
   "source": [
    "x.head() "
   ]
  },
  {
   "cell_type": "code",
   "execution_count": 37,
   "id": "b941d064",
   "metadata": {},
   "outputs": [
    {
     "data": {
      "text/plain": [
       "0    1\n",
       "1    1\n",
       "2    0\n",
       "3    1\n",
       "4    1\n",
       "Name: 2, dtype: int32"
      ]
     },
     "execution_count": 37,
     "metadata": {},
     "output_type": "execute_result"
    }
   ],
   "source": [
    "y.head() "
   ]
  },
  {
   "cell_type": "markdown",
   "id": "25ea1eb6",
   "metadata": {},
   "source": [
    "### Split the data into train and test "
   ]
  },
  {
   "cell_type": "code",
   "execution_count": 38,
   "id": "a4475097",
   "metadata": {},
   "outputs": [],
   "source": [
    "x_train,x_test,y_train,y_test=train_test_split(x,y,test_size=0.1) "
   ]
  },
  {
   "cell_type": "code",
   "execution_count": 39,
   "id": "49050428",
   "metadata": {},
   "outputs": [
    {
     "data": {
      "text/plain": [
       "(90, 2)"
      ]
     },
     "execution_count": 39,
     "metadata": {},
     "output_type": "execute_result"
    }
   ],
   "source": [
    "x_train.shape "
   ]
  },
  {
   "cell_type": "code",
   "execution_count": 40,
   "id": "8c3446a9",
   "metadata": {},
   "outputs": [
    {
     "data": {
      "text/plain": [
       "(10, 2)"
      ]
     },
     "execution_count": 40,
     "metadata": {},
     "output_type": "execute_result"
    }
   ],
   "source": [
    "x_test.shape "
   ]
  },
  {
   "cell_type": "markdown",
   "id": "6c912cf4",
   "metadata": {},
   "source": [
    "### Standardising input features"
   ]
  },
  {
   "cell_type": "code",
   "execution_count": 41,
   "id": "80f5dc5e",
   "metadata": {},
   "outputs": [],
   "source": [
    "std=StandardScaler()\n",
    "x_train=std.fit_transform(x_train)\n",
    "x_test=std.transform(x_test)  "
   ]
  },
  {
   "cell_type": "markdown",
   "id": "e4e42b2f",
   "metadata": {},
   "source": [
    "### Build the Logical Structure"
   ]
  },
  {
   "cell_type": "code",
   "execution_count": 42,
   "id": "c418f0f8",
   "metadata": {},
   "outputs": [],
   "source": [
    "model=Sequential()\n",
    "model.add(Dense(18,activation=\"relu\",kernel_regularizer=L1(0.001),bias_regularizer=L1(0.001),input_dim=2))\n",
    "model.add(Dense(16,activation=\"relu\",kernel_regularizer=L1(0.001),bias_regularizer=L1(0.001)))\n",
    "model.add(Dense(10,activation=\"relu\",kernel_regularizer=L1(0.001),bias_regularizer=L1(0.001)))\n",
    "model.add(Dense(1,activation=\"sigmoid\"))  \n"
   ]
  },
  {
   "cell_type": "code",
   "execution_count": 43,
   "id": "aec08cfb",
   "metadata": {},
   "outputs": [
    {
     "name": "stdout",
     "output_type": "stream",
     "text": [
      "Model: \"sequential_1\"\n",
      "_________________________________________________________________\n",
      " Layer (type)                Output Shape              Param #   \n",
      "=================================================================\n",
      " dense_4 (Dense)             (None, 18)                54        \n",
      "                                                                 \n",
      " dense_5 (Dense)             (None, 16)                304       \n",
      "                                                                 \n",
      " dense_6 (Dense)             (None, 10)                170       \n",
      "                                                                 \n",
      " dense_7 (Dense)             (None, 1)                 11        \n",
      "                                                                 \n",
      "=================================================================\n",
      "Total params: 539 (2.11 KB)\n",
      "Trainable params: 539 (2.11 KB)\n",
      "Non-trainable params: 0 (0.00 Byte)\n",
      "_________________________________________________________________\n"
     ]
    }
   ],
   "source": [
    "model.summary()"
   ]
  },
  {
   "cell_type": "markdown",
   "id": "6c875aa0",
   "metadata": {},
   "source": [
    "### compiling the model "
   ]
  },
  {
   "cell_type": "code",
   "execution_count": 44,
   "id": "3d3e948c",
   "metadata": {},
   "outputs": [
    {
     "name": "stdout",
     "output_type": "stream",
     "text": [
      "Epoch 1/250\n",
      "17/17 [==============================] - 1s 24ms/step - loss: 0.8191 - accuracy: 0.4938 - val_loss: 0.8062 - val_accuracy: 0.5556\n",
      "Epoch 2/250\n",
      "17/17 [==============================] - 0s 6ms/step - loss: 0.8168 - accuracy: 0.4938 - val_loss: 0.8048 - val_accuracy: 0.5556\n",
      "Epoch 3/250\n",
      "17/17 [==============================] - 0s 6ms/step - loss: 0.8139 - accuracy: 0.4938 - val_loss: 0.8039 - val_accuracy: 0.5556\n",
      "Epoch 4/250\n",
      "17/17 [==============================] - 0s 6ms/step - loss: 0.8117 - accuracy: 0.4691 - val_loss: 0.8027 - val_accuracy: 0.5556\n",
      "Epoch 5/250\n",
      "17/17 [==============================] - 0s 6ms/step - loss: 0.8100 - accuracy: 0.4321 - val_loss: 0.8017 - val_accuracy: 0.5556\n",
      "Epoch 6/250\n",
      "17/17 [==============================] - 0s 6ms/step - loss: 0.8075 - accuracy: 0.3951 - val_loss: 0.8010 - val_accuracy: 0.5556\n",
      "Epoch 7/250\n",
      "17/17 [==============================] - 0s 6ms/step - loss: 0.8062 - accuracy: 0.4198 - val_loss: 0.8001 - val_accuracy: 0.4444\n",
      "Epoch 8/250\n",
      "17/17 [==============================] - 0s 6ms/step - loss: 0.8042 - accuracy: 0.4815 - val_loss: 0.7995 - val_accuracy: 0.2222\n",
      "Epoch 9/250\n",
      "17/17 [==============================] - 0s 6ms/step - loss: 0.8022 - accuracy: 0.4444 - val_loss: 0.7989 - val_accuracy: 0.3333\n",
      "Epoch 10/250\n",
      "17/17 [==============================] - 0s 7ms/step - loss: 0.8008 - accuracy: 0.4815 - val_loss: 0.7984 - val_accuracy: 0.4444\n",
      "Epoch 11/250\n",
      "17/17 [==============================] - 0s 6ms/step - loss: 0.7993 - accuracy: 0.4691 - val_loss: 0.7978 - val_accuracy: 0.4444\n",
      "Epoch 12/250\n",
      "17/17 [==============================] - 0s 6ms/step - loss: 0.7980 - accuracy: 0.4815 - val_loss: 0.7971 - val_accuracy: 0.4444\n",
      "Epoch 13/250\n",
      "17/17 [==============================] - 0s 6ms/step - loss: 0.7966 - accuracy: 0.4938 - val_loss: 0.7968 - val_accuracy: 0.3333\n",
      "Epoch 14/250\n",
      "17/17 [==============================] - 0s 6ms/step - loss: 0.7949 - accuracy: 0.4321 - val_loss: 0.7961 - val_accuracy: 0.4444\n",
      "Epoch 15/250\n",
      "17/17 [==============================] - 0s 6ms/step - loss: 0.7940 - accuracy: 0.4568 - val_loss: 0.7955 - val_accuracy: 0.4444\n",
      "Epoch 16/250\n",
      "17/17 [==============================] - 0s 6ms/step - loss: 0.7924 - accuracy: 0.4444 - val_loss: 0.7951 - val_accuracy: 0.4444\n",
      "Epoch 17/250\n",
      "17/17 [==============================] - 0s 6ms/step - loss: 0.7911 - accuracy: 0.4691 - val_loss: 0.7949 - val_accuracy: 0.4444\n",
      "Epoch 18/250\n",
      "17/17 [==============================] - 0s 7ms/step - loss: 0.7899 - accuracy: 0.5062 - val_loss: 0.7946 - val_accuracy: 0.4444\n",
      "Epoch 19/250\n",
      "17/17 [==============================] - 0s 7ms/step - loss: 0.7888 - accuracy: 0.5062 - val_loss: 0.7939 - val_accuracy: 0.4444\n",
      "Epoch 20/250\n",
      "17/17 [==============================] - 0s 7ms/step - loss: 0.7875 - accuracy: 0.5062 - val_loss: 0.7932 - val_accuracy: 0.4444\n",
      "Epoch 21/250\n",
      "17/17 [==============================] - 0s 6ms/step - loss: 0.7863 - accuracy: 0.5062 - val_loss: 0.7928 - val_accuracy: 0.4444\n",
      "Epoch 22/250\n",
      "17/17 [==============================] - 0s 8ms/step - loss: 0.7850 - accuracy: 0.5062 - val_loss: 0.7927 - val_accuracy: 0.4444\n",
      "Epoch 23/250\n",
      "17/17 [==============================] - 0s 6ms/step - loss: 0.7836 - accuracy: 0.5062 - val_loss: 0.7924 - val_accuracy: 0.4444\n",
      "Epoch 24/250\n",
      "17/17 [==============================] - 0s 7ms/step - loss: 0.7824 - accuracy: 0.5062 - val_loss: 0.7916 - val_accuracy: 0.4444\n",
      "Epoch 25/250\n",
      "17/17 [==============================] - 0s 6ms/step - loss: 0.7813 - accuracy: 0.5185 - val_loss: 0.7909 - val_accuracy: 0.4444\n",
      "Epoch 26/250\n",
      "17/17 [==============================] - 0s 7ms/step - loss: 0.7800 - accuracy: 0.5062 - val_loss: 0.7906 - val_accuracy: 0.4444\n",
      "Epoch 27/250\n",
      "17/17 [==============================] - 0s 7ms/step - loss: 0.7788 - accuracy: 0.5062 - val_loss: 0.7897 - val_accuracy: 0.4444\n",
      "Epoch 28/250\n",
      "17/17 [==============================] - 0s 7ms/step - loss: 0.7774 - accuracy: 0.5185 - val_loss: 0.7890 - val_accuracy: 0.4444\n",
      "Epoch 29/250\n",
      "17/17 [==============================] - 0s 6ms/step - loss: 0.7761 - accuracy: 0.5062 - val_loss: 0.7880 - val_accuracy: 0.4444\n",
      "Epoch 30/250\n",
      "17/17 [==============================] - 0s 7ms/step - loss: 0.7747 - accuracy: 0.5185 - val_loss: 0.7871 - val_accuracy: 0.5556\n",
      "Epoch 31/250\n",
      "17/17 [==============================] - 0s 7ms/step - loss: 0.7737 - accuracy: 0.5679 - val_loss: 0.7857 - val_accuracy: 0.5556\n",
      "Epoch 32/250\n",
      "17/17 [==============================] - 0s 7ms/step - loss: 0.7718 - accuracy: 0.5679 - val_loss: 0.7849 - val_accuracy: 0.5556\n",
      "Epoch 33/250\n",
      "17/17 [==============================] - 0s 7ms/step - loss: 0.7704 - accuracy: 0.5679 - val_loss: 0.7843 - val_accuracy: 0.5556\n",
      "Epoch 34/250\n",
      "17/17 [==============================] - 0s 7ms/step - loss: 0.7688 - accuracy: 0.5802 - val_loss: 0.7829 - val_accuracy: 0.5556\n",
      "Epoch 35/250\n",
      "17/17 [==============================] - 0s 7ms/step - loss: 0.7671 - accuracy: 0.5802 - val_loss: 0.7822 - val_accuracy: 0.5556\n",
      "Epoch 36/250\n",
      "17/17 [==============================] - 0s 6ms/step - loss: 0.7654 - accuracy: 0.5802 - val_loss: 0.7806 - val_accuracy: 0.5556\n",
      "Epoch 37/250\n",
      "17/17 [==============================] - 0s 7ms/step - loss: 0.7639 - accuracy: 0.6049 - val_loss: 0.7802 - val_accuracy: 0.5556\n",
      "Epoch 38/250\n",
      "17/17 [==============================] - 0s 6ms/step - loss: 0.7619 - accuracy: 0.5802 - val_loss: 0.7796 - val_accuracy: 0.5556\n",
      "Epoch 39/250\n",
      "17/17 [==============================] - 0s 7ms/step - loss: 0.7595 - accuracy: 0.5926 - val_loss: 0.7776 - val_accuracy: 0.5556\n",
      "Epoch 40/250\n",
      "17/17 [==============================] - 0s 7ms/step - loss: 0.7573 - accuracy: 0.6049 - val_loss: 0.7766 - val_accuracy: 0.5556\n",
      "Epoch 41/250\n",
      "17/17 [==============================] - 0s 7ms/step - loss: 0.7550 - accuracy: 0.6049 - val_loss: 0.7759 - val_accuracy: 0.5556\n",
      "Epoch 42/250\n",
      "17/17 [==============================] - 0s 7ms/step - loss: 0.7531 - accuracy: 0.5926 - val_loss: 0.7748 - val_accuracy: 0.5556\n",
      "Epoch 43/250\n",
      "17/17 [==============================] - 0s 7ms/step - loss: 0.7508 - accuracy: 0.6049 - val_loss: 0.7723 - val_accuracy: 0.5556\n",
      "Epoch 44/250\n",
      "17/17 [==============================] - 0s 6ms/step - loss: 0.7483 - accuracy: 0.6173 - val_loss: 0.7709 - val_accuracy: 0.5556\n",
      "Epoch 45/250\n",
      "17/17 [==============================] - 0s 7ms/step - loss: 0.7455 - accuracy: 0.6296 - val_loss: 0.7682 - val_accuracy: 0.5556\n",
      "Epoch 46/250\n",
      "17/17 [==============================] - 0s 7ms/step - loss: 0.7429 - accuracy: 0.6420 - val_loss: 0.7667 - val_accuracy: 0.5556\n",
      "Epoch 47/250\n",
      "17/17 [==============================] - 0s 7ms/step - loss: 0.7401 - accuracy: 0.6543 - val_loss: 0.7651 - val_accuracy: 0.5556\n",
      "Epoch 48/250\n",
      "17/17 [==============================] - 0s 7ms/step - loss: 0.7375 - accuracy: 0.6296 - val_loss: 0.7622 - val_accuracy: 0.5556\n",
      "Epoch 49/250\n",
      "17/17 [==============================] - 0s 6ms/step - loss: 0.7343 - accuracy: 0.6543 - val_loss: 0.7604 - val_accuracy: 0.5556\n",
      "Epoch 50/250\n",
      "17/17 [==============================] - 0s 6ms/step - loss: 0.7310 - accuracy: 0.6667 - val_loss: 0.7582 - val_accuracy: 0.5556\n",
      "Epoch 51/250\n",
      "17/17 [==============================] - 0s 6ms/step - loss: 0.7277 - accuracy: 0.6667 - val_loss: 0.7555 - val_accuracy: 0.7778\n",
      "Epoch 52/250\n",
      "17/17 [==============================] - 0s 7ms/step - loss: 0.7247 - accuracy: 0.7160 - val_loss: 0.7524 - val_accuracy: 0.7778\n",
      "Epoch 53/250\n",
      "17/17 [==============================] - 0s 6ms/step - loss: 0.7217 - accuracy: 0.7160 - val_loss: 0.7492 - val_accuracy: 0.7778\n",
      "Epoch 54/250\n",
      "17/17 [==============================] - 0s 6ms/step - loss: 0.7179 - accuracy: 0.7531 - val_loss: 0.7477 - val_accuracy: 0.7778\n",
      "Epoch 55/250\n",
      "17/17 [==============================] - 0s 7ms/step - loss: 0.7144 - accuracy: 0.7284 - val_loss: 0.7458 - val_accuracy: 0.7778\n",
      "Epoch 56/250\n",
      "17/17 [==============================] - 0s 6ms/step - loss: 0.7115 - accuracy: 0.7531 - val_loss: 0.7439 - val_accuracy: 0.7778\n",
      "Epoch 57/250\n",
      "17/17 [==============================] - 0s 7ms/step - loss: 0.7076 - accuracy: 0.7407 - val_loss: 0.7390 - val_accuracy: 0.7778\n",
      "Epoch 58/250\n",
      "17/17 [==============================] - 0s 7ms/step - loss: 0.7035 - accuracy: 0.7654 - val_loss: 0.7354 - val_accuracy: 0.7778\n"
     ]
    },
    {
     "name": "stdout",
     "output_type": "stream",
     "text": [
      "Epoch 59/250\n",
      "17/17 [==============================] - 0s 7ms/step - loss: 0.6997 - accuracy: 0.7654 - val_loss: 0.7308 - val_accuracy: 0.8889\n",
      "Epoch 60/250\n",
      "17/17 [==============================] - 0s 6ms/step - loss: 0.6957 - accuracy: 0.7778 - val_loss: 0.7285 - val_accuracy: 0.8889\n",
      "Epoch 61/250\n",
      "17/17 [==============================] - 0s 7ms/step - loss: 0.6915 - accuracy: 0.7654 - val_loss: 0.7259 - val_accuracy: 0.7778\n",
      "Epoch 62/250\n",
      "17/17 [==============================] - 0s 6ms/step - loss: 0.6878 - accuracy: 0.7654 - val_loss: 0.7213 - val_accuracy: 0.7778\n",
      "Epoch 63/250\n",
      "17/17 [==============================] - 0s 6ms/step - loss: 0.6831 - accuracy: 0.7531 - val_loss: 0.7149 - val_accuracy: 0.8889\n",
      "Epoch 64/250\n",
      "17/17 [==============================] - 0s 7ms/step - loss: 0.6776 - accuracy: 0.7531 - val_loss: 0.7104 - val_accuracy: 0.8889\n",
      "Epoch 65/250\n",
      "17/17 [==============================] - 0s 6ms/step - loss: 0.6731 - accuracy: 0.7778 - val_loss: 0.7054 - val_accuracy: 0.8889\n",
      "Epoch 66/250\n",
      "17/17 [==============================] - 0s 7ms/step - loss: 0.6680 - accuracy: 0.7901 - val_loss: 0.6999 - val_accuracy: 0.8889\n",
      "Epoch 67/250\n",
      "17/17 [==============================] - 0s 6ms/step - loss: 0.6629 - accuracy: 0.8519 - val_loss: 0.6953 - val_accuracy: 0.8889\n",
      "Epoch 68/250\n",
      "17/17 [==============================] - 0s 6ms/step - loss: 0.6579 - accuracy: 0.8272 - val_loss: 0.6901 - val_accuracy: 0.8889\n",
      "Epoch 69/250\n",
      "17/17 [==============================] - 0s 6ms/step - loss: 0.6529 - accuracy: 0.8519 - val_loss: 0.6853 - val_accuracy: 0.8889\n",
      "Epoch 70/250\n",
      "17/17 [==============================] - 0s 6ms/step - loss: 0.6475 - accuracy: 0.8519 - val_loss: 0.6783 - val_accuracy: 0.8889\n",
      "Epoch 71/250\n",
      "17/17 [==============================] - 0s 6ms/step - loss: 0.6424 - accuracy: 0.8519 - val_loss: 0.6720 - val_accuracy: 0.8889\n",
      "Epoch 72/250\n",
      "17/17 [==============================] - 0s 6ms/step - loss: 0.6370 - accuracy: 0.8519 - val_loss: 0.6673 - val_accuracy: 0.8889\n",
      "Epoch 73/250\n",
      "17/17 [==============================] - 0s 6ms/step - loss: 0.6314 - accuracy: 0.8395 - val_loss: 0.6649 - val_accuracy: 0.8889\n",
      "Epoch 74/250\n",
      "17/17 [==============================] - 0s 6ms/step - loss: 0.6263 - accuracy: 0.8519 - val_loss: 0.6605 - val_accuracy: 0.8889\n",
      "Epoch 75/250\n",
      "17/17 [==============================] - 0s 6ms/step - loss: 0.6212 - accuracy: 0.8395 - val_loss: 0.6561 - val_accuracy: 0.7778\n",
      "Epoch 76/250\n",
      "17/17 [==============================] - 0s 6ms/step - loss: 0.6157 - accuracy: 0.8395 - val_loss: 0.6507 - val_accuracy: 0.7778\n",
      "Epoch 77/250\n",
      "17/17 [==============================] - 0s 6ms/step - loss: 0.6101 - accuracy: 0.8272 - val_loss: 0.6472 - val_accuracy: 0.8889\n",
      "Epoch 78/250\n",
      "17/17 [==============================] - 0s 6ms/step - loss: 0.6039 - accuracy: 0.8395 - val_loss: 0.6417 - val_accuracy: 0.8889\n",
      "Epoch 79/250\n",
      "17/17 [==============================] - 0s 6ms/step - loss: 0.5981 - accuracy: 0.8519 - val_loss: 0.6370 - val_accuracy: 0.8889\n",
      "Epoch 80/250\n",
      "17/17 [==============================] - 0s 6ms/step - loss: 0.5912 - accuracy: 0.8519 - val_loss: 0.6303 - val_accuracy: 0.8889\n",
      "Epoch 81/250\n",
      "17/17 [==============================] - 0s 6ms/step - loss: 0.5873 - accuracy: 0.8642 - val_loss: 0.6256 - val_accuracy: 0.8889\n",
      "Epoch 82/250\n",
      "17/17 [==============================] - 0s 6ms/step - loss: 0.5796 - accuracy: 0.8519 - val_loss: 0.6194 - val_accuracy: 0.8889\n",
      "Epoch 83/250\n",
      "17/17 [==============================] - 0s 7ms/step - loss: 0.5742 - accuracy: 0.8519 - val_loss: 0.6126 - val_accuracy: 0.8889\n",
      "Epoch 84/250\n",
      "17/17 [==============================] - 0s 6ms/step - loss: 0.5691 - accuracy: 0.8889 - val_loss: 0.6097 - val_accuracy: 0.8889\n",
      "Epoch 85/250\n",
      "17/17 [==============================] - 0s 6ms/step - loss: 0.5630 - accuracy: 0.8642 - val_loss: 0.6050 - val_accuracy: 0.8889\n",
      "Epoch 86/250\n",
      "17/17 [==============================] - 0s 6ms/step - loss: 0.5567 - accuracy: 0.9012 - val_loss: 0.6054 - val_accuracy: 0.8889\n",
      "Epoch 87/250\n",
      "17/17 [==============================] - 0s 6ms/step - loss: 0.5518 - accuracy: 0.8519 - val_loss: 0.6005 - val_accuracy: 0.7778\n",
      "Epoch 88/250\n",
      "17/17 [==============================] - 0s 7ms/step - loss: 0.5464 - accuracy: 0.8889 - val_loss: 0.5946 - val_accuracy: 0.7778\n",
      "Epoch 89/250\n",
      "17/17 [==============================] - 0s 7ms/step - loss: 0.5389 - accuracy: 0.8889 - val_loss: 0.5891 - val_accuracy: 0.7778\n",
      "Epoch 90/250\n",
      "17/17 [==============================] - 0s 7ms/step - loss: 0.5344 - accuracy: 0.8765 - val_loss: 0.5831 - val_accuracy: 0.8889\n",
      "Epoch 91/250\n",
      "17/17 [==============================] - 0s 7ms/step - loss: 0.5293 - accuracy: 0.8765 - val_loss: 0.5773 - val_accuracy: 0.8889\n",
      "Epoch 92/250\n",
      "17/17 [==============================] - 0s 7ms/step - loss: 0.5238 - accuracy: 0.8889 - val_loss: 0.5719 - val_accuracy: 0.7778\n",
      "Epoch 93/250\n",
      "17/17 [==============================] - 0s 7ms/step - loss: 0.5176 - accuracy: 0.8889 - val_loss: 0.5668 - val_accuracy: 0.7778\n",
      "Epoch 94/250\n",
      "17/17 [==============================] - 0s 7ms/step - loss: 0.5113 - accuracy: 0.8889 - val_loss: 0.5676 - val_accuracy: 0.7778\n",
      "Epoch 95/250\n",
      "17/17 [==============================] - 0s 7ms/step - loss: 0.5063 - accuracy: 0.8889 - val_loss: 0.5622 - val_accuracy: 0.7778\n",
      "Epoch 96/250\n",
      "17/17 [==============================] - 0s 7ms/step - loss: 0.5015 - accuracy: 0.8889 - val_loss: 0.5595 - val_accuracy: 0.7778\n",
      "Epoch 97/250\n",
      "17/17 [==============================] - 0s 7ms/step - loss: 0.4952 - accuracy: 0.8889 - val_loss: 0.5527 - val_accuracy: 0.7778\n",
      "Epoch 98/250\n",
      "17/17 [==============================] - 0s 7ms/step - loss: 0.4901 - accuracy: 0.9012 - val_loss: 0.5543 - val_accuracy: 0.7778\n",
      "Epoch 99/250\n",
      "17/17 [==============================] - 0s 7ms/step - loss: 0.4853 - accuracy: 0.8889 - val_loss: 0.5445 - val_accuracy: 0.8889\n",
      "Epoch 100/250\n",
      "17/17 [==============================] - 0s 7ms/step - loss: 0.4807 - accuracy: 0.8889 - val_loss: 0.5356 - val_accuracy: 0.8889\n",
      "Epoch 101/250\n",
      "17/17 [==============================] - 0s 7ms/step - loss: 0.4762 - accuracy: 0.8889 - val_loss: 0.5319 - val_accuracy: 0.7778\n",
      "Epoch 102/250\n",
      "17/17 [==============================] - 0s 7ms/step - loss: 0.4711 - accuracy: 0.8889 - val_loss: 0.5270 - val_accuracy: 0.7778\n",
      "Epoch 103/250\n",
      "17/17 [==============================] - 0s 7ms/step - loss: 0.4665 - accuracy: 0.9012 - val_loss: 0.5234 - val_accuracy: 0.7778\n",
      "Epoch 104/250\n",
      "17/17 [==============================] - 0s 7ms/step - loss: 0.4612 - accuracy: 0.9136 - val_loss: 0.5213 - val_accuracy: 0.7778\n",
      "Epoch 105/250\n",
      "17/17 [==============================] - 0s 7ms/step - loss: 0.4550 - accuracy: 0.9012 - val_loss: 0.5144 - val_accuracy: 0.7778\n",
      "Epoch 106/250\n",
      "17/17 [==============================] - 0s 7ms/step - loss: 0.4530 - accuracy: 0.8889 - val_loss: 0.5092 - val_accuracy: 0.7778\n",
      "Epoch 107/250\n",
      "17/17 [==============================] - 0s 7ms/step - loss: 0.4470 - accuracy: 0.9012 - val_loss: 0.5069 - val_accuracy: 0.7778\n",
      "Epoch 108/250\n",
      "17/17 [==============================] - 0s 7ms/step - loss: 0.4439 - accuracy: 0.9136 - val_loss: 0.5110 - val_accuracy: 0.8889\n",
      "Epoch 109/250\n",
      "17/17 [==============================] - 0s 7ms/step - loss: 0.4401 - accuracy: 0.9259 - val_loss: 0.5043 - val_accuracy: 0.7778\n",
      "Epoch 110/250\n",
      "17/17 [==============================] - 0s 7ms/step - loss: 0.4355 - accuracy: 0.9012 - val_loss: 0.5051 - val_accuracy: 0.7778\n",
      "Epoch 111/250\n",
      "17/17 [==============================] - 0s 7ms/step - loss: 0.4309 - accuracy: 0.9136 - val_loss: 0.4980 - val_accuracy: 0.7778\n",
      "Epoch 112/250\n",
      "17/17 [==============================] - 0s 7ms/step - loss: 0.4279 - accuracy: 0.9012 - val_loss: 0.5026 - val_accuracy: 0.7778\n",
      "Epoch 113/250\n",
      "17/17 [==============================] - 0s 6ms/step - loss: 0.4236 - accuracy: 0.9012 - val_loss: 0.4867 - val_accuracy: 0.7778\n",
      "Epoch 114/250\n",
      "17/17 [==============================] - 0s 7ms/step - loss: 0.4185 - accuracy: 0.9259 - val_loss: 0.4705 - val_accuracy: 0.7778\n",
      "Epoch 115/250\n",
      "17/17 [==============================] - 0s 6ms/step - loss: 0.4163 - accuracy: 0.9136 - val_loss: 0.4693 - val_accuracy: 0.7778\n",
      "Epoch 116/250\n",
      "17/17 [==============================] - 0s 6ms/step - loss: 0.4140 - accuracy: 0.9136 - val_loss: 0.4663 - val_accuracy: 0.7778\n",
      "Epoch 117/250\n",
      "17/17 [==============================] - 0s 7ms/step - loss: 0.4070 - accuracy: 0.9012 - val_loss: 0.4675 - val_accuracy: 0.8889\n",
      "Epoch 118/250\n",
      "17/17 [==============================] - 0s 7ms/step - loss: 0.4047 - accuracy: 0.9136 - val_loss: 0.4607 - val_accuracy: 0.7778\n",
      "Epoch 119/250\n",
      "17/17 [==============================] - 0s 7ms/step - loss: 0.4020 - accuracy: 0.9012 - val_loss: 0.4627 - val_accuracy: 0.7778\n",
      "Epoch 120/250\n",
      "17/17 [==============================] - 0s 6ms/step - loss: 0.4004 - accuracy: 0.9012 - val_loss: 0.4539 - val_accuracy: 0.7778\n",
      "Epoch 121/250\n",
      "17/17 [==============================] - 0s 6ms/step - loss: 0.3957 - accuracy: 0.9136 - val_loss: 0.4617 - val_accuracy: 0.8889\n",
      "Epoch 122/250\n",
      "17/17 [==============================] - 0s 8ms/step - loss: 0.3980 - accuracy: 0.9012 - val_loss: 0.4573 - val_accuracy: 0.8889\n",
      "Epoch 123/250\n",
      "17/17 [==============================] - 0s 6ms/step - loss: 0.3899 - accuracy: 0.9136 - val_loss: 0.4458 - val_accuracy: 0.8889\n",
      "Epoch 124/250\n",
      "17/17 [==============================] - 0s 6ms/step - loss: 0.3882 - accuracy: 0.9259 - val_loss: 0.4435 - val_accuracy: 0.7778\n",
      "Epoch 125/250\n",
      "17/17 [==============================] - 0s 6ms/step - loss: 0.3844 - accuracy: 0.9012 - val_loss: 0.4505 - val_accuracy: 0.8889\n",
      "Epoch 126/250\n",
      "17/17 [==============================] - 0s 5ms/step - loss: 0.3850 - accuracy: 0.9259 - val_loss: 0.4421 - val_accuracy: 0.8889\n",
      "Epoch 127/250\n",
      "17/17 [==============================] - 0s 7ms/step - loss: 0.3813 - accuracy: 0.9259 - val_loss: 0.4354 - val_accuracy: 0.8889\n",
      "Epoch 128/250\n",
      "17/17 [==============================] - 0s 7ms/step - loss: 0.3766 - accuracy: 0.9136 - val_loss: 0.4313 - val_accuracy: 0.8889\n",
      "Epoch 129/250\n",
      "17/17 [==============================] - 0s 7ms/step - loss: 0.3747 - accuracy: 0.9259 - val_loss: 0.4266 - val_accuracy: 0.8889\n",
      "Epoch 130/250\n",
      "17/17 [==============================] - 0s 7ms/step - loss: 0.3727 - accuracy: 0.9259 - val_loss: 0.4247 - val_accuracy: 0.7778\n",
      "Epoch 131/250\n",
      "17/17 [==============================] - 0s 7ms/step - loss: 0.3701 - accuracy: 0.9259 - val_loss: 0.4245 - val_accuracy: 0.7778\n",
      "Epoch 132/250\n",
      "17/17 [==============================] - 0s 6ms/step - loss: 0.3667 - accuracy: 0.9136 - val_loss: 0.4185 - val_accuracy: 0.8889\n",
      "Epoch 133/250\n",
      "17/17 [==============================] - 0s 7ms/step - loss: 0.3654 - accuracy: 0.9136 - val_loss: 0.4102 - val_accuracy: 0.7778\n",
      "Epoch 134/250\n",
      "17/17 [==============================] - 0s 7ms/step - loss: 0.3639 - accuracy: 0.9136 - val_loss: 0.4125 - val_accuracy: 0.8889\n",
      "Epoch 135/250\n",
      "17/17 [==============================] - 0s 6ms/step - loss: 0.3596 - accuracy: 0.9383 - val_loss: 0.4123 - val_accuracy: 0.8889\n",
      "Epoch 136/250\n",
      "17/17 [==============================] - 0s 7ms/step - loss: 0.3600 - accuracy: 0.9259 - val_loss: 0.4084 - val_accuracy: 0.8889\n",
      "Epoch 137/250\n",
      "17/17 [==============================] - 0s 8ms/step - loss: 0.3551 - accuracy: 0.9136 - val_loss: 0.3966 - val_accuracy: 0.8889\n",
      "Epoch 138/250\n",
      "17/17 [==============================] - 0s 7ms/step - loss: 0.3551 - accuracy: 0.9259 - val_loss: 0.4035 - val_accuracy: 0.8889\n",
      "Epoch 139/250\n",
      "17/17 [==============================] - 0s 7ms/step - loss: 0.3518 - accuracy: 0.9259 - val_loss: 0.4001 - val_accuracy: 0.8889\n",
      "Epoch 140/250\n",
      "17/17 [==============================] - 0s 7ms/step - loss: 0.3502 - accuracy: 0.9136 - val_loss: 0.4021 - val_accuracy: 0.8889\n",
      "Epoch 141/250\n",
      "17/17 [==============================] - 0s 7ms/step - loss: 0.3495 - accuracy: 0.9136 - val_loss: 0.3999 - val_accuracy: 0.8889\n",
      "Epoch 142/250\n",
      "17/17 [==============================] - 0s 7ms/step - loss: 0.3446 - accuracy: 0.9259 - val_loss: 0.3880 - val_accuracy: 0.8889\n",
      "Epoch 143/250\n",
      "17/17 [==============================] - 0s 7ms/step - loss: 0.3455 - accuracy: 0.9259 - val_loss: 0.3911 - val_accuracy: 0.8889\n",
      "Epoch 144/250\n",
      "17/17 [==============================] - 0s 7ms/step - loss: 0.3438 - accuracy: 0.9383 - val_loss: 0.3896 - val_accuracy: 0.8889\n",
      "Epoch 145/250\n",
      "17/17 [==============================] - 0s 7ms/step - loss: 0.3458 - accuracy: 0.9383 - val_loss: 0.3889 - val_accuracy: 0.8889\n",
      "Epoch 146/250\n",
      "17/17 [==============================] - 0s 7ms/step - loss: 0.3406 - accuracy: 0.9136 - val_loss: 0.3867 - val_accuracy: 0.8889\n",
      "Epoch 147/250\n",
      "17/17 [==============================] - 0s 7ms/step - loss: 0.3395 - accuracy: 0.9259 - val_loss: 0.3739 - val_accuracy: 0.8889\n",
      "Epoch 148/250\n",
      "17/17 [==============================] - 0s 7ms/step - loss: 0.3402 - accuracy: 0.9383 - val_loss: 0.3779 - val_accuracy: 0.8889\n",
      "Epoch 149/250\n",
      "17/17 [==============================] - 0s 7ms/step - loss: 0.3395 - accuracy: 0.9383 - val_loss: 0.3800 - val_accuracy: 0.8889\n",
      "Epoch 150/250\n",
      "17/17 [==============================] - 0s 7ms/step - loss: 0.3334 - accuracy: 0.9136 - val_loss: 0.3777 - val_accuracy: 0.8889\n",
      "Epoch 151/250\n",
      "17/17 [==============================] - 0s 7ms/step - loss: 0.3331 - accuracy: 0.9259 - val_loss: 0.3787 - val_accuracy: 0.8889\n",
      "Epoch 152/250\n",
      "17/17 [==============================] - 0s 7ms/step - loss: 0.3325 - accuracy: 0.9259 - val_loss: 0.3817 - val_accuracy: 0.8889\n",
      "Epoch 153/250\n",
      "17/17 [==============================] - 0s 7ms/step - loss: 0.3319 - accuracy: 0.9259 - val_loss: 0.3772 - val_accuracy: 0.8889\n",
      "Epoch 154/250\n",
      "17/17 [==============================] - 0s 6ms/step - loss: 0.3294 - accuracy: 0.9259 - val_loss: 0.3653 - val_accuracy: 0.8889\n",
      "Epoch 155/250\n",
      "17/17 [==============================] - 0s 7ms/step - loss: 0.3290 - accuracy: 0.9136 - val_loss: 0.3810 - val_accuracy: 0.8889\n",
      "Epoch 156/250\n",
      "17/17 [==============================] - 0s 7ms/step - loss: 0.3334 - accuracy: 0.9259 - val_loss: 0.3643 - val_accuracy: 0.8889\n",
      "Epoch 157/250\n",
      "17/17 [==============================] - 0s 6ms/step - loss: 0.3283 - accuracy: 0.9012 - val_loss: 0.3635 - val_accuracy: 0.8889\n",
      "Epoch 158/250\n",
      "17/17 [==============================] - 0s 7ms/step - loss: 0.3276 - accuracy: 0.9259 - val_loss: 0.3685 - val_accuracy: 0.8889\n",
      "Epoch 159/250\n",
      "17/17 [==============================] - 0s 6ms/step - loss: 0.3251 - accuracy: 0.9259 - val_loss: 0.3741 - val_accuracy: 0.8889\n",
      "Epoch 160/250\n",
      "17/17 [==============================] - 0s 6ms/step - loss: 0.3218 - accuracy: 0.9012 - val_loss: 0.3735 - val_accuracy: 0.8889\n",
      "Epoch 161/250\n",
      "17/17 [==============================] - 0s 6ms/step - loss: 0.3219 - accuracy: 0.9259 - val_loss: 0.3672 - val_accuracy: 0.8889\n",
      "Epoch 162/250\n",
      "17/17 [==============================] - 0s 6ms/step - loss: 0.3225 - accuracy: 0.9259 - val_loss: 0.3710 - val_accuracy: 0.8889\n",
      "Epoch 163/250\n",
      "17/17 [==============================] - 0s 6ms/step - loss: 0.3206 - accuracy: 0.9259 - val_loss: 0.3692 - val_accuracy: 0.8889\n",
      "Epoch 164/250\n",
      "17/17 [==============================] - 0s 6ms/step - loss: 0.3218 - accuracy: 0.9012 - val_loss: 0.3730 - val_accuracy: 0.8889\n",
      "Epoch 165/250\n",
      "17/17 [==============================] - 0s 6ms/step - loss: 0.3164 - accuracy: 0.9136 - val_loss: 0.3723 - val_accuracy: 0.8889\n",
      "Epoch 166/250\n",
      "17/17 [==============================] - 0s 7ms/step - loss: 0.3152 - accuracy: 0.9259 - val_loss: 0.3742 - val_accuracy: 0.8889\n",
      "Epoch 167/250\n",
      "17/17 [==============================] - 0s 8ms/step - loss: 0.3160 - accuracy: 0.9259 - val_loss: 0.3722 - val_accuracy: 0.8889\n",
      "Epoch 168/250\n",
      "17/17 [==============================] - 0s 7ms/step - loss: 0.3142 - accuracy: 0.9136 - val_loss: 0.3702 - val_accuracy: 0.8889\n",
      "Epoch 169/250\n",
      "17/17 [==============================] - 0s 7ms/step - loss: 0.3183 - accuracy: 0.9259 - val_loss: 0.3703 - val_accuracy: 0.8889\n",
      "Epoch 170/250\n",
      "17/17 [==============================] - 0s 7ms/step - loss: 0.3135 - accuracy: 0.9259 - val_loss: 0.3771 - val_accuracy: 0.8889\n",
      "Epoch 171/250\n",
      "17/17 [==============================] - 0s 7ms/step - loss: 0.3133 - accuracy: 0.9259 - val_loss: 0.4019 - val_accuracy: 0.8889\n",
      "Epoch 172/250\n",
      "17/17 [==============================] - 0s 7ms/step - loss: 0.3180 - accuracy: 0.9012 - val_loss: 0.4713 - val_accuracy: 0.8889\n",
      "Epoch 173/250\n"
     ]
    },
    {
     "name": "stdout",
     "output_type": "stream",
     "text": [
      "17/17 [==============================] - 0s 7ms/step - loss: 0.3182 - accuracy: 0.9259 - val_loss: 0.4110 - val_accuracy: 0.8889\n",
      "Epoch 174/250\n",
      "17/17 [==============================] - 0s 6ms/step - loss: 0.3136 - accuracy: 0.9259 - val_loss: 0.3954 - val_accuracy: 0.8889\n",
      "Epoch 175/250\n",
      "17/17 [==============================] - 0s 7ms/step - loss: 0.3097 - accuracy: 0.9259 - val_loss: 0.3920 - val_accuracy: 0.8889\n",
      "Epoch 176/250\n",
      "17/17 [==============================] - 0s 6ms/step - loss: 0.3096 - accuracy: 0.9259 - val_loss: 0.3938 - val_accuracy: 0.8889\n",
      "Epoch 177/250\n",
      "17/17 [==============================] - 0s 6ms/step - loss: 0.3074 - accuracy: 0.9259 - val_loss: 0.3783 - val_accuracy: 0.8889\n",
      "Epoch 178/250\n",
      "17/17 [==============================] - 0s 6ms/step - loss: 0.3062 - accuracy: 0.9259 - val_loss: 0.3748 - val_accuracy: 0.8889\n",
      "Epoch 179/250\n",
      "17/17 [==============================] - 0s 6ms/step - loss: 0.3046 - accuracy: 0.9259 - val_loss: 0.3773 - val_accuracy: 0.8889\n",
      "Epoch 180/250\n",
      "17/17 [==============================] - 0s 6ms/step - loss: 0.3081 - accuracy: 0.9259 - val_loss: 0.3642 - val_accuracy: 0.8889\n",
      "Epoch 181/250\n",
      "17/17 [==============================] - 0s 7ms/step - loss: 0.3116 - accuracy: 0.9259 - val_loss: 0.3736 - val_accuracy: 0.8889\n",
      "Epoch 182/250\n",
      "17/17 [==============================] - 0s 6ms/step - loss: 0.3041 - accuracy: 0.9259 - val_loss: 0.3690 - val_accuracy: 0.8889\n",
      "Epoch 183/250\n",
      "17/17 [==============================] - 0s 6ms/step - loss: 0.3054 - accuracy: 0.9259 - val_loss: 0.3420 - val_accuracy: 0.8889\n",
      "Epoch 184/250\n",
      "17/17 [==============================] - 0s 8ms/step - loss: 0.3033 - accuracy: 0.9383 - val_loss: 0.3666 - val_accuracy: 0.8889\n",
      "Epoch 185/250\n",
      "17/17 [==============================] - 0s 6ms/step - loss: 0.3011 - accuracy: 0.9259 - val_loss: 0.3508 - val_accuracy: 0.8889\n",
      "Epoch 186/250\n",
      "17/17 [==============================] - 0s 7ms/step - loss: 0.3009 - accuracy: 0.9136 - val_loss: 0.3644 - val_accuracy: 0.8889\n",
      "Epoch 187/250\n",
      "17/17 [==============================] - 0s 6ms/step - loss: 0.3002 - accuracy: 0.9259 - val_loss: 0.3695 - val_accuracy: 0.8889\n",
      "Epoch 188/250\n",
      "17/17 [==============================] - 0s 7ms/step - loss: 0.3010 - accuracy: 0.9259 - val_loss: 0.3700 - val_accuracy: 0.8889\n",
      "Epoch 189/250\n",
      "17/17 [==============================] - 0s 7ms/step - loss: 0.3008 - accuracy: 0.9259 - val_loss: 0.3814 - val_accuracy: 0.8889\n",
      "Epoch 190/250\n",
      "17/17 [==============================] - 0s 7ms/step - loss: 0.3008 - accuracy: 0.9383 - val_loss: 0.4046 - val_accuracy: 0.7778\n",
      "Epoch 191/250\n",
      "17/17 [==============================] - 0s 7ms/step - loss: 0.2995 - accuracy: 0.9259 - val_loss: 0.3828 - val_accuracy: 0.7778\n",
      "Epoch 192/250\n",
      "17/17 [==============================] - 0s 7ms/step - loss: 0.3015 - accuracy: 0.9259 - val_loss: 0.3863 - val_accuracy: 0.7778\n",
      "Epoch 193/250\n",
      "17/17 [==============================] - 0s 7ms/step - loss: 0.2969 - accuracy: 0.9259 - val_loss: 0.3802 - val_accuracy: 0.7778\n",
      "Epoch 194/250\n",
      "17/17 [==============================] - 0s 7ms/step - loss: 0.2964 - accuracy: 0.9259 - val_loss: 0.3803 - val_accuracy: 0.8889\n",
      "Epoch 195/250\n",
      "17/17 [==============================] - 0s 6ms/step - loss: 0.2992 - accuracy: 0.9136 - val_loss: 0.3855 - val_accuracy: 0.8889\n",
      "Epoch 196/250\n",
      "17/17 [==============================] - 0s 6ms/step - loss: 0.2983 - accuracy: 0.9259 - val_loss: 0.3779 - val_accuracy: 0.7778\n",
      "Epoch 197/250\n",
      "17/17 [==============================] - 0s 6ms/step - loss: 0.2994 - accuracy: 0.9259 - val_loss: 0.3817 - val_accuracy: 0.7778\n",
      "Epoch 198/250\n",
      "17/17 [==============================] - 0s 6ms/step - loss: 0.2955 - accuracy: 0.9259 - val_loss: 0.3822 - val_accuracy: 0.8889\n",
      "Epoch 199/250\n",
      "17/17 [==============================] - 0s 6ms/step - loss: 0.2966 - accuracy: 0.9383 - val_loss: 0.3680 - val_accuracy: 0.7778\n",
      "Epoch 200/250\n",
      "17/17 [==============================] - 0s 6ms/step - loss: 0.2976 - accuracy: 0.9259 - val_loss: 0.4113 - val_accuracy: 0.8889\n",
      "Epoch 201/250\n",
      "17/17 [==============================] - 0s 6ms/step - loss: 0.3011 - accuracy: 0.9383 - val_loss: 0.4007 - val_accuracy: 0.8889\n",
      "Epoch 202/250\n",
      "17/17 [==============================] - 0s 6ms/step - loss: 0.2995 - accuracy: 0.9259 - val_loss: 0.3830 - val_accuracy: 0.8889\n",
      "Epoch 203/250\n",
      "17/17 [==============================] - 0s 6ms/step - loss: 0.2963 - accuracy: 0.9136 - val_loss: 0.3787 - val_accuracy: 0.8889\n",
      "Epoch 204/250\n",
      "17/17 [==============================] - 0s 6ms/step - loss: 0.2955 - accuracy: 0.9383 - val_loss: 0.3635 - val_accuracy: 0.8889\n",
      "Epoch 205/250\n",
      "17/17 [==============================] - 0s 6ms/step - loss: 0.2942 - accuracy: 0.9506 - val_loss: 0.3928 - val_accuracy: 0.7778\n",
      "Epoch 206/250\n",
      "17/17 [==============================] - 0s 6ms/step - loss: 0.3018 - accuracy: 0.9383 - val_loss: 0.3622 - val_accuracy: 0.8889\n",
      "Epoch 207/250\n",
      "17/17 [==============================] - 0s 6ms/step - loss: 0.2919 - accuracy: 0.9259 - val_loss: 0.3606 - val_accuracy: 0.8889\n",
      "Epoch 208/250\n",
      "17/17 [==============================] - 0s 6ms/step - loss: 0.2942 - accuracy: 0.9383 - val_loss: 0.3544 - val_accuracy: 0.8889\n",
      "Epoch 209/250\n",
      "17/17 [==============================] - 0s 6ms/step - loss: 0.2873 - accuracy: 0.9259 - val_loss: 0.3527 - val_accuracy: 0.8889\n",
      "Epoch 210/250\n",
      "17/17 [==============================] - 0s 7ms/step - loss: 0.2897 - accuracy: 0.9259 - val_loss: 0.3529 - val_accuracy: 0.8889\n",
      "Epoch 211/250\n",
      "17/17 [==============================] - 0s 7ms/step - loss: 0.2886 - accuracy: 0.9259 - val_loss: 0.3706 - val_accuracy: 0.8889\n",
      "Epoch 212/250\n",
      "17/17 [==============================] - 0s 8ms/step - loss: 0.2872 - accuracy: 0.9259 - val_loss: 0.3657 - val_accuracy: 0.8889\n",
      "Epoch 213/250\n",
      "17/17 [==============================] - 0s 7ms/step - loss: 0.2909 - accuracy: 0.9383 - val_loss: 0.3641 - val_accuracy: 0.8889\n",
      "Epoch 214/250\n",
      "17/17 [==============================] - 0s 7ms/step - loss: 0.2893 - accuracy: 0.9259 - val_loss: 0.3750 - val_accuracy: 0.8889\n",
      "Epoch 215/250\n",
      "17/17 [==============================] - 0s 6ms/step - loss: 0.2884 - accuracy: 0.9383 - val_loss: 0.3658 - val_accuracy: 0.8889\n",
      "Epoch 216/250\n",
      "17/17 [==============================] - 0s 6ms/step - loss: 0.2898 - accuracy: 0.9506 - val_loss: 0.3521 - val_accuracy: 0.7778\n",
      "Epoch 217/250\n",
      "17/17 [==============================] - 0s 6ms/step - loss: 0.2893 - accuracy: 0.9383 - val_loss: 0.3535 - val_accuracy: 0.8889\n",
      "Epoch 218/250\n",
      "17/17 [==============================] - 0s 6ms/step - loss: 0.2860 - accuracy: 0.9383 - val_loss: 0.3506 - val_accuracy: 0.8889\n",
      "Epoch 219/250\n",
      "17/17 [==============================] - 0s 7ms/step - loss: 0.2883 - accuracy: 0.9259 - val_loss: 0.3359 - val_accuracy: 0.8889\n",
      "Epoch 220/250\n",
      "17/17 [==============================] - 0s 7ms/step - loss: 0.2875 - accuracy: 0.9136 - val_loss: 0.4140 - val_accuracy: 0.8889\n",
      "Epoch 221/250\n",
      "17/17 [==============================] - 0s 6ms/step - loss: 0.3056 - accuracy: 0.9383 - val_loss: 0.3706 - val_accuracy: 0.8889\n",
      "Epoch 222/250\n",
      "17/17 [==============================] - 0s 6ms/step - loss: 0.2893 - accuracy: 0.9259 - val_loss: 0.3618 - val_accuracy: 0.8889\n",
      "Epoch 223/250\n",
      "17/17 [==============================] - 0s 6ms/step - loss: 0.2889 - accuracy: 0.9136 - val_loss: 0.3557 - val_accuracy: 0.7778\n",
      "Epoch 224/250\n",
      "17/17 [==============================] - 0s 6ms/step - loss: 0.2866 - accuracy: 0.9259 - val_loss: 0.3616 - val_accuracy: 0.8889\n",
      "Epoch 225/250\n",
      "17/17 [==============================] - 0s 6ms/step - loss: 0.2846 - accuracy: 0.9383 - val_loss: 0.3567 - val_accuracy: 0.8889\n",
      "Epoch 226/250\n",
      "17/17 [==============================] - 0s 6ms/step - loss: 0.2847 - accuracy: 0.9259 - val_loss: 0.3471 - val_accuracy: 0.7778\n",
      "Epoch 227/250\n",
      "17/17 [==============================] - 0s 6ms/step - loss: 0.3000 - accuracy: 0.9136 - val_loss: 0.3584 - val_accuracy: 0.8889\n",
      "Epoch 228/250\n",
      "17/17 [==============================] - 0s 6ms/step - loss: 0.2809 - accuracy: 0.9383 - val_loss: 0.3559 - val_accuracy: 0.8889\n",
      "Epoch 229/250\n",
      "17/17 [==============================] - 0s 8ms/step - loss: 0.2835 - accuracy: 0.9259 - val_loss: 0.3506 - val_accuracy: 0.7778\n",
      "Epoch 230/250\n",
      "17/17 [==============================] - 0s 7ms/step - loss: 0.2860 - accuracy: 0.9259 - val_loss: 0.3685 - val_accuracy: 0.7778\n",
      "Epoch 231/250\n",
      "17/17 [==============================] - 0s 7ms/step - loss: 0.2853 - accuracy: 0.9383 - val_loss: 0.3710 - val_accuracy: 0.8889\n",
      "Epoch 232/250\n",
      "17/17 [==============================] - 0s 7ms/step - loss: 0.2829 - accuracy: 0.9259 - val_loss: 0.3701 - val_accuracy: 0.8889\n",
      "Epoch 233/250\n",
      "17/17 [==============================] - 0s 7ms/step - loss: 0.2832 - accuracy: 0.9259 - val_loss: 0.3540 - val_accuracy: 0.8889\n",
      "Epoch 234/250\n",
      "17/17 [==============================] - 0s 7ms/step - loss: 0.2823 - accuracy: 0.9383 - val_loss: 0.4076 - val_accuracy: 0.8889\n",
      "Epoch 235/250\n",
      "17/17 [==============================] - 0s 6ms/step - loss: 0.2919 - accuracy: 0.9383 - val_loss: 0.4062 - val_accuracy: 0.8889\n",
      "Epoch 236/250\n",
      "17/17 [==============================] - 0s 6ms/step - loss: 0.2837 - accuracy: 0.9506 - val_loss: 0.3755 - val_accuracy: 0.7778\n",
      "Epoch 237/250\n",
      "17/17 [==============================] - 0s 6ms/step - loss: 0.2836 - accuracy: 0.9506 - val_loss: 0.3548 - val_accuracy: 0.7778\n",
      "Epoch 238/250\n",
      "17/17 [==============================] - 0s 6ms/step - loss: 0.2876 - accuracy: 0.9259 - val_loss: 0.3516 - val_accuracy: 0.8889\n",
      "Epoch 239/250\n",
      "17/17 [==============================] - 0s 6ms/step - loss: 0.2808 - accuracy: 0.9136 - val_loss: 0.3410 - val_accuracy: 0.8889\n",
      "Epoch 240/250\n",
      "17/17 [==============================] - 0s 7ms/step - loss: 0.2807 - accuracy: 0.9259 - val_loss: 0.3607 - val_accuracy: 0.8889\n",
      "Epoch 241/250\n",
      "17/17 [==============================] - 0s 6ms/step - loss: 0.2815 - accuracy: 0.9259 - val_loss: 0.3744 - val_accuracy: 0.8889\n",
      "Epoch 242/250\n",
      "17/17 [==============================] - 0s 6ms/step - loss: 0.2818 - accuracy: 0.9259 - val_loss: 0.4223 - val_accuracy: 0.7778\n",
      "Epoch 243/250\n",
      "17/17 [==============================] - 0s 6ms/step - loss: 0.2953 - accuracy: 0.9259 - val_loss: 0.3880 - val_accuracy: 0.7778\n",
      "Epoch 244/250\n",
      "17/17 [==============================] - 0s 6ms/step - loss: 0.2823 - accuracy: 0.9383 - val_loss: 0.3822 - val_accuracy: 0.7778\n",
      "Epoch 245/250\n",
      "17/17 [==============================] - 0s 6ms/step - loss: 0.2833 - accuracy: 0.9383 - val_loss: 0.3606 - val_accuracy: 0.7778\n",
      "Epoch 246/250\n",
      "17/17 [==============================] - 0s 6ms/step - loss: 0.2820 - accuracy: 0.9259 - val_loss: 0.3514 - val_accuracy: 0.7778\n",
      "Epoch 247/250\n",
      "17/17 [==============================] - 0s 6ms/step - loss: 0.3034 - accuracy: 0.9383 - val_loss: 0.3450 - val_accuracy: 0.8889\n",
      "Epoch 248/250\n",
      "17/17 [==============================] - 0s 6ms/step - loss: 0.2822 - accuracy: 0.9259 - val_loss: 0.3636 - val_accuracy: 0.8889\n",
      "Epoch 249/250\n",
      "17/17 [==============================] - 0s 6ms/step - loss: 0.2768 - accuracy: 0.9383 - val_loss: 0.3636 - val_accuracy: 0.8889\n",
      "Epoch 250/250\n",
      "17/17 [==============================] - 0s 6ms/step - loss: 0.2800 - accuracy: 0.9506 - val_loss: 0.3423 - val_accuracy: 0.7778\n"
     ]
    }
   ],
   "source": [
    "model.compile(loss=\"binary_crossentropy\",optimizer=SGD(0.01),metrics=[\"accuracy\"])\n",
    "history=model.fit(x_train,y_train,batch_size=5,epochs=250,validation_split=0.1) "
   ]
  },
  {
   "cell_type": "code",
   "execution_count": 45,
   "id": "f264010e",
   "metadata": {},
   "outputs": [
    {
     "data": {
      "text/plain": [
       "<matplotlib.legend.Legend at 0x208422733d0>"
      ]
     },
     "execution_count": 45,
     "metadata": {},
     "output_type": "execute_result"
    },
    {
     "data": {
      "image/png": "[encoded data removed]",
      "text/plain": [
       "<Figure size 640x480 with 1 Axes>"
      ]
     },
     "metadata": {},
     "output_type": "display_data"
    }
   ],
   "source": [
    "plt.plot(range(1,251),history.history[\"loss\"],label=\"train_loss\")\n",
    "plt.plot(range(1,251),history.history[\"val_loss\"],label=\"test_loss\") \n",
    "plt.legend()"
   ]
  },
  {
   "cell_type": "markdown",
   "id": "bb0e957f",
   "metadata": {},
   "source": [
    "### Predicting the model "
   ]
  },
  {
   "cell_type": "code",
   "execution_count": 46,
   "id": "55eca951",
   "metadata": {},
   "outputs": [
    {
     "name": "stdout",
     "output_type": "stream",
     "text": [
      "1/1 [==============================] - 0s 146ms/step\n"
     ]
    },
    {
     "data": {
      "text/plain": [
       "array([[3.3429358e-04],\n",
       "       [8.8690042e-01],\n",
       "       [9.7125971e-01],\n",
       "       [1.3041918e-02],\n",
       "       [6.1408848e-01],\n",
       "       [1.2707420e-02],\n",
       "       [7.0393467e-01],\n",
       "       [3.4442477e-04],\n",
       "       [1.6085227e-04],\n",
       "       [9.8446029e-01]], dtype=float32)"
      ]
     },
     "execution_count": 46,
     "metadata": {},
     "output_type": "execute_result"
    }
   ],
   "source": [
    "predicted=model.predict(x_test) \n",
    "predicted "
   ]
  },
  {
   "cell_type": "code",
   "execution_count": 47,
   "id": "438b972e",
   "metadata": {},
   "outputs": [
    {
     "data": {
      "text/plain": [
       "array([[0],\n",
       "       [1],\n",
       "       [1],\n",
       "       [0],\n",
       "       [1],\n",
       "       [0],\n",
       "       [1],\n",
       "       [0],\n",
       "       [0],\n",
       "       [1]])"
      ]
     },
     "execution_count": 47,
     "metadata": {},
     "output_type": "execute_result"
    }
   ],
   "source": [
    "predicted=np.where(predicted>0.5,1,0)\n",
    "predicted  "
   ]
  },
  {
   "cell_type": "markdown",
   "id": "1cdca40d",
   "metadata": {},
   "source": [
    "### Evaluating the model"
   ]
  },
  {
   "cell_type": "code",
   "execution_count": 48,
   "id": "e5665761",
   "metadata": {},
   "outputs": [
    {
     "name": "stdout",
     "output_type": "stream",
     "text": [
      "1.0\n"
     ]
    },
    {
     "data": {
      "image/png": "[encoded data removed]",
      "text/plain": [
       "<Figure size 640x480 with 2 Axes>"
      ]
     },
     "metadata": {},
     "output_type": "display_data"
    }
   ],
   "source": [
    "from sklearn.metrics import accuracy_score,confusion_matrix,ConfusionMatrixDisplay\n",
    "print(accuracy_score(y_test,predicted))\n",
    "cm=confusion_matrix(y_test,predicted)\n",
    "va=ConfusionMatrixDisplay(cm)\n",
    "va.plot() \n",
    "plt.show()"
   ]
  },
  {
   "cell_type": "markdown",
   "id": "e29e3ce8",
   "metadata": {},
   "source": [
    "### PLOTING THE DECISION SURFACE"
   ]
  },
  {
   "cell_type": "code",
   "execution_count": 49,
   "id": "fa6c3eb2",
   "metadata": {},
   "outputs": [],
   "source": [
    "from mlxtend.plotting  import plot_decision_regions  "
   ]
  },
  {
   "cell_type": "code",
   "execution_count": 50,
   "id": "ffffa104",
   "metadata": {},
   "outputs": [
    {
     "name": "stdout",
     "output_type": "stream",
     "text": [
      "9600/9600 [==============================] - 22s 2ms/step\n"
     ]
    },
    {
     "data": {
      "text/plain": [
       "<AxesSubplot:>"
      ]
     },
     "execution_count": 50,
     "metadata": {},
     "output_type": "execute_result"
    },
    {
     "data": {
      "image/png": "[encoded data removed]",
      "text/plain": [
       "<Figure size 640x480 with 1 Axes>"
      ]
     },
     "metadata": {},
     "output_type": "display_data"
    }
   ],
   "source": [
    "plot_decision_regions(x_train,y_train.values,clf=model) "
   ]
  },
  {
   "cell_type": "code",
   "execution_count": 51,
   "id": "d8e35fb0",
   "metadata": {},
   "outputs": [
    {
     "name": "stdout",
     "output_type": "stream",
     "text": [
      "9600/9600 [==============================] - 23s 2ms/step\n"
     ]
    },
    {
     "data": {
      "text/plain": [
       "<AxesSubplot:>"
      ]
     },
     "execution_count": 51,
     "metadata": {},
     "output_type": "execute_result"
    },
    {
     "data": {
      "image/png": "[encoded data removed]",
      "text/plain": [
       "<Figure size 640x480 with 1 Axes>"
      ]
     },
     "metadata": {},
     "output_type": "display_data"
    }
   ],
   "source": [
    "plot_decision_regions(x_test,y_test.values,clf=model)  "
   ]
  },
  {
   "cell_type": "code",
   "execution_count": 52,
   "id": "29447001",
   "metadata": {},
   "outputs": [],
   "source": [
    "# This model achieves an accuracy of 95%. The model architecture consists of 3 hidden layers, Below are the mentioned Specifications\n",
    "# 1st HL:-18 neurons with the ReLU activation functions and L2 regularizer with a strength of 0.001.\n",
    "# 2nd HL:-16 neurons with the ReLU activation function and L2 regularizer with a strength of 0.001.\n",
    "# 3rd HL:-10 neurons with the ReLU activation function and L2 regularizer with a strength of 0.001.\n",
    "# output layer :- sigmoid activation function.\n",
    "# Loss function: Binary cross-entropy.\n",
    "# Optimizer: Stochastic Gradient Descent (SGD) with a batch size of 5 with learning rate of 0.01.\n",
    "# The model was trained for 250 epochs"
   ]
  },
  {
   "cell_type": "code",
   "execution_count": null,
   "id": "ab949c5d",
   "metadata": {},
   "outputs": [],
   "source": []
  }
 ],
 "metadata": {
  "kernelspec": {
   "display_name": "Python 3 (ipykernel)",
   "language": "python",
   "name": "python3"
  },
  "language_info": {
   "codemirror_mode": {
    "name": "ipython",
    "version": 3
   },
   "file_extension": ".py",
   "mimetype": "text/x-python",
   "name": "python",
   "nbconvert_exporter": "python",
   "pygments_lexer": "ipython3",
   "version": "3.9.13"
  }
 },
 "nbformat": 4,
 "nbformat_minor": 5
}
