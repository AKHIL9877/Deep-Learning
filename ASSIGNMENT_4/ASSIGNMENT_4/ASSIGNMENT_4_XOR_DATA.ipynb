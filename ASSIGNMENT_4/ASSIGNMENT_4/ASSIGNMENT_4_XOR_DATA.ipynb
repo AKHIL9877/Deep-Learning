{
 "cells": [
  {
   "cell_type": "markdown",
   "id": "e6d54a8e",
   "metadata": {},
   "source": [
    "## Importing Libraries "
   ]
  },
  {
   "cell_type": "code",
   "execution_count": 1,
   "id": "f6c43cdb",
   "metadata": {},
   "outputs": [],
   "source": [
    "import numpy as np\n",
    "import pandas as pd  \n",
    "from sklearn.preprocessing import StandardScaler\n",
    "from sklearn.model_selection import train_test_split\n",
    "from keras import Sequential \n",
    "from keras.layers import Dense \n",
    "from keras.regularizers import L1,L2,L1L2 \n",
    "from keras.optimizers import SGD  \n",
    "import matplotlib.pyplot as plt \n",
    "import seaborn as sns  "
   ]
  },
  {
   "cell_type": "markdown",
   "id": "4ae56463",
   "metadata": {},
   "source": [
    "## Importing the CSV file "
   ]
  },
  {
   "cell_type": "code",
   "execution_count": 2,
   "id": "37f862da",
   "metadata": {},
   "outputs": [
    {
     "data": {
      "text/html": [
       "<div>\n",
       "<style scoped>\n",
       "    .dataframe tbody tr th:only-of-type {\n",
       "        vertical-align: middle;\n",
       "    }\n",
       "\n",
       "    .dataframe tbody tr th {\n",
       "        vertical-align: top;\n",
       "    }\n",
       "\n",
       "    .dataframe thead th {\n",
       "        text-align: right;\n",
       "    }\n",
       "</style>\n",
       "<table border=\"1\" class=\"dataframe\">\n",
       "  <thead>\n",
       "    <tr style=\"text-align: right;\">\n",
       "      <th></th>\n",
       "      <th>0</th>\n",
       "      <th>1</th>\n",
       "      <th>2</th>\n",
       "    </tr>\n",
       "  </thead>\n",
       "  <tbody>\n",
       "    <tr>\n",
       "      <th>0</th>\n",
       "      <td>1.764052</td>\n",
       "      <td>0.400157</td>\n",
       "      <td>-1.0</td>\n",
       "    </tr>\n",
       "    <tr>\n",
       "      <th>1</th>\n",
       "      <td>0.978738</td>\n",
       "      <td>2.240893</td>\n",
       "      <td>-1.0</td>\n",
       "    </tr>\n",
       "    <tr>\n",
       "      <th>2</th>\n",
       "      <td>1.867558</td>\n",
       "      <td>-0.977278</td>\n",
       "      <td>1.0</td>\n",
       "    </tr>\n",
       "    <tr>\n",
       "      <th>3</th>\n",
       "      <td>0.950088</td>\n",
       "      <td>-0.151357</td>\n",
       "      <td>1.0</td>\n",
       "    </tr>\n",
       "    <tr>\n",
       "      <th>4</th>\n",
       "      <td>-0.103219</td>\n",
       "      <td>0.410599</td>\n",
       "      <td>1.0</td>\n",
       "    </tr>\n",
       "  </tbody>\n",
       "</table>\n",
       "</div>"
      ],
      "text/plain": [
       "          0         1    2\n",
       "0  1.764052  0.400157 -1.0\n",
       "1  0.978738  2.240893 -1.0\n",
       "2  1.867558 -0.977278  1.0\n",
       "3  0.950088 -0.151357  1.0\n",
       "4 -0.103219  0.410599  1.0"
      ]
     },
     "execution_count": 2,
     "metadata": {},
     "output_type": "execute_result"
    }
   ],
   "source": [
    "df=pd.read_csv(r\"C:\\Users\\hp\\Downloads\\ASSIGNMENT_4\\ASSIGNMENT_4\\Multiple CSV\\7.xor.csv\",header=None) \n",
    "df.head() "
   ]
  },
  {
   "cell_type": "code",
   "execution_count": 3,
   "id": "e0471fa6",
   "metadata": {},
   "outputs": [
    {
     "data": {
      "text/html": [
       "<div>\n",
       "<style scoped>\n",
       "    .dataframe tbody tr th:only-of-type {\n",
       "        vertical-align: middle;\n",
       "    }\n",
       "\n",
       "    .dataframe tbody tr th {\n",
       "        vertical-align: top;\n",
       "    }\n",
       "\n",
       "    .dataframe thead th {\n",
       "        text-align: right;\n",
       "    }\n",
       "</style>\n",
       "<table border=\"1\" class=\"dataframe\">\n",
       "  <thead>\n",
       "    <tr style=\"text-align: right;\">\n",
       "      <th></th>\n",
       "      <th>f_1</th>\n",
       "      <th>f_2</th>\n",
       "      <th>label</th>\n",
       "    </tr>\n",
       "  </thead>\n",
       "  <tbody>\n",
       "    <tr>\n",
       "      <th>0</th>\n",
       "      <td>1.764052</td>\n",
       "      <td>0.400157</td>\n",
       "      <td>-1.0</td>\n",
       "    </tr>\n",
       "    <tr>\n",
       "      <th>1</th>\n",
       "      <td>0.978738</td>\n",
       "      <td>2.240893</td>\n",
       "      <td>-1.0</td>\n",
       "    </tr>\n",
       "    <tr>\n",
       "      <th>2</th>\n",
       "      <td>1.867558</td>\n",
       "      <td>-0.977278</td>\n",
       "      <td>1.0</td>\n",
       "    </tr>\n",
       "    <tr>\n",
       "      <th>3</th>\n",
       "      <td>0.950088</td>\n",
       "      <td>-0.151357</td>\n",
       "      <td>1.0</td>\n",
       "    </tr>\n",
       "    <tr>\n",
       "      <th>4</th>\n",
       "      <td>-0.103219</td>\n",
       "      <td>0.410599</td>\n",
       "      <td>1.0</td>\n",
       "    </tr>\n",
       "  </tbody>\n",
       "</table>\n",
       "</div>"
      ],
      "text/plain": [
       "        f_1       f_2  label\n",
       "0  1.764052  0.400157   -1.0\n",
       "1  0.978738  2.240893   -1.0\n",
       "2  1.867558 -0.977278    1.0\n",
       "3  0.950088 -0.151357    1.0\n",
       "4 -0.103219  0.410599    1.0"
      ]
     },
     "execution_count": 3,
     "metadata": {},
     "output_type": "execute_result"
    }
   ],
   "source": [
    "#renaming columns properly\n",
    "df.columns=[\"f_1\",\"f_2\",\"label\"] \n",
    "df.head() "
   ]
  },
  {
   "cell_type": "code",
   "execution_count": 4,
   "id": "2cf3f6b6",
   "metadata": {},
   "outputs": [
    {
     "data": {
      "text/html": [
       "<div>\n",
       "<style scoped>\n",
       "    .dataframe tbody tr th:only-of-type {\n",
       "        vertical-align: middle;\n",
       "    }\n",
       "\n",
       "    .dataframe tbody tr th {\n",
       "        vertical-align: top;\n",
       "    }\n",
       "\n",
       "    .dataframe thead th {\n",
       "        text-align: right;\n",
       "    }\n",
       "</style>\n",
       "<table border=\"1\" class=\"dataframe\">\n",
       "  <thead>\n",
       "    <tr style=\"text-align: right;\">\n",
       "      <th></th>\n",
       "      <th>f_1</th>\n",
       "      <th>f_2</th>\n",
       "      <th>label</th>\n",
       "    </tr>\n",
       "  </thead>\n",
       "  <tbody>\n",
       "    <tr>\n",
       "      <th>0</th>\n",
       "      <td>1.764052</td>\n",
       "      <td>0.400157</td>\n",
       "      <td>0</td>\n",
       "    </tr>\n",
       "    <tr>\n",
       "      <th>1</th>\n",
       "      <td>0.978738</td>\n",
       "      <td>2.240893</td>\n",
       "      <td>0</td>\n",
       "    </tr>\n",
       "    <tr>\n",
       "      <th>2</th>\n",
       "      <td>1.867558</td>\n",
       "      <td>-0.977278</td>\n",
       "      <td>1</td>\n",
       "    </tr>\n",
       "    <tr>\n",
       "      <th>3</th>\n",
       "      <td>0.950088</td>\n",
       "      <td>-0.151357</td>\n",
       "      <td>1</td>\n",
       "    </tr>\n",
       "    <tr>\n",
       "      <th>4</th>\n",
       "      <td>-0.103219</td>\n",
       "      <td>0.410599</td>\n",
       "      <td>1</td>\n",
       "    </tr>\n",
       "  </tbody>\n",
       "</table>\n",
       "</div>"
      ],
      "text/plain": [
       "        f_1       f_2  label\n",
       "0  1.764052  0.400157      0\n",
       "1  0.978738  2.240893      0\n",
       "2  1.867558 -0.977278      1\n",
       "3  0.950088 -0.151357      1\n",
       "4 -0.103219  0.410599      1"
      ]
     },
     "execution_count": 4,
     "metadata": {},
     "output_type": "execute_result"
    }
   ],
   "source": [
    "df[\"label\"]=np.where(df[\"label\"]==-1.0,0,1)\n",
    "df.head() "
   ]
  },
  {
   "cell_type": "markdown",
   "id": "952ac00d",
   "metadata": {},
   "source": [
    "## checking label counts"
   ]
  },
  {
   "cell_type": "code",
   "execution_count": 5,
   "id": "6db7ba62",
   "metadata": {},
   "outputs": [
    {
     "data": {
      "text/plain": [
       "0    260\n",
       "1    240\n",
       "Name: label, dtype: int64"
      ]
     },
     "execution_count": 5,
     "metadata": {},
     "output_type": "execute_result"
    }
   ],
   "source": [
    "df[\"label\"].value_counts() "
   ]
  },
  {
   "cell_type": "code",
   "execution_count": 6,
   "id": "27cc0016",
   "metadata": {},
   "outputs": [
    {
     "name": "stdout",
     "output_type": "stream",
     "text": [
      "<class 'pandas.core.frame.DataFrame'>\n",
      "RangeIndex: 500 entries, 0 to 499\n",
      "Data columns (total 3 columns):\n",
      " #   Column  Non-Null Count  Dtype  \n",
      "---  ------  --------------  -----  \n",
      " 0   f_1     500 non-null    float64\n",
      " 1   f_2     500 non-null    float64\n",
      " 2   label   500 non-null    int32  \n",
      "dtypes: float64(2), int32(1)\n",
      "memory usage: 9.9 KB\n"
     ]
    }
   ],
   "source": [
    "df.info() "
   ]
  },
  {
   "cell_type": "code",
   "execution_count": 7,
   "id": "5b779d8f",
   "metadata": {},
   "outputs": [
    {
     "name": "stderr",
     "output_type": "stream",
     "text": [
      "C:\\Users\\hp\\anaconda3\\lib\\site-packages\\seaborn\\_decorators.py:36: FutureWarning: Pass the following variable as a keyword arg: x. From version 0.12, the only valid positional argument will be `data`, and passing other arguments without an explicit keyword will result in an error or misinterpretation.\n",
      "  warnings.warn(\n"
     ]
    },
    {
     "data": {
      "text/plain": [
       "<AxesSubplot:xlabel='f_1'>"
      ]
     },
     "execution_count": 7,
     "metadata": {},
     "output_type": "execute_result"
    },
    {
     "data": {
      "image/png": "[encoded data removed]",
      "text/plain": [
       "<Figure size 640x480 with 1 Axes>"
      ]
     },
     "metadata": {},
     "output_type": "display_data"
    }
   ],
   "source": [
    "sns.boxplot(df[\"f_1\"])  "
   ]
  },
  {
   "cell_type": "code",
   "execution_count": 8,
   "id": "016fb240",
   "metadata": {},
   "outputs": [
    {
     "name": "stderr",
     "output_type": "stream",
     "text": [
      "C:\\Users\\hp\\anaconda3\\lib\\site-packages\\seaborn\\_decorators.py:36: FutureWarning: Pass the following variable as a keyword arg: x. From version 0.12, the only valid positional argument will be `data`, and passing other arguments without an explicit keyword will result in an error or misinterpretation.\n",
      "  warnings.warn(\n"
     ]
    },
    {
     "data": {
      "text/plain": [
       "<AxesSubplot:xlabel='f_2'>"
      ]
     },
     "execution_count": 8,
     "metadata": {},
     "output_type": "execute_result"
    },
    {
     "data": {
      "image/png": "[encoded data removed]",
      "text/plain": [
       "<Figure size 640x480 with 1 Axes>"
      ]
     },
     "metadata": {},
     "output_type": "display_data"
    }
   ],
   "source": [
    "sns.boxplot(df[\"f_2\"]) "
   ]
  },
  {
   "cell_type": "markdown",
   "id": "a6bcc88c",
   "metadata": {},
   "source": [
    "## splitting the data into input and output features "
   ]
  },
  {
   "cell_type": "code",
   "execution_count": 9,
   "id": "2b1bf0a1",
   "metadata": {},
   "outputs": [],
   "source": [
    "x=df[[\"f_1\",\"f_2\"]] \n",
    "y=df[\"label\"].astype(int)"
   ]
  },
  {
   "cell_type": "code",
   "execution_count": 10,
   "id": "b690c510",
   "metadata": {},
   "outputs": [
    {
     "data": {
      "text/html": [
       "<div>\n",
       "<style scoped>\n",
       "    .dataframe tbody tr th:only-of-type {\n",
       "        vertical-align: middle;\n",
       "    }\n",
       "\n",
       "    .dataframe tbody tr th {\n",
       "        vertical-align: top;\n",
       "    }\n",
       "\n",
       "    .dataframe thead th {\n",
       "        text-align: right;\n",
       "    }\n",
       "</style>\n",
       "<table border=\"1\" class=\"dataframe\">\n",
       "  <thead>\n",
       "    <tr style=\"text-align: right;\">\n",
       "      <th></th>\n",
       "      <th>f_1</th>\n",
       "      <th>f_2</th>\n",
       "    </tr>\n",
       "  </thead>\n",
       "  <tbody>\n",
       "    <tr>\n",
       "      <th>0</th>\n",
       "      <td>1.764052</td>\n",
       "      <td>0.400157</td>\n",
       "    </tr>\n",
       "    <tr>\n",
       "      <th>1</th>\n",
       "      <td>0.978738</td>\n",
       "      <td>2.240893</td>\n",
       "    </tr>\n",
       "    <tr>\n",
       "      <th>2</th>\n",
       "      <td>1.867558</td>\n",
       "      <td>-0.977278</td>\n",
       "    </tr>\n",
       "    <tr>\n",
       "      <th>3</th>\n",
       "      <td>0.950088</td>\n",
       "      <td>-0.151357</td>\n",
       "    </tr>\n",
       "    <tr>\n",
       "      <th>4</th>\n",
       "      <td>-0.103219</td>\n",
       "      <td>0.410599</td>\n",
       "    </tr>\n",
       "  </tbody>\n",
       "</table>\n",
       "</div>"
      ],
      "text/plain": [
       "        f_1       f_2\n",
       "0  1.764052  0.400157\n",
       "1  0.978738  2.240893\n",
       "2  1.867558 -0.977278\n",
       "3  0.950088 -0.151357\n",
       "4 -0.103219  0.410599"
      ]
     },
     "execution_count": 10,
     "metadata": {},
     "output_type": "execute_result"
    }
   ],
   "source": [
    "x.head()  "
   ]
  },
  {
   "cell_type": "code",
   "execution_count": 11,
   "id": "03b15a79",
   "metadata": {},
   "outputs": [
    {
     "data": {
      "text/plain": [
       "0    0\n",
       "1    0\n",
       "2    1\n",
       "3    1\n",
       "4    1\n",
       "Name: label, dtype: int32"
      ]
     },
     "execution_count": 11,
     "metadata": {},
     "output_type": "execute_result"
    }
   ],
   "source": [
    "y.head()  "
   ]
  },
  {
   "cell_type": "markdown",
   "id": "83deb094",
   "metadata": {},
   "source": [
    "## Split the data into train and test"
   ]
  },
  {
   "cell_type": "code",
   "execution_count": 12,
   "id": "ec76d198",
   "metadata": {},
   "outputs": [],
   "source": [
    "x_train,x_test,y_train,y_test=train_test_split(x,y,test_size=0.1)  "
   ]
  },
  {
   "cell_type": "code",
   "execution_count": 13,
   "id": "c75795ff",
   "metadata": {},
   "outputs": [
    {
     "data": {
      "text/plain": [
       "(450, 2)"
      ]
     },
     "execution_count": 13,
     "metadata": {},
     "output_type": "execute_result"
    }
   ],
   "source": [
    "x_train.shape  "
   ]
  },
  {
   "cell_type": "code",
   "execution_count": 14,
   "id": "eedac2b7",
   "metadata": {},
   "outputs": [
    {
     "data": {
      "text/plain": [
       "(50, 2)"
      ]
     },
     "execution_count": 14,
     "metadata": {},
     "output_type": "execute_result"
    }
   ],
   "source": [
    "x_test.shape "
   ]
  },
  {
   "cell_type": "markdown",
   "id": "3d1dd3d6",
   "metadata": {},
   "source": [
    "## Standardising input features "
   ]
  },
  {
   "cell_type": "code",
   "execution_count": 15,
   "id": "42fa0ce2",
   "metadata": {},
   "outputs": [],
   "source": [
    "std=StandardScaler()\n",
    "x_train=std.fit_transform(x_train)\n",
    "x_test=std.transform(x_test)  "
   ]
  },
  {
   "cell_type": "markdown",
   "id": "b743e609",
   "metadata": {},
   "source": [
    "## Build the Logical Structure\n"
   ]
  },
  {
   "cell_type": "code",
   "execution_count": 16,
   "id": "707be013",
   "metadata": {},
   "outputs": [],
   "source": [
    "model=Sequential()\n",
    "model.add(Dense(20,activation=\"relu\",kernel_regularizer=L2(0.001),bias_regularizer=L2(0.001),input_dim=2))\n",
    "model.add(Dense(18,activation=\"relu\",kernel_regularizer=L2(0.001),bias_regularizer=L2(0.001)))\n",
    "model.add(Dense(16,activation=\"relu\",kernel_regularizer=L2(0.001),bias_regularizer=L2(0.001)))\n",
    "model.add(Dense(1,activation=\"sigmoid\",kernel_regularizer=L2(0.001),bias_regularizer=L2(0.001))) "
   ]
  },
  {
   "cell_type": "code",
   "execution_count": 17,
   "id": "081b71b1",
   "metadata": {},
   "outputs": [
    {
     "name": "stdout",
     "output_type": "stream",
     "text": [
      "Model: \"sequential\"\n",
      "_________________________________________________________________\n",
      " Layer (type)                Output Shape              Param #   \n",
      "=================================================================\n",
      " dense (Dense)               (None, 20)                60        \n",
      "                                                                 \n",
      " dense_1 (Dense)             (None, 18)                378       \n",
      "                                                                 \n",
      " dense_2 (Dense)             (None, 16)                304       \n",
      "                                                                 \n",
      " dense_3 (Dense)             (None, 1)                 17        \n",
      "                                                                 \n",
      "=================================================================\n",
      "Total params: 759 (2.96 KB)\n",
      "Trainable params: 759 (2.96 KB)\n",
      "Non-trainable params: 0 (0.00 Byte)\n",
      "_________________________________________________________________\n"
     ]
    }
   ],
   "source": [
    "model.summary()  "
   ]
  },
  {
   "cell_type": "code",
   "execution_count": 18,
   "id": "efd60b02",
   "metadata": {},
   "outputs": [
    {
     "name": "stdout",
     "output_type": "stream",
     "text": [
      "Epoch 1/35\n",
      "41/41 [==============================] - 2s 12ms/step - loss: 0.7284 - accuracy: 0.6074 - val_loss: 0.7142 - val_accuracy: 0.7556\n",
      "Epoch 2/35\n",
      "41/41 [==============================] - 0s 4ms/step - loss: 0.7225 - accuracy: 0.7012 - val_loss: 0.7074 - val_accuracy: 0.8000\n",
      "Epoch 3/35\n",
      "41/41 [==============================] - 0s 4ms/step - loss: 0.7170 - accuracy: 0.7432 - val_loss: 0.7011 - val_accuracy: 0.8444\n",
      "Epoch 4/35\n",
      "41/41 [==============================] - 0s 4ms/step - loss: 0.7118 - accuracy: 0.7901 - val_loss: 0.6949 - val_accuracy: 0.8444\n",
      "Epoch 5/35\n",
      "41/41 [==============================] - 0s 4ms/step - loss: 0.7066 - accuracy: 0.8123 - val_loss: 0.6883 - val_accuracy: 0.8889\n",
      "Epoch 6/35\n",
      "41/41 [==============================] - 0s 4ms/step - loss: 0.7010 - accuracy: 0.8296 - val_loss: 0.6817 - val_accuracy: 0.8889\n",
      "Epoch 7/35\n",
      "41/41 [==============================] - 0s 4ms/step - loss: 0.6952 - accuracy: 0.8321 - val_loss: 0.6744 - val_accuracy: 0.8222\n",
      "Epoch 8/35\n",
      "41/41 [==============================] - 0s 4ms/step - loss: 0.6892 - accuracy: 0.8247 - val_loss: 0.6669 - val_accuracy: 0.8222\n",
      "Epoch 9/35\n",
      "41/41 [==============================] - 0s 4ms/step - loss: 0.6828 - accuracy: 0.8321 - val_loss: 0.6591 - val_accuracy: 0.8222\n",
      "Epoch 10/35\n",
      "41/41 [==============================] - 0s 4ms/step - loss: 0.6761 - accuracy: 0.8321 - val_loss: 0.6506 - val_accuracy: 0.8222\n",
      "Epoch 11/35\n",
      "41/41 [==============================] - 0s 4ms/step - loss: 0.6688 - accuracy: 0.8420 - val_loss: 0.6417 - val_accuracy: 0.8222\n",
      "Epoch 12/35\n",
      "41/41 [==============================] - 0s 4ms/step - loss: 0.6612 - accuracy: 0.8321 - val_loss: 0.6319 - val_accuracy: 0.8444\n",
      "Epoch 13/35\n",
      "41/41 [==============================] - 0s 4ms/step - loss: 0.6526 - accuracy: 0.8346 - val_loss: 0.6215 - val_accuracy: 0.8667\n",
      "Epoch 14/35\n",
      "41/41 [==============================] - 0s 4ms/step - loss: 0.6435 - accuracy: 0.8444 - val_loss: 0.6106 - val_accuracy: 0.8667\n",
      "Epoch 15/35\n",
      "41/41 [==============================] - 0s 4ms/step - loss: 0.6337 - accuracy: 0.8370 - val_loss: 0.5989 - val_accuracy: 0.8444\n",
      "Epoch 16/35\n",
      "41/41 [==============================] - 0s 4ms/step - loss: 0.6235 - accuracy: 0.8247 - val_loss: 0.5868 - val_accuracy: 0.8444\n",
      "Epoch 17/35\n",
      "41/41 [==============================] - 0s 4ms/step - loss: 0.6127 - accuracy: 0.8395 - val_loss: 0.5736 - val_accuracy: 0.8444\n",
      "Epoch 18/35\n",
      "41/41 [==============================] - 0s 4ms/step - loss: 0.6010 - accuracy: 0.8395 - val_loss: 0.5600 - val_accuracy: 0.8444\n",
      "Epoch 19/35\n",
      "41/41 [==============================] - 0s 5ms/step - loss: 0.5886 - accuracy: 0.8370 - val_loss: 0.5456 - val_accuracy: 0.8444\n",
      "Epoch 20/35\n",
      "41/41 [==============================] - 0s 4ms/step - loss: 0.5753 - accuracy: 0.8469 - val_loss: 0.5310 - val_accuracy: 0.8667\n",
      "Epoch 21/35\n",
      "41/41 [==============================] - 0s 4ms/step - loss: 0.5610 - accuracy: 0.8469 - val_loss: 0.5151 - val_accuracy: 0.8889\n",
      "Epoch 22/35\n",
      "41/41 [==============================] - 0s 5ms/step - loss: 0.5461 - accuracy: 0.8543 - val_loss: 0.4989 - val_accuracy: 0.8889\n",
      "Epoch 23/35\n",
      "41/41 [==============================] - 0s 5ms/step - loss: 0.5300 - accuracy: 0.8593 - val_loss: 0.4816 - val_accuracy: 0.8889\n",
      "Epoch 24/35\n",
      "41/41 [==============================] - 0s 5ms/step - loss: 0.5141 - accuracy: 0.8617 - val_loss: 0.4651 - val_accuracy: 0.8889\n",
      "Epoch 25/35\n",
      "41/41 [==============================] - 0s 4ms/step - loss: 0.4978 - accuracy: 0.8741 - val_loss: 0.4485 - val_accuracy: 0.9111\n",
      "Epoch 26/35\n",
      "41/41 [==============================] - 0s 5ms/step - loss: 0.4817 - accuracy: 0.8741 - val_loss: 0.4320 - val_accuracy: 0.9111\n",
      "Epoch 27/35\n",
      "41/41 [==============================] - 0s 4ms/step - loss: 0.4654 - accuracy: 0.8716 - val_loss: 0.4156 - val_accuracy: 0.9333\n",
      "Epoch 28/35\n",
      "41/41 [==============================] - 0s 6ms/step - loss: 0.4494 - accuracy: 0.8790 - val_loss: 0.3984 - val_accuracy: 0.9333\n",
      "Epoch 29/35\n",
      "41/41 [==============================] - 0s 6ms/step - loss: 0.4336 - accuracy: 0.8889 - val_loss: 0.3827 - val_accuracy: 0.9333\n",
      "Epoch 30/35\n",
      "41/41 [==============================] - 0s 5ms/step - loss: 0.4178 - accuracy: 0.8889 - val_loss: 0.3674 - val_accuracy: 0.9333\n",
      "Epoch 31/35\n",
      "41/41 [==============================] - 0s 4ms/step - loss: 0.4028 - accuracy: 0.8864 - val_loss: 0.3521 - val_accuracy: 0.9333\n",
      "Epoch 32/35\n",
      "41/41 [==============================] - 0s 4ms/step - loss: 0.3872 - accuracy: 0.8963 - val_loss: 0.3373 - val_accuracy: 0.9333\n",
      "Epoch 33/35\n",
      "41/41 [==============================] - 0s 5ms/step - loss: 0.3729 - accuracy: 0.9037 - val_loss: 0.3228 - val_accuracy: 0.9333\n",
      "Epoch 34/35\n",
      "41/41 [==============================] - 0s 5ms/step - loss: 0.3589 - accuracy: 0.9136 - val_loss: 0.3092 - val_accuracy: 0.9333\n",
      "Epoch 35/35\n",
      "41/41 [==============================] - 0s 5ms/step - loss: 0.3455 - accuracy: 0.9235 - val_loss: 0.2971 - val_accuracy: 0.9333\n"
     ]
    }
   ],
   "source": [
    "model.compile(loss=\"binary_crossentropy\",optimizer=SGD(0.01),metrics=[\"accuracy\"])\n",
    "history=model.fit(x_train,y_train,batch_size=10,epochs=35,validation_split=0.1) "
   ]
  },
  {
   "cell_type": "code",
   "execution_count": 19,
   "id": "63f67584",
   "metadata": {},
   "outputs": [
    {
     "data": {
      "text/plain": [
       "<matplotlib.legend.Legend at 0x14a39a62760>"
      ]
     },
     "execution_count": 19,
     "metadata": {},
     "output_type": "execute_result"
    },
    {
     "data": {
      "image/png": "[encoded data removed]",
      "text/plain": [
       "<Figure size 640x480 with 1 Axes>"
      ]
     },
     "metadata": {},
     "output_type": "display_data"
    }
   ],
   "source": [
    "plt.plot(range(1,36),history.history[\"loss\"],label=\"train_loss\")\n",
    "plt.plot(range(1,36),history.history[\"val_loss\"],label=\"test_loss\") \n",
    "plt.legend() "
   ]
  },
  {
   "cell_type": "markdown",
   "id": "5a14ca51",
   "metadata": {},
   "source": [
    "## Predicting the model"
   ]
  },
  {
   "cell_type": "code",
   "execution_count": 20,
   "id": "78449da5",
   "metadata": {},
   "outputs": [
    {
     "name": "stdout",
     "output_type": "stream",
     "text": [
      "2/2 [==============================] - 0s 4ms/step\n"
     ]
    },
    {
     "data": {
      "text/plain": [
       "array([[0.85606277],\n",
       "       [0.13205364],\n",
       "       [0.12183167],\n",
       "       [0.6371406 ],\n",
       "       [0.87278706],\n",
       "       [0.12508056],\n",
       "       [0.71564156],\n",
       "       [0.75560606],\n",
       "       [0.46873274],\n",
       "       [0.94898015],\n",
       "       [0.19165295],\n",
       "       [0.0881573 ],\n",
       "       [0.7796797 ],\n",
       "       [0.09097763],\n",
       "       [0.8632135 ],\n",
       "       [0.9733044 ],\n",
       "       [0.67432296],\n",
       "       [0.03082318],\n",
       "       [0.26496315],\n",
       "       [0.3550544 ],\n",
       "       [0.6020171 ],\n",
       "       [0.36559865],\n",
       "       [0.9949892 ],\n",
       "       [0.49645114],\n",
       "       [0.91511554],\n",
       "       [0.06253609],\n",
       "       [0.7392503 ],\n",
       "       [0.5120988 ],\n",
       "       [0.34131122],\n",
       "       [0.4660405 ],\n",
       "       [0.15866707],\n",
       "       [0.367117  ],\n",
       "       [0.5802433 ],\n",
       "       [0.74059933],\n",
       "       [0.25728586],\n",
       "       [0.64243454],\n",
       "       [0.36737534],\n",
       "       [0.01936664],\n",
       "       [0.26402518],\n",
       "       [0.17814401],\n",
       "       [0.20016237],\n",
       "       [0.52784675],\n",
       "       [0.9807757 ],\n",
       "       [0.22480169],\n",
       "       [0.39669514],\n",
       "       [0.27899253],\n",
       "       [0.21932521],\n",
       "       [0.13260972],\n",
       "       [0.63711077],\n",
       "       [0.4562684 ]], dtype=float32)"
      ]
     },
     "execution_count": 20,
     "metadata": {},
     "output_type": "execute_result"
    }
   ],
   "source": [
    "predicted=model.predict(x_test) \n",
    "predicted "
   ]
  },
  {
   "cell_type": "code",
   "execution_count": 21,
   "id": "35d1dc44",
   "metadata": {},
   "outputs": [
    {
     "data": {
      "text/plain": [
       "array([[1],\n",
       "       [0],\n",
       "       [0],\n",
       "       [1],\n",
       "       [1],\n",
       "       [0],\n",
       "       [1],\n",
       "       [1],\n",
       "       [0],\n",
       "       [1],\n",
       "       [0],\n",
       "       [0],\n",
       "       [1],\n",
       "       [0],\n",
       "       [1],\n",
       "       [1],\n",
       "       [1],\n",
       "       [0],\n",
       "       [0],\n",
       "       [0],\n",
       "       [1],\n",
       "       [0],\n",
       "       [1],\n",
       "       [0],\n",
       "       [1],\n",
       "       [0],\n",
       "       [1],\n",
       "       [1],\n",
       "       [0],\n",
       "       [0],\n",
       "       [0],\n",
       "       [0],\n",
       "       [1],\n",
       "       [1],\n",
       "       [0],\n",
       "       [1],\n",
       "       [0],\n",
       "       [0],\n",
       "       [0],\n",
       "       [0],\n",
       "       [0],\n",
       "       [1],\n",
       "       [1],\n",
       "       [0],\n",
       "       [0],\n",
       "       [0],\n",
       "       [0],\n",
       "       [0],\n",
       "       [1],\n",
       "       [0]])"
      ]
     },
     "execution_count": 21,
     "metadata": {},
     "output_type": "execute_result"
    }
   ],
   "source": [
    "predicted=np.where(predicted>0.5,1,0)\n",
    "predicted  "
   ]
  },
  {
   "cell_type": "markdown",
   "id": "cbb685a5",
   "metadata": {},
   "source": [
    "## Evaluating the model "
   ]
  },
  {
   "cell_type": "code",
   "execution_count": 22,
   "id": "d29df17b",
   "metadata": {},
   "outputs": [
    {
     "name": "stdout",
     "output_type": "stream",
     "text": [
      "0.96\n"
     ]
    },
    {
     "data": {
      "image/png": "[encoded data removed]",
      "text/plain": [
       "<Figure size 640x480 with 2 Axes>"
      ]
     },
     "metadata": {},
     "output_type": "display_data"
    }
   ],
   "source": [
    "from sklearn.metrics import accuracy_score,confusion_matrix,ConfusionMatrixDisplay\n",
    "print(accuracy_score(y_test,predicted))\n",
    "cm=confusion_matrix(y_test,predicted)\n",
    "va=ConfusionMatrixDisplay(cm)\n",
    "va.plot() \n",
    "plt.show()  "
   ]
  },
  {
   "cell_type": "markdown",
   "id": "7c5763de",
   "metadata": {},
   "source": [
    "## PLOTING THE DECISION SURFACE "
   ]
  },
  {
   "cell_type": "code",
   "execution_count": 23,
   "id": "4965e5d1",
   "metadata": {},
   "outputs": [],
   "source": [
    "from mlxtend.plotting  import plot_decision_regions  "
   ]
  },
  {
   "cell_type": "code",
   "execution_count": 24,
   "id": "b8f7013b",
   "metadata": {},
   "outputs": [
    {
     "name": "stdout",
     "output_type": "stream",
     "text": [
      "9600/9600 [==============================] - 23s 2ms/step\n"
     ]
    },
    {
     "data": {
      "text/plain": [
       "<AxesSubplot:>"
      ]
     },
     "execution_count": 24,
     "metadata": {},
     "output_type": "execute_result"
    },
    {
     "data": {
      "image/png": "[encoded data removed]",
      "text/plain": [
       "<Figure size 640x480 with 1 Axes>"
      ]
     },
     "metadata": {},
     "output_type": "display_data"
    }
   ],
   "source": [
    "plot_decision_regions(x_train,y_train.values,clf=model) "
   ]
  },
  {
   "cell_type": "code",
   "execution_count": 25,
   "id": "31d9aedc",
   "metadata": {},
   "outputs": [
    {
     "name": "stdout",
     "output_type": "stream",
     "text": [
      "9600/9600 [==============================] - 21s 2ms/step\n"
     ]
    },
    {
     "data": {
      "text/plain": [
       "<AxesSubplot:>"
      ]
     },
     "execution_count": 25,
     "metadata": {},
     "output_type": "execute_result"
    },
    {
     "data": {
      "image/png": "[encoded data removed]",
      "text/plain": [
       "<Figure size 640x480 with 1 Axes>"
      ]
     },
     "metadata": {},
     "output_type": "display_data"
    }
   ],
   "source": [
    "plot_decision_regions(x_test,y_test.values,clf=model) "
   ]
  },
  {
   "cell_type": "markdown",
   "id": "96f81c62",
   "metadata": {},
   "source": [
    "## Conclusions:\n",
    "\n",
    "###### This neural network model achieves an accuracy of 92%. The model architecture consists of 3 hidden layers:- \n",
    "\n",
    "- 1st HL:- 20 neurons ReLU as activation function and an L2 regularizer with a strength of 0.001.\n",
    "- 2nd HL:- 18 neurons ReLU as activation function and an L2 regularizer with a strength of 0.001.\n",
    "- 3rd HL:- 16 neurons ReLU as activation function and an L2 regularizer with a strength of 0.001.\n",
    "\n",
    "###### The output layer uses the sigmoid activation function.\n",
    "\n",
    "###### Loss function: Binary cross-entropy.\n",
    "- Optimizer: Stochastic Gradient Descent (SGD) with a batch size of 10 and a learning rate of 0.01.\n",
    "- The model was trained for 35 epochs.\n",
    " \n"
   ]
  },
  {
   "cell_type": "code",
   "execution_count": null,
   "id": "6210bb82",
   "metadata": {},
   "outputs": [],
   "source": []
  },
  {
   "cell_type": "code",
   "execution_count": null,
   "id": "e083ecd4",
   "metadata": {},
   "outputs": [],
   "source": []
  }
 ],
 "metadata": {
  "kernelspec": {
   "display_name": "Python 3 (ipykernel)",
   "language": "python",
   "name": "python3"
  },
  "language_info": {
   "codemirror_mode": {
    "name": "ipython",
    "version": 3
   },
   "file_extension": ".py",
   "mimetype": "text/x-python",
   "name": "python",
   "nbconvert_exporter": "python",
   "pygments_lexer": "ipython3",
   "version": "3.9.13"
  }
 },
 "nbformat": 4,
 "nbformat_minor": 5
}
