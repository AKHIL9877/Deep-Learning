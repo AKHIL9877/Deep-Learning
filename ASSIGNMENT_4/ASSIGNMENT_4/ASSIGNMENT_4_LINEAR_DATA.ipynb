{
 "cells": [
  {
   "cell_type": "markdown",
   "id": "5be3d139",
   "metadata": {},
   "source": [
    "## Importing Libraries"
   ]
  },
  {
   "cell_type": "code",
   "execution_count": 1,
   "id": "40abc87c",
   "metadata": {},
   "outputs": [],
   "source": [
    "import numpy as np\n",
    "import pandas as pd  \n",
    "from sklearn.preprocessing import StandardScaler\n",
    "from sklearn.model_selection import train_test_split\n",
    "from keras import Sequential \n",
    "from keras.layers import Dense \n",
    "from keras.regularizers import L1,L2,L1L2 \n",
    "from keras.optimizers import SGD  \n",
    "import matplotlib.pyplot as plt \n",
    "import seaborn as sns  "
   ]
  },
  {
   "cell_type": "markdown",
   "id": "437f92c6",
   "metadata": {},
   "source": [
    "## Importing the CSV file "
   ]
  },
  {
   "cell_type": "code",
   "execution_count": 2,
   "id": "a99e2cdc",
   "metadata": {},
   "outputs": [
    {
     "data": {
      "text/html": [
       "<div>\n",
       "<style scoped>\n",
       "    .dataframe tbody tr th:only-of-type {\n",
       "        vertical-align: middle;\n",
       "    }\n",
       "\n",
       "    .dataframe tbody tr th {\n",
       "        vertical-align: top;\n",
       "    }\n",
       "\n",
       "    .dataframe thead th {\n",
       "        text-align: right;\n",
       "    }\n",
       "</style>\n",
       "<table border=\"1\" class=\"dataframe\">\n",
       "  <thead>\n",
       "    <tr style=\"text-align: right;\">\n",
       "      <th></th>\n",
       "      <th>0</th>\n",
       "      <th>1</th>\n",
       "      <th>2</th>\n",
       "    </tr>\n",
       "  </thead>\n",
       "  <tbody>\n",
       "    <tr>\n",
       "      <th>0</th>\n",
       "      <td>-0.177497</td>\n",
       "      <td>0.930496</td>\n",
       "      <td>1.0</td>\n",
       "    </tr>\n",
       "    <tr>\n",
       "      <th>1</th>\n",
       "      <td>1.977424</td>\n",
       "      <td>1.766155</td>\n",
       "      <td>0.0</td>\n",
       "    </tr>\n",
       "    <tr>\n",
       "      <th>2</th>\n",
       "      <td>1.800024</td>\n",
       "      <td>1.700343</td>\n",
       "      <td>0.0</td>\n",
       "    </tr>\n",
       "    <tr>\n",
       "      <th>3</th>\n",
       "      <td>-0.770837</td>\n",
       "      <td>2.359163</td>\n",
       "      <td>1.0</td>\n",
       "    </tr>\n",
       "    <tr>\n",
       "      <th>4</th>\n",
       "      <td>-0.308009</td>\n",
       "      <td>1.594063</td>\n",
       "      <td>1.0</td>\n",
       "    </tr>\n",
       "  </tbody>\n",
       "</table>\n",
       "</div>"
      ],
      "text/plain": [
       "          0         1    2\n",
       "0 -0.177497  0.930496  1.0\n",
       "1  1.977424  1.766155  0.0\n",
       "2  1.800024  1.700343  0.0\n",
       "3 -0.770837  2.359163  1.0\n",
       "4 -0.308009  1.594063  1.0"
      ]
     },
     "execution_count": 2,
     "metadata": {},
     "output_type": "execute_result"
    }
   ],
   "source": [
    "df=pd.read_csv(r\"C:\\Users\\hp\\Downloads\\ASSIGNMENT_4\\ASSIGNMENT_4\\Multiple CSV\\4.linearsep.csv\",header=None) \n",
    "df.head() "
   ]
  },
  {
   "cell_type": "code",
   "execution_count": 3,
   "id": "9b109e72",
   "metadata": {},
   "outputs": [
    {
     "name": "stdout",
     "output_type": "stream",
     "text": [
      "<class 'pandas.core.frame.DataFrame'>\n",
      "RangeIndex: 100 entries, 0 to 99\n",
      "Data columns (total 3 columns):\n",
      " #   Column  Non-Null Count  Dtype  \n",
      "---  ------  --------------  -----  \n",
      " 0   0       100 non-null    float64\n",
      " 1   1       100 non-null    float64\n",
      " 2   2       100 non-null    float64\n",
      "dtypes: float64(3)\n",
      "memory usage: 2.5 KB\n"
     ]
    }
   ],
   "source": [
    "df.info() "
   ]
  },
  {
   "cell_type": "code",
   "execution_count": 4,
   "id": "c446690c",
   "metadata": {},
   "outputs": [
    {
     "data": {
      "text/plain": [
       "1.0    50\n",
       "0.0    50\n",
       "Name: 2, dtype: int64"
      ]
     },
     "execution_count": 4,
     "metadata": {},
     "output_type": "execute_result"
    }
   ],
   "source": [
    "df[2].value_counts()   "
   ]
  },
  {
   "cell_type": "markdown",
   "id": "47048078",
   "metadata": {},
   "source": [
    "## checking outliers"
   ]
  },
  {
   "cell_type": "code",
   "execution_count": 5,
   "id": "d0be3bd7",
   "metadata": {},
   "outputs": [
    {
     "name": "stderr",
     "output_type": "stream",
     "text": [
      "C:\\Users\\hp\\anaconda3\\lib\\site-packages\\seaborn\\_decorators.py:36: FutureWarning: Pass the following variable as a keyword arg: x. From version 0.12, the only valid positional argument will be `data`, and passing other arguments without an explicit keyword will result in an error or misinterpretation.\n",
      "  warnings.warn(\n"
     ]
    },
    {
     "data": {
      "text/plain": [
       "<AxesSubplot:xlabel='0'>"
      ]
     },
     "execution_count": 5,
     "metadata": {},
     "output_type": "execute_result"
    },
    {
     "data": {
      "image/png": "[encoded data removed]",
      "text/plain": [
       "<Figure size 640x480 with 1 Axes>"
      ]
     },
     "metadata": {},
     "output_type": "display_data"
    }
   ],
   "source": [
    "sns.boxplot(df[0]) "
   ]
  },
  {
   "cell_type": "code",
   "execution_count": 6,
   "id": "6ad54a2c",
   "metadata": {},
   "outputs": [
    {
     "name": "stderr",
     "output_type": "stream",
     "text": [
      "C:\\Users\\hp\\anaconda3\\lib\\site-packages\\seaborn\\_decorators.py:36: FutureWarning: Pass the following variable as a keyword arg: x. From version 0.12, the only valid positional argument will be `data`, and passing other arguments without an explicit keyword will result in an error or misinterpretation.\n",
      "  warnings.warn(\n"
     ]
    },
    {
     "data": {
      "text/plain": [
       "<AxesSubplot:xlabel='1'>"
      ]
     },
     "execution_count": 6,
     "metadata": {},
     "output_type": "execute_result"
    },
    {
     "data": {
      "image/png": "[encoded data removed]",
      "text/plain": [
       "<Figure size 640x480 with 1 Axes>"
      ]
     },
     "metadata": {},
     "output_type": "display_data"
    }
   ],
   "source": [
    "sns.boxplot(df[1]) "
   ]
  },
  {
   "cell_type": "code",
   "execution_count": 7,
   "id": "018b78c1",
   "metadata": {},
   "outputs": [],
   "source": [
    "## removing the outlier datapoints\n",
    "df=df[df[1]<3.5] "
   ]
  },
  {
   "cell_type": "code",
   "execution_count": 8,
   "id": "d8567821",
   "metadata": {},
   "outputs": [
    {
     "name": "stdout",
     "output_type": "stream",
     "text": [
      "<class 'pandas.core.frame.DataFrame'>\n",
      "Int64Index: 97 entries, 0 to 99\n",
      "Data columns (total 3 columns):\n",
      " #   Column  Non-Null Count  Dtype  \n",
      "---  ------  --------------  -----  \n",
      " 0   0       97 non-null     float64\n",
      " 1   1       97 non-null     float64\n",
      " 2   2       97 non-null     float64\n",
      "dtypes: float64(3)\n",
      "memory usage: 3.0 KB\n"
     ]
    }
   ],
   "source": [
    "df.info() "
   ]
  },
  {
   "cell_type": "code",
   "execution_count": 9,
   "id": "470f2292",
   "metadata": {},
   "outputs": [
    {
     "name": "stderr",
     "output_type": "stream",
     "text": [
      "C:\\Users\\hp\\anaconda3\\lib\\site-packages\\seaborn\\_decorators.py:36: FutureWarning: Pass the following variable as a keyword arg: x. From version 0.12, the only valid positional argument will be `data`, and passing other arguments without an explicit keyword will result in an error or misinterpretation.\n",
      "  warnings.warn(\n"
     ]
    },
    {
     "data": {
      "text/plain": [
       "<AxesSubplot:xlabel='1'>"
      ]
     },
     "execution_count": 9,
     "metadata": {},
     "output_type": "execute_result"
    },
    {
     "data": {
      "image/png": "[encoded data removed]",
      "text/plain": [
       "<Figure size 640x480 with 1 Axes>"
      ]
     },
     "metadata": {},
     "output_type": "display_data"
    }
   ],
   "source": [
    "sns.boxplot(df[1])  "
   ]
  },
  {
   "cell_type": "markdown",
   "id": "062ae0d6",
   "metadata": {},
   "source": [
    "## Seperating the Input and Output Features"
   ]
  },
  {
   "cell_type": "code",
   "execution_count": 10,
   "id": "c2f1d6c8",
   "metadata": {},
   "outputs": [],
   "source": [
    "x=df.iloc[:,0:2]\n",
    "y=df.iloc[:,2].astype(int)  "
   ]
  },
  {
   "cell_type": "code",
   "execution_count": 11,
   "id": "9077ce71",
   "metadata": {},
   "outputs": [
    {
     "data": {
      "text/html": [
       "<div>\n",
       "<style scoped>\n",
       "    .dataframe tbody tr th:only-of-type {\n",
       "        vertical-align: middle;\n",
       "    }\n",
       "\n",
       "    .dataframe tbody tr th {\n",
       "        vertical-align: top;\n",
       "    }\n",
       "\n",
       "    .dataframe thead th {\n",
       "        text-align: right;\n",
       "    }\n",
       "</style>\n",
       "<table border=\"1\" class=\"dataframe\">\n",
       "  <thead>\n",
       "    <tr style=\"text-align: right;\">\n",
       "      <th></th>\n",
       "      <th>0</th>\n",
       "      <th>1</th>\n",
       "    </tr>\n",
       "  </thead>\n",
       "  <tbody>\n",
       "    <tr>\n",
       "      <th>0</th>\n",
       "      <td>-0.177497</td>\n",
       "      <td>0.930496</td>\n",
       "    </tr>\n",
       "    <tr>\n",
       "      <th>1</th>\n",
       "      <td>1.977424</td>\n",
       "      <td>1.766155</td>\n",
       "    </tr>\n",
       "    <tr>\n",
       "      <th>2</th>\n",
       "      <td>1.800024</td>\n",
       "      <td>1.700343</td>\n",
       "    </tr>\n",
       "    <tr>\n",
       "      <th>3</th>\n",
       "      <td>-0.770837</td>\n",
       "      <td>2.359163</td>\n",
       "    </tr>\n",
       "    <tr>\n",
       "      <th>4</th>\n",
       "      <td>-0.308009</td>\n",
       "      <td>1.594063</td>\n",
       "    </tr>\n",
       "  </tbody>\n",
       "</table>\n",
       "</div>"
      ],
      "text/plain": [
       "          0         1\n",
       "0 -0.177497  0.930496\n",
       "1  1.977424  1.766155\n",
       "2  1.800024  1.700343\n",
       "3 -0.770837  2.359163\n",
       "4 -0.308009  1.594063"
      ]
     },
     "execution_count": 11,
     "metadata": {},
     "output_type": "execute_result"
    }
   ],
   "source": [
    "x.head() "
   ]
  },
  {
   "cell_type": "code",
   "execution_count": 12,
   "id": "bb1ed62f",
   "metadata": {},
   "outputs": [
    {
     "data": {
      "text/plain": [
       "0    1\n",
       "1    0\n",
       "2    0\n",
       "3    1\n",
       "4    1\n",
       "Name: 2, dtype: int32"
      ]
     },
     "execution_count": 12,
     "metadata": {},
     "output_type": "execute_result"
    }
   ],
   "source": [
    "y.head()  "
   ]
  },
  {
   "cell_type": "markdown",
   "id": "bc6aa381",
   "metadata": {},
   "source": [
    "## Split the data into train and test"
   ]
  },
  {
   "cell_type": "code",
   "execution_count": 13,
   "id": "4e66ac17",
   "metadata": {},
   "outputs": [],
   "source": [
    "x_train,x_test,y_train,y_test=train_test_split(x,y,test_size=0.1) "
   ]
  },
  {
   "cell_type": "code",
   "execution_count": 14,
   "id": "8470a805",
   "metadata": {},
   "outputs": [
    {
     "data": {
      "text/plain": [
       "(87, 2)"
      ]
     },
     "execution_count": 14,
     "metadata": {},
     "output_type": "execute_result"
    }
   ],
   "source": [
    "x_train.shape  "
   ]
  },
  {
   "cell_type": "code",
   "execution_count": 15,
   "id": "43d17846",
   "metadata": {},
   "outputs": [
    {
     "data": {
      "text/plain": [
       "(10, 2)"
      ]
     },
     "execution_count": 15,
     "metadata": {},
     "output_type": "execute_result"
    }
   ],
   "source": [
    "x_test.shape "
   ]
  },
  {
   "cell_type": "markdown",
   "id": "9dfd8f22",
   "metadata": {},
   "source": [
    "## Standardising input features "
   ]
  },
  {
   "cell_type": "code",
   "execution_count": 16,
   "id": "01a58ff8",
   "metadata": {},
   "outputs": [],
   "source": [
    "std=StandardScaler()\n",
    "x_train=std.fit_transform(x_train)\n",
    "x_test=std.transform(x_test) "
   ]
  },
  {
   "cell_type": "markdown",
   "id": "b9b620bb",
   "metadata": {},
   "source": [
    "## Build the Logical Structure "
   ]
  },
  {
   "cell_type": "code",
   "execution_count": 17,
   "id": "47e3e141",
   "metadata": {},
   "outputs": [],
   "source": [
    "model=Sequential()\n",
    "model.add(Dense(6,activation=\"tanh\",input_dim=2))\n",
    "model.add(Dense(3,activation=\"tanh\"))\n",
    "model.add(Dense(1,activation=\"sigmoid\")) "
   ]
  },
  {
   "cell_type": "code",
   "execution_count": 18,
   "id": "bf5f1d1b",
   "metadata": {},
   "outputs": [
    {
     "name": "stdout",
     "output_type": "stream",
     "text": [
      "Model: \"sequential\"\n",
      "_________________________________________________________________\n",
      " Layer (type)                Output Shape              Param #   \n",
      "=================================================================\n",
      " dense (Dense)               (None, 6)                 18        \n",
      "                                                                 \n",
      " dense_1 (Dense)             (None, 3)                 21        \n",
      "                                                                 \n",
      " dense_2 (Dense)             (None, 1)                 4         \n",
      "                                                                 \n",
      "=================================================================\n",
      "Total params: 43 (172.00 Byte)\n",
      "Trainable params: 43 (172.00 Byte)\n",
      "Non-trainable params: 0 (0.00 Byte)\n",
      "_________________________________________________________________\n"
     ]
    }
   ],
   "source": [
    "model.summary()  "
   ]
  },
  {
   "cell_type": "markdown",
   "id": "68f49633",
   "metadata": {},
   "source": [
    "## compiling the model "
   ]
  },
  {
   "cell_type": "code",
   "execution_count": 19,
   "id": "651afe9a",
   "metadata": {},
   "outputs": [
    {
     "name": "stdout",
     "output_type": "stream",
     "text": [
      "Epoch 1/35\n",
      "8/8 [==============================] - 1s 49ms/step - loss: 1.9241 - accuracy: 0.1538 - val_loss: 1.9726 - val_accuracy: 0.1111\n",
      "Epoch 2/35\n",
      "8/8 [==============================] - 0s 10ms/step - loss: 1.8254 - accuracy: 0.1667 - val_loss: 1.8636 - val_accuracy: 0.1111\n",
      "Epoch 3/35\n",
      "8/8 [==============================] - 0s 10ms/step - loss: 1.7331 - accuracy: 0.1667 - val_loss: 1.7612 - val_accuracy: 0.1111\n",
      "Epoch 4/35\n",
      "8/8 [==============================] - 0s 9ms/step - loss: 1.6459 - accuracy: 0.1667 - val_loss: 1.6662 - val_accuracy: 0.1111\n",
      "Epoch 5/35\n",
      "8/8 [==============================] - 0s 10ms/step - loss: 1.5657 - accuracy: 0.1795 - val_loss: 1.5783 - val_accuracy: 0.1111\n",
      "Epoch 6/35\n",
      "8/8 [==============================] - 0s 11ms/step - loss: 1.4909 - accuracy: 0.1923 - val_loss: 1.4962 - val_accuracy: 0.1111\n",
      "Epoch 7/35\n",
      "8/8 [==============================] - 0s 11ms/step - loss: 1.4219 - accuracy: 0.2051 - val_loss: 1.4209 - val_accuracy: 0.1111\n",
      "Epoch 8/35\n",
      "8/8 [==============================] - 0s 10ms/step - loss: 1.3577 - accuracy: 0.2179 - val_loss: 1.3516 - val_accuracy: 0.1111\n",
      "Epoch 9/35\n",
      "8/8 [==============================] - 0s 11ms/step - loss: 1.2986 - accuracy: 0.2179 - val_loss: 1.2873 - val_accuracy: 0.1111\n",
      "Epoch 10/35\n",
      "8/8 [==============================] - 0s 10ms/step - loss: 1.2428 - accuracy: 0.2179 - val_loss: 1.2279 - val_accuracy: 0.1111\n",
      "Epoch 11/35\n",
      "8/8 [==============================] - 0s 9ms/step - loss: 1.1917 - accuracy: 0.2179 - val_loss: 1.1736 - val_accuracy: 0.1111\n",
      "Epoch 12/35\n",
      "8/8 [==============================] - 0s 10ms/step - loss: 1.1444 - accuracy: 0.2179 - val_loss: 1.1238 - val_accuracy: 0.1111\n",
      "Epoch 13/35\n",
      "8/8 [==============================] - 0s 10ms/step - loss: 1.1006 - accuracy: 0.2179 - val_loss: 1.0780 - val_accuracy: 0.1111\n",
      "Epoch 14/35\n",
      "8/8 [==============================] - 0s 10ms/step - loss: 1.0603 - accuracy: 0.2436 - val_loss: 1.0361 - val_accuracy: 0.1111\n",
      "Epoch 15/35\n",
      "8/8 [==============================] - 0s 10ms/step - loss: 1.0224 - accuracy: 0.2436 - val_loss: 0.9979 - val_accuracy: 0.1111\n",
      "Epoch 16/35\n",
      "8/8 [==============================] - 0s 11ms/step - loss: 0.9879 - accuracy: 0.2564 - val_loss: 0.9629 - val_accuracy: 0.1111\n",
      "Epoch 17/35\n",
      "8/8 [==============================] - 0s 11ms/step - loss: 0.9560 - accuracy: 0.2564 - val_loss: 0.9305 - val_accuracy: 0.2222\n",
      "Epoch 18/35\n",
      "8/8 [==============================] - 0s 10ms/step - loss: 0.9264 - accuracy: 0.2564 - val_loss: 0.9009 - val_accuracy: 0.2222\n",
      "Epoch 19/35\n",
      "8/8 [==============================] - 0s 10ms/step - loss: 0.8987 - accuracy: 0.2564 - val_loss: 0.8731 - val_accuracy: 0.2222\n",
      "Epoch 20/35\n",
      "8/8 [==============================] - 0s 10ms/step - loss: 0.8725 - accuracy: 0.2821 - val_loss: 0.8478 - val_accuracy: 0.2222\n",
      "Epoch 21/35\n",
      "8/8 [==============================] - 0s 10ms/step - loss: 0.8486 - accuracy: 0.2821 - val_loss: 0.8244 - val_accuracy: 0.2222\n",
      "Epoch 22/35\n",
      "8/8 [==============================] - 0s 10ms/step - loss: 0.8262 - accuracy: 0.2821 - val_loss: 0.8027 - val_accuracy: 0.2222\n",
      "Epoch 23/35\n",
      "8/8 [==============================] - 0s 10ms/step - loss: 0.8052 - accuracy: 0.2949 - val_loss: 0.7826 - val_accuracy: 0.2222\n",
      "Epoch 24/35\n",
      "8/8 [==============================] - 0s 10ms/step - loss: 0.7858 - accuracy: 0.2949 - val_loss: 0.7639 - val_accuracy: 0.2222\n",
      "Epoch 25/35\n",
      "8/8 [==============================] - 0s 11ms/step - loss: 0.7672 - accuracy: 0.2949 - val_loss: 0.7465 - val_accuracy: 0.2222\n",
      "Epoch 26/35\n",
      "8/8 [==============================] - 0s 10ms/step - loss: 0.7501 - accuracy: 0.3077 - val_loss: 0.7303 - val_accuracy: 0.2222\n",
      "Epoch 27/35\n",
      "8/8 [==============================] - 0s 10ms/step - loss: 0.7339 - accuracy: 0.3205 - val_loss: 0.7150 - val_accuracy: 0.4444\n",
      "Epoch 28/35\n",
      "8/8 [==============================] - 0s 11ms/step - loss: 0.7186 - accuracy: 0.3333 - val_loss: 0.7007 - val_accuracy: 0.4444\n",
      "Epoch 29/35\n",
      "8/8 [==============================] - 0s 10ms/step - loss: 0.7043 - accuracy: 0.3846 - val_loss: 0.6869 - val_accuracy: 0.4444\n",
      "Epoch 30/35\n",
      "8/8 [==============================] - 0s 10ms/step - loss: 0.6904 - accuracy: 0.5256 - val_loss: 0.6741 - val_accuracy: 0.8889\n",
      "Epoch 31/35\n",
      "8/8 [==============================] - 0s 11ms/step - loss: 0.6774 - accuracy: 0.6667 - val_loss: 0.6620 - val_accuracy: 0.8889\n",
      "Epoch 32/35\n",
      "8/8 [==============================] - 0s 11ms/step - loss: 0.6651 - accuracy: 0.7308 - val_loss: 0.6506 - val_accuracy: 0.7778\n",
      "Epoch 33/35\n",
      "8/8 [==============================] - 0s 12ms/step - loss: 0.6536 - accuracy: 0.8974 - val_loss: 0.6396 - val_accuracy: 0.7778\n",
      "Epoch 34/35\n",
      "8/8 [==============================] - 0s 10ms/step - loss: 0.6423 - accuracy: 0.9487 - val_loss: 0.6290 - val_accuracy: 0.8889\n",
      "Epoch 35/35\n",
      "8/8 [==============================] - 0s 13ms/step - loss: 0.6317 - accuracy: 0.9231 - val_loss: 0.6190 - val_accuracy: 0.8889\n"
     ]
    }
   ],
   "source": [
    "model.compile(loss=\"binary_crossentropy\",optimizer=SGD(0.01),metrics=[\"accuracy\"])\n",
    "history=model.fit(x_train,y_train,batch_size=10,epochs=35,validation_split=0.1)  "
   ]
  },
  {
   "cell_type": "code",
   "execution_count": 20,
   "id": "4ef5ab05",
   "metadata": {},
   "outputs": [
    {
     "data": {
      "text/plain": [
       "<matplotlib.legend.Legend at 0x1fb300aa2b0>"
      ]
     },
     "execution_count": 20,
     "metadata": {},
     "output_type": "execute_result"
    },
    {
     "data": {
      "image/png": "[encoded data removed]",
      "text/plain": [
       "<Figure size 640x480 with 1 Axes>"
      ]
     },
     "metadata": {},
     "output_type": "display_data"
    }
   ],
   "source": [
    "plt.plot(range(1,36),history.history[\"loss\"],label=\"train_loss\")\n",
    "plt.plot(range(1,36),history.history[\"val_loss\"],label=\"test_loss\") \n",
    "plt.legend()  "
   ]
  },
  {
   "cell_type": "markdown",
   "id": "816597eb",
   "metadata": {},
   "source": [
    "## Predicting the model"
   ]
  },
  {
   "cell_type": "code",
   "execution_count": 21,
   "id": "e795194f",
   "metadata": {},
   "outputs": [
    {
     "name": "stdout",
     "output_type": "stream",
     "text": [
      "1/1 [==============================] - 0s 125ms/step\n"
     ]
    },
    {
     "data": {
      "text/plain": [
       "array([[0.4957803 ],\n",
       "       [0.56707764],\n",
       "       [0.4617215 ],\n",
       "       [0.49458882],\n",
       "       [0.46267584],\n",
       "       [0.4748835 ],\n",
       "       [0.53593445],\n",
       "       [0.5674019 ],\n",
       "       [0.53840363],\n",
       "       [0.56708825]], dtype=float32)"
      ]
     },
     "execution_count": 21,
     "metadata": {},
     "output_type": "execute_result"
    }
   ],
   "source": [
    "predicted=model.predict(x_test) \n",
    "predicted    "
   ]
  },
  {
   "cell_type": "code",
   "execution_count": 22,
   "id": "a661cc60",
   "metadata": {},
   "outputs": [
    {
     "data": {
      "text/plain": [
       "array([[0],\n",
       "       [1],\n",
       "       [0],\n",
       "       [0],\n",
       "       [0],\n",
       "       [0],\n",
       "       [1],\n",
       "       [1],\n",
       "       [1],\n",
       "       [1]])"
      ]
     },
     "execution_count": 22,
     "metadata": {},
     "output_type": "execute_result"
    }
   ],
   "source": [
    "predicted=np.where(predicted>0.5,1,0)\n",
    "predicted "
   ]
  },
  {
   "cell_type": "markdown",
   "id": "8ffd0323",
   "metadata": {},
   "source": [
    "## Evaluating the model"
   ]
  },
  {
   "cell_type": "code",
   "execution_count": 23,
   "id": "c958f17a",
   "metadata": {},
   "outputs": [
    {
     "name": "stdout",
     "output_type": "stream",
     "text": [
      "0.9\n"
     ]
    },
    {
     "data": {
      "image/png": "[encoded data removed]",
      "text/plain": [
       "<Figure size 640x480 with 2 Axes>"
      ]
     },
     "metadata": {},
     "output_type": "display_data"
    }
   ],
   "source": [
    "from sklearn.metrics import accuracy_score,confusion_matrix,ConfusionMatrixDisplay\n",
    "print(accuracy_score(y_test,predicted))\n",
    "cm=confusion_matrix(y_test,predicted)\n",
    "va=ConfusionMatrixDisplay(cm)\n",
    "va.plot() \n",
    "plt.show()  "
   ]
  },
  {
   "cell_type": "markdown",
   "id": "b92d2491",
   "metadata": {},
   "source": [
    "## PLOTING THE DECISION SURFACE "
   ]
  },
  {
   "cell_type": "code",
   "execution_count": 24,
   "id": "0cf2f1a5",
   "metadata": {},
   "outputs": [],
   "source": [
    "from mlxtend.plotting  import plot_decision_regions  "
   ]
  },
  {
   "cell_type": "code",
   "execution_count": 25,
   "id": "a9aba988",
   "metadata": {},
   "outputs": [
    {
     "name": "stdout",
     "output_type": "stream",
     "text": [
      "9600/9600 [==============================] - 20s 2ms/step\n"
     ]
    },
    {
     "data": {
      "text/plain": [
       "<AxesSubplot:>"
      ]
     },
     "execution_count": 25,
     "metadata": {},
     "output_type": "execute_result"
    },
    {
     "data": {
      "image/png": "[encoded data removed]",
      "text/plain": [
       "<Figure size 640x480 with 1 Axes>"
      ]
     },
     "metadata": {},
     "output_type": "display_data"
    }
   ],
   "source": [
    "plot_decision_regions(x_train,y_train.values,clf=model)   "
   ]
  },
  {
   "cell_type": "code",
   "execution_count": 26,
   "id": "edee34eb",
   "metadata": {},
   "outputs": [
    {
     "name": "stdout",
     "output_type": "stream",
     "text": [
      "9600/9600 [==============================] - 21s 2ms/step\n"
     ]
    },
    {
     "data": {
      "text/plain": [
       "<AxesSubplot:>"
      ]
     },
     "execution_count": 26,
     "metadata": {},
     "output_type": "execute_result"
    },
    {
     "data": {
      "image/png": "[encoded data removed]",
      "text/plain": [
       "<Figure size 640x480 with 1 Axes>"
      ]
     },
     "metadata": {},
     "output_type": "display_data"
    }
   ],
   "source": [
    "plot_decision_regions(x_test,y_test.values,clf=model) "
   ]
  },
  {
   "cell_type": "markdown",
   "id": "769dd5a9",
   "metadata": {},
   "source": [
    "## Conclusions:\n",
    "\n",
    "###### This model achieves an accuracy of  92%. The model architecture consists of 2 hidden layers :\n",
    "\n",
    "- 1st HL:- 6 neurons, tanh as activation function. \n",
    "- 2nd HL:- 3 neurons, tanh asactivation function. \n",
    "\n",
    "###### The output layer:- sigmoid activation function.\n",
    "\n",
    "###### Loss function: Binary cross-entropy.\n",
    "- Optimizer: Stochastic Gradient Descent (SGD) with a batch size of 10 and a learning rate of 0.01.\n",
    "- The model was trained for 35 epochs.\n",
    " "
   ]
  },
  {
   "cell_type": "code",
   "execution_count": null,
   "id": "93e10a18",
   "metadata": {},
   "outputs": [],
   "source": []
  }
 ],
 "metadata": {
  "kernelspec": {
   "display_name": "Python 3 (ipykernel)",
   "language": "python",
   "name": "python3"
  },
  "language_info": {
   "codemirror_mode": {
    "name": "ipython",
    "version": 3
   },
   "file_extension": ".py",
   "mimetype": "text/x-python",
   "name": "python",
   "nbconvert_exporter": "python",
   "pygments_lexer": "ipython3",
   "version": "3.9.13"
  }
 },
 "nbformat": 4,
 "nbformat_minor": 5
}
