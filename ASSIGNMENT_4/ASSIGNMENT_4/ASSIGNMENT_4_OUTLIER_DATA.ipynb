{
 "cells": [
  {
   "cell_type": "markdown",
   "id": "8e071599",
   "metadata": {},
   "source": [
    "## Importing Libraries"
   ]
  },
  {
   "cell_type": "code",
   "execution_count": 1,
   "id": "30c6edc3",
   "metadata": {},
   "outputs": [],
   "source": [
    "import numpy as np\n",
    "import pandas as pd  \n",
    "from sklearn.preprocessing import StandardScaler\n",
    "from sklearn.model_selection import train_test_split\n",
    "from keras import Sequential \n",
    "from keras.layers import Dense \n",
    "from keras.regularizers import L1,L2,L1L2 \n",
    "from keras.optimizers import SGD  \n",
    "import matplotlib.pyplot as plt \n",
    "import seaborn as sns "
   ]
  },
  {
   "cell_type": "markdown",
   "id": "9ef0c44e",
   "metadata": {},
   "source": [
    "## Importing the CSV file"
   ]
  },
  {
   "cell_type": "code",
   "execution_count": 2,
   "id": "f9e74b9b",
   "metadata": {},
   "outputs": [
    {
     "data": {
      "text/html": [
       "<div>\n",
       "<style scoped>\n",
       "    .dataframe tbody tr th:only-of-type {\n",
       "        vertical-align: middle;\n",
       "    }\n",
       "\n",
       "    .dataframe tbody tr th {\n",
       "        vertical-align: top;\n",
       "    }\n",
       "\n",
       "    .dataframe thead th {\n",
       "        text-align: right;\n",
       "    }\n",
       "</style>\n",
       "<table border=\"1\" class=\"dataframe\">\n",
       "  <thead>\n",
       "    <tr style=\"text-align: right;\">\n",
       "      <th></th>\n",
       "      <th>0</th>\n",
       "      <th>1</th>\n",
       "      <th>2</th>\n",
       "    </tr>\n",
       "  </thead>\n",
       "  <tbody>\n",
       "    <tr>\n",
       "      <th>0</th>\n",
       "      <td>-17.897000</td>\n",
       "      <td>7.662423</td>\n",
       "      <td>0</td>\n",
       "    </tr>\n",
       "    <tr>\n",
       "      <th>1</th>\n",
       "      <td>-26.343161</td>\n",
       "      <td>-3.055257</td>\n",
       "      <td>0</td>\n",
       "    </tr>\n",
       "    <tr>\n",
       "      <th>2</th>\n",
       "      <td>-19.059771</td>\n",
       "      <td>-8.531838</td>\n",
       "      <td>0</td>\n",
       "    </tr>\n",
       "    <tr>\n",
       "      <th>3</th>\n",
       "      <td>-16.383898</td>\n",
       "      <td>-2.352667</td>\n",
       "      <td>0</td>\n",
       "    </tr>\n",
       "    <tr>\n",
       "      <th>4</th>\n",
       "      <td>-12.926541</td>\n",
       "      <td>9.074994</td>\n",
       "      <td>0</td>\n",
       "    </tr>\n",
       "  </tbody>\n",
       "</table>\n",
       "</div>"
      ],
      "text/plain": [
       "           0         1  2\n",
       "0 -17.897000  7.662423  0\n",
       "1 -26.343161 -3.055257  0\n",
       "2 -19.059771 -8.531838  0\n",
       "3 -16.383898 -2.352667  0\n",
       "4 -12.926541  9.074994  0"
      ]
     },
     "execution_count": 2,
     "metadata": {},
     "output_type": "execute_result"
    }
   ],
   "source": [
    "df=pd.read_csv(r\"C:\\Users\\hp\\Downloads\\ASSIGNMENT_4\\ASSIGNMENT_4\\Multiple CSV\\5.outlier.csv\",header=None) \n",
    "df.head() "
   ]
  },
  {
   "cell_type": "code",
   "execution_count": 3,
   "id": "9aca0080",
   "metadata": {},
   "outputs": [
    {
     "name": "stdout",
     "output_type": "stream",
     "text": [
      "<class 'pandas.core.frame.DataFrame'>\n",
      "RangeIndex: 600 entries, 0 to 599\n",
      "Data columns (total 3 columns):\n",
      " #   Column  Non-Null Count  Dtype  \n",
      "---  ------  --------------  -----  \n",
      " 0   0       600 non-null    float64\n",
      " 1   1       600 non-null    float64\n",
      " 2   2       600 non-null    int64  \n",
      "dtypes: float64(2), int64(1)\n",
      "memory usage: 14.2 KB\n"
     ]
    }
   ],
   "source": [
    "df.info() "
   ]
  },
  {
   "cell_type": "code",
   "execution_count": 4,
   "id": "19549d26",
   "metadata": {},
   "outputs": [
    {
     "data": {
      "text/plain": [
       "0    300\n",
       "1    300\n",
       "Name: 2, dtype: int64"
      ]
     },
     "execution_count": 4,
     "metadata": {},
     "output_type": "execute_result"
    }
   ],
   "source": [
    "df[2].value_counts()  "
   ]
  },
  {
   "cell_type": "markdown",
   "id": "52f5bd59",
   "metadata": {},
   "source": [
    "## Seperating the Input and Output Features"
   ]
  },
  {
   "cell_type": "code",
   "execution_count": 5,
   "id": "91300c19",
   "metadata": {},
   "outputs": [],
   "source": [
    "x=df.iloc[:,0:2]\n",
    "y=df.iloc[:,2] "
   ]
  },
  {
   "cell_type": "code",
   "execution_count": 6,
   "id": "ff230132",
   "metadata": {},
   "outputs": [
    {
     "data": {
      "text/html": [
       "<div>\n",
       "<style scoped>\n",
       "    .dataframe tbody tr th:only-of-type {\n",
       "        vertical-align: middle;\n",
       "    }\n",
       "\n",
       "    .dataframe tbody tr th {\n",
       "        vertical-align: top;\n",
       "    }\n",
       "\n",
       "    .dataframe thead th {\n",
       "        text-align: right;\n",
       "    }\n",
       "</style>\n",
       "<table border=\"1\" class=\"dataframe\">\n",
       "  <thead>\n",
       "    <tr style=\"text-align: right;\">\n",
       "      <th></th>\n",
       "      <th>0</th>\n",
       "      <th>1</th>\n",
       "    </tr>\n",
       "  </thead>\n",
       "  <tbody>\n",
       "    <tr>\n",
       "      <th>0</th>\n",
       "      <td>-17.897000</td>\n",
       "      <td>7.662423</td>\n",
       "    </tr>\n",
       "    <tr>\n",
       "      <th>1</th>\n",
       "      <td>-26.343161</td>\n",
       "      <td>-3.055257</td>\n",
       "    </tr>\n",
       "    <tr>\n",
       "      <th>2</th>\n",
       "      <td>-19.059771</td>\n",
       "      <td>-8.531838</td>\n",
       "    </tr>\n",
       "    <tr>\n",
       "      <th>3</th>\n",
       "      <td>-16.383898</td>\n",
       "      <td>-2.352667</td>\n",
       "    </tr>\n",
       "    <tr>\n",
       "      <th>4</th>\n",
       "      <td>-12.926541</td>\n",
       "      <td>9.074994</td>\n",
       "    </tr>\n",
       "  </tbody>\n",
       "</table>\n",
       "</div>"
      ],
      "text/plain": [
       "           0         1\n",
       "0 -17.897000  7.662423\n",
       "1 -26.343161 -3.055257\n",
       "2 -19.059771 -8.531838\n",
       "3 -16.383898 -2.352667\n",
       "4 -12.926541  9.074994"
      ]
     },
     "execution_count": 6,
     "metadata": {},
     "output_type": "execute_result"
    }
   ],
   "source": [
    "x.head() "
   ]
  },
  {
   "cell_type": "code",
   "execution_count": 7,
   "id": "8a1f742c",
   "metadata": {},
   "outputs": [
    {
     "data": {
      "text/plain": [
       "0    0\n",
       "1    0\n",
       "2    0\n",
       "3    0\n",
       "4    0\n",
       "Name: 2, dtype: int64"
      ]
     },
     "execution_count": 7,
     "metadata": {},
     "output_type": "execute_result"
    }
   ],
   "source": [
    "y.head() "
   ]
  },
  {
   "cell_type": "markdown",
   "id": "c5348242",
   "metadata": {},
   "source": [
    "## Split the data into train and test"
   ]
  },
  {
   "cell_type": "code",
   "execution_count": 8,
   "id": "66b9ec60",
   "metadata": {},
   "outputs": [],
   "source": [
    "x_train,x_test,y_train,y_test=train_test_split(x,y,test_size=0.2) "
   ]
  },
  {
   "cell_type": "code",
   "execution_count": 9,
   "id": "8cc7c64c",
   "metadata": {},
   "outputs": [
    {
     "data": {
      "text/plain": [
       "(480, 2)"
      ]
     },
     "execution_count": 9,
     "metadata": {},
     "output_type": "execute_result"
    }
   ],
   "source": [
    "x_train.shape  "
   ]
  },
  {
   "cell_type": "code",
   "execution_count": 10,
   "id": "9090f489",
   "metadata": {},
   "outputs": [
    {
     "data": {
      "text/plain": [
       "(120, 2)"
      ]
     },
     "execution_count": 10,
     "metadata": {},
     "output_type": "execute_result"
    }
   ],
   "source": [
    "x_test.shape "
   ]
  },
  {
   "cell_type": "markdown",
   "id": "9a0c3455",
   "metadata": {},
   "source": [
    "### Standardising input features"
   ]
  },
  {
   "cell_type": "code",
   "execution_count": 11,
   "id": "43abfd75",
   "metadata": {},
   "outputs": [],
   "source": [
    "std=StandardScaler()\n",
    "x_train=std.fit_transform(x_train)\n",
    "x_test=std.transform(x_test)   "
   ]
  },
  {
   "cell_type": "markdown",
   "id": "43287222",
   "metadata": {},
   "source": [
    "### Build the Logical Structure "
   ]
  },
  {
   "cell_type": "code",
   "execution_count": 12,
   "id": "42bc6f22",
   "metadata": {},
   "outputs": [],
   "source": [
    "model=Sequential()\n",
    "model.add(Dense(5,activation=\"tanh\",input_dim=2))\n",
    "model.add(Dense(3,activation=\"tanh\"))\n",
    "model.add(Dense(1,activation=\"sigmoid\"))"
   ]
  },
  {
   "cell_type": "code",
   "execution_count": 13,
   "id": "34f0bde1",
   "metadata": {},
   "outputs": [
    {
     "name": "stdout",
     "output_type": "stream",
     "text": [
      "Model: \"sequential\"\n",
      "_________________________________________________________________\n",
      " Layer (type)                Output Shape              Param #   \n",
      "=================================================================\n",
      " dense (Dense)               (None, 5)                 15        \n",
      "                                                                 \n",
      " dense_1 (Dense)             (None, 3)                 18        \n",
      "                                                                 \n",
      " dense_2 (Dense)             (None, 1)                 4         \n",
      "                                                                 \n",
      "=================================================================\n",
      "Total params: 37 (148.00 Byte)\n",
      "Trainable params: 37 (148.00 Byte)\n",
      "Non-trainable params: 0 (0.00 Byte)\n",
      "_________________________________________________________________\n"
     ]
    }
   ],
   "source": [
    "model.summary() "
   ]
  },
  {
   "cell_type": "markdown",
   "id": "9c566f44",
   "metadata": {},
   "source": [
    "## compiling the model "
   ]
  },
  {
   "cell_type": "code",
   "execution_count": 14,
   "id": "fdce5ab9",
   "metadata": {},
   "outputs": [
    {
     "name": "stdout",
     "output_type": "stream",
     "text": [
      "Epoch 1/18\n",
      "44/44 [==============================] - 1s 10ms/step - loss: 0.5305 - accuracy: 1.0000 - val_loss: 0.4618 - val_accuracy: 1.0000\n",
      "Epoch 2/18\n",
      "44/44 [==============================] - 0s 4ms/step - loss: 0.4270 - accuracy: 1.0000 - val_loss: 0.3674 - val_accuracy: 1.0000\n",
      "Epoch 3/18\n",
      "44/44 [==============================] - 0s 4ms/step - loss: 0.3473 - accuracy: 1.0000 - val_loss: 0.2968 - val_accuracy: 1.0000\n",
      "Epoch 4/18\n",
      "44/44 [==============================] - 0s 4ms/step - loss: 0.2857 - accuracy: 1.0000 - val_loss: 0.2434 - val_accuracy: 1.0000\n",
      "Epoch 5/18\n",
      "44/44 [==============================] - 0s 4ms/step - loss: 0.2380 - accuracy: 1.0000 - val_loss: 0.2029 - val_accuracy: 1.0000\n",
      "Epoch 6/18\n",
      "44/44 [==============================] - 0s 4ms/step - loss: 0.2007 - accuracy: 1.0000 - val_loss: 0.1710 - val_accuracy: 1.0000\n",
      "Epoch 7/18\n",
      "44/44 [==============================] - 0s 4ms/step - loss: 0.1713 - accuracy: 1.0000 - val_loss: 0.1466 - val_accuracy: 1.0000\n",
      "Epoch 8/18\n",
      "44/44 [==============================] - 0s 4ms/step - loss: 0.1481 - accuracy: 1.0000 - val_loss: 0.1272 - val_accuracy: 1.0000\n",
      "Epoch 9/18\n",
      "44/44 [==============================] - 0s 4ms/step - loss: 0.1294 - accuracy: 1.0000 - val_loss: 0.1116 - val_accuracy: 1.0000\n",
      "Epoch 10/18\n",
      "44/44 [==============================] - 0s 4ms/step - loss: 0.1144 - accuracy: 1.0000 - val_loss: 0.0991 - val_accuracy: 1.0000\n",
      "Epoch 11/18\n",
      "44/44 [==============================] - 0s 4ms/step - loss: 0.1019 - accuracy: 1.0000 - val_loss: 0.0886 - val_accuracy: 1.0000\n",
      "Epoch 12/18\n",
      "44/44 [==============================] - 0s 4ms/step - loss: 0.0916 - accuracy: 1.0000 - val_loss: 0.0801 - val_accuracy: 1.0000\n",
      "Epoch 13/18\n",
      "44/44 [==============================] - 0s 4ms/step - loss: 0.0831 - accuracy: 1.0000 - val_loss: 0.0729 - val_accuracy: 1.0000\n",
      "Epoch 14/18\n",
      "44/44 [==============================] - 0s 4ms/step - loss: 0.0759 - accuracy: 1.0000 - val_loss: 0.0667 - val_accuracy: 1.0000\n",
      "Epoch 15/18\n",
      "44/44 [==============================] - 0s 4ms/step - loss: 0.0697 - accuracy: 1.0000 - val_loss: 0.0615 - val_accuracy: 1.0000\n",
      "Epoch 16/18\n",
      "44/44 [==============================] - 0s 4ms/step - loss: 0.0644 - accuracy: 1.0000 - val_loss: 0.0570 - val_accuracy: 1.0000\n",
      "Epoch 17/18\n",
      "44/44 [==============================] - 0s 4ms/step - loss: 0.0598 - accuracy: 1.0000 - val_loss: 0.0530 - val_accuracy: 1.0000\n",
      "Epoch 18/18\n",
      "44/44 [==============================] - 0s 5ms/step - loss: 0.0558 - accuracy: 1.0000 - val_loss: 0.0496 - val_accuracy: 1.0000\n"
     ]
    }
   ],
   "source": [
    "model.compile(loss=\"binary_crossentropy\",optimizer=SGD(0.01),metrics=[\"accuracy\"])\n",
    "history=model.fit(x_train,y_train,batch_size=10,epochs=18,validation_split=0.1) "
   ]
  },
  {
   "cell_type": "code",
   "execution_count": 16,
   "id": "802e407d",
   "metadata": {},
   "outputs": [
    {
     "data": {
      "text/plain": [
       "<matplotlib.legend.Legend at 0x1361d0f0820>"
      ]
     },
     "execution_count": 16,
     "metadata": {},
     "output_type": "execute_result"
    },
    {
     "data": {
      "image/png": "[encoded data removed]",
      "text/plain": [
       "<Figure size 640x480 with 1 Axes>"
      ]
     },
     "metadata": {},
     "output_type": "display_data"
    }
   ],
   "source": [
    "plt.plot(range(1,19),history.history[\"loss\"],label=\"train_loss\")\n",
    "plt.plot(range(1,19),history.history[\"val_loss\"],label=\"test_loss\") \n",
    "plt.legend() "
   ]
  },
  {
   "cell_type": "markdown",
   "id": "5f1d8393",
   "metadata": {},
   "source": [
    "## Predicting the model"
   ]
  },
  {
   "cell_type": "code",
   "execution_count": 17,
   "id": "6e35478f",
   "metadata": {},
   "outputs": [
    {
     "name": "stdout",
     "output_type": "stream",
     "text": [
      "4/4 [==============================] - 0s 3ms/step\n"
     ]
    },
    {
     "data": {
      "text/plain": [
       "array([[0.9636083 ],\n",
       "       [0.06113302],\n",
       "       [0.03768944],\n",
       "       [0.03668376],\n",
       "       [0.94112813],\n",
       "       [0.9642798 ],\n",
       "       [0.9615123 ],\n",
       "       [0.91915417],\n",
       "       [0.04249401],\n",
       "       [0.9621616 ],\n",
       "       [0.94113076],\n",
       "       [0.07075173],\n",
       "       [0.9582611 ],\n",
       "       [0.0348644 ],\n",
       "       [0.9616679 ],\n",
       "       [0.0666949 ],\n",
       "       [0.061912  ],\n",
       "       [0.03467482],\n",
       "       [0.94686955],\n",
       "       [0.05337611],\n",
       "       [0.0395836 ],\n",
       "       [0.03598138],\n",
       "       [0.95771265],\n",
       "       [0.05304286],\n",
       "       [0.04023998],\n",
       "       [0.09244751],\n",
       "       [0.9081397 ],\n",
       "       [0.96621424],\n",
       "       [0.04069334],\n",
       "       [0.9625572 ],\n",
       "       [0.96244854],\n",
       "       [0.9562912 ],\n",
       "       [0.94465345],\n",
       "       [0.9636151 ],\n",
       "       [0.04929091],\n",
       "       [0.04909713],\n",
       "       [0.04340712],\n",
       "       [0.05794081],\n",
       "       [0.0546441 ],\n",
       "       [0.96589273],\n",
       "       [0.96427494],\n",
       "       [0.9506982 ],\n",
       "       [0.06672029],\n",
       "       [0.11421757],\n",
       "       [0.9631154 ],\n",
       "       [0.06912908],\n",
       "       [0.05661947],\n",
       "       [0.9642346 ],\n",
       "       [0.04649715],\n",
       "       [0.93472594],\n",
       "       [0.95085615],\n",
       "       [0.05392152],\n",
       "       [0.04884118],\n",
       "       [0.96109563],\n",
       "       [0.9459205 ],\n",
       "       [0.9338969 ],\n",
       "       [0.08600449],\n",
       "       [0.9654302 ],\n",
       "       [0.04260466],\n",
       "       [0.03621462],\n",
       "       [0.05659854],\n",
       "       [0.9516887 ],\n",
       "       [0.03834502],\n",
       "       [0.8877824 ],\n",
       "       [0.94060093],\n",
       "       [0.08966022],\n",
       "       [0.87343925],\n",
       "       [0.9581602 ],\n",
       "       [0.05423555],\n",
       "       [0.9657424 ],\n",
       "       [0.8752407 ],\n",
       "       [0.04423585],\n",
       "       [0.03592009],\n",
       "       [0.94791365],\n",
       "       [0.9548873 ],\n",
       "       [0.9410487 ],\n",
       "       [0.95095396],\n",
       "       [0.08629645],\n",
       "       [0.03676357],\n",
       "       [0.04450042],\n",
       "       [0.03916729],\n",
       "       [0.05188518],\n",
       "       [0.04542296],\n",
       "       [0.03951373],\n",
       "       [0.9474    ],\n",
       "       [0.95672905],\n",
       "       [0.92854   ],\n",
       "       [0.0454437 ],\n",
       "       [0.9539906 ],\n",
       "       [0.03631198],\n",
       "       [0.04963075],\n",
       "       [0.07666388],\n",
       "       [0.03607761],\n",
       "       [0.03850353],\n",
       "       [0.94692194],\n",
       "       [0.03642363],\n",
       "       [0.9584871 ],\n",
       "       [0.93430907],\n",
       "       [0.94705075],\n",
       "       [0.03777624],\n",
       "       [0.956564  ],\n",
       "       [0.96586657],\n",
       "       [0.04050214],\n",
       "       [0.9615464 ],\n",
       "       [0.9425842 ],\n",
       "       [0.9580955 ],\n",
       "       [0.03655242],\n",
       "       [0.03594455],\n",
       "       [0.9611893 ],\n",
       "       [0.04176165],\n",
       "       [0.03483142],\n",
       "       [0.06846921],\n",
       "       [0.9605346 ],\n",
       "       [0.07464703],\n",
       "       [0.0886557 ],\n",
       "       [0.9309    ],\n",
       "       [0.9370662 ],\n",
       "       [0.9359762 ],\n",
       "       [0.04313665],\n",
       "       [0.95998454]], dtype=float32)"
      ]
     },
     "execution_count": 17,
     "metadata": {},
     "output_type": "execute_result"
    }
   ],
   "source": [
    "predicted=model.predict(x_test) \n",
    "predicted   "
   ]
  },
  {
   "cell_type": "code",
   "execution_count": 18,
   "id": "f0ca7a16",
   "metadata": {},
   "outputs": [
    {
     "data": {
      "text/plain": [
       "array([[1],\n",
       "       [0],\n",
       "       [0],\n",
       "       [0],\n",
       "       [1],\n",
       "       [1],\n",
       "       [1],\n",
       "       [1],\n",
       "       [0],\n",
       "       [1],\n",
       "       [1],\n",
       "       [0],\n",
       "       [1],\n",
       "       [0],\n",
       "       [1],\n",
       "       [0],\n",
       "       [0],\n",
       "       [0],\n",
       "       [1],\n",
       "       [0],\n",
       "       [0],\n",
       "       [0],\n",
       "       [1],\n",
       "       [0],\n",
       "       [0],\n",
       "       [0],\n",
       "       [1],\n",
       "       [1],\n",
       "       [0],\n",
       "       [1],\n",
       "       [1],\n",
       "       [1],\n",
       "       [1],\n",
       "       [1],\n",
       "       [0],\n",
       "       [0],\n",
       "       [0],\n",
       "       [0],\n",
       "       [0],\n",
       "       [1],\n",
       "       [1],\n",
       "       [1],\n",
       "       [0],\n",
       "       [0],\n",
       "       [1],\n",
       "       [0],\n",
       "       [0],\n",
       "       [1],\n",
       "       [0],\n",
       "       [1],\n",
       "       [1],\n",
       "       [0],\n",
       "       [0],\n",
       "       [1],\n",
       "       [1],\n",
       "       [1],\n",
       "       [0],\n",
       "       [1],\n",
       "       [0],\n",
       "       [0],\n",
       "       [0],\n",
       "       [1],\n",
       "       [0],\n",
       "       [1],\n",
       "       [1],\n",
       "       [0],\n",
       "       [1],\n",
       "       [1],\n",
       "       [0],\n",
       "       [1],\n",
       "       [1],\n",
       "       [0],\n",
       "       [0],\n",
       "       [1],\n",
       "       [1],\n",
       "       [1],\n",
       "       [1],\n",
       "       [0],\n",
       "       [0],\n",
       "       [0],\n",
       "       [0],\n",
       "       [0],\n",
       "       [0],\n",
       "       [0],\n",
       "       [1],\n",
       "       [1],\n",
       "       [1],\n",
       "       [0],\n",
       "       [1],\n",
       "       [0],\n",
       "       [0],\n",
       "       [0],\n",
       "       [0],\n",
       "       [0],\n",
       "       [1],\n",
       "       [0],\n",
       "       [1],\n",
       "       [1],\n",
       "       [1],\n",
       "       [0],\n",
       "       [1],\n",
       "       [1],\n",
       "       [0],\n",
       "       [1],\n",
       "       [1],\n",
       "       [1],\n",
       "       [0],\n",
       "       [0],\n",
       "       [1],\n",
       "       [0],\n",
       "       [0],\n",
       "       [0],\n",
       "       [1],\n",
       "       [0],\n",
       "       [0],\n",
       "       [1],\n",
       "       [1],\n",
       "       [1],\n",
       "       [0],\n",
       "       [1]])"
      ]
     },
     "execution_count": 18,
     "metadata": {},
     "output_type": "execute_result"
    }
   ],
   "source": [
    "predicted=np.where(predicted>0.5,1,0)\n",
    "predicted "
   ]
  },
  {
   "cell_type": "markdown",
   "id": "523ea463",
   "metadata": {},
   "source": [
    "## Evaluating the model "
   ]
  },
  {
   "cell_type": "code",
   "execution_count": 19,
   "id": "fa76ac83",
   "metadata": {},
   "outputs": [
    {
     "name": "stdout",
     "output_type": "stream",
     "text": [
      "1.0\n"
     ]
    },
    {
     "data": {
      "image/png": "[encoded data removed]",
      "text/plain": [
       "<Figure size 640x480 with 2 Axes>"
      ]
     },
     "metadata": {},
     "output_type": "display_data"
    }
   ],
   "source": [
    "from sklearn.metrics import accuracy_score,confusion_matrix,ConfusionMatrixDisplay\n",
    "print(accuracy_score(y_test,predicted))\n",
    "cm=confusion_matrix(y_test,predicted)\n",
    "va=ConfusionMatrixDisplay(cm)\n",
    "va.plot() \n",
    "plt.show()  "
   ]
  },
  {
   "cell_type": "markdown",
   "id": "de30ed7e",
   "metadata": {},
   "source": [
    "### PLOTING THE DECISION SURFACE "
   ]
  },
  {
   "cell_type": "code",
   "execution_count": 20,
   "id": "e9a2ae8e",
   "metadata": {},
   "outputs": [],
   "source": [
    "from mlxtend.plotting  import plot_decision_regions  "
   ]
  },
  {
   "cell_type": "code",
   "execution_count": 21,
   "id": "e7a1e8f0",
   "metadata": {},
   "outputs": [
    {
     "name": "stdout",
     "output_type": "stream",
     "text": [
      "9600/9600 [==============================] - 21s 2ms/step\n"
     ]
    },
    {
     "data": {
      "text/plain": [
       "<AxesSubplot:>"
      ]
     },
     "execution_count": 21,
     "metadata": {},
     "output_type": "execute_result"
    },
    {
     "data": {
      "image/png": "[encoded data removed]",
      "text/plain": [
       "<Figure size 640x480 with 1 Axes>"
      ]
     },
     "metadata": {},
     "output_type": "display_data"
    }
   ],
   "source": [
    "plot_decision_regions(x_train,y_train.values,clf=model)  "
   ]
  },
  {
   "cell_type": "code",
   "execution_count": 22,
   "id": "c5d15b30",
   "metadata": {},
   "outputs": [
    {
     "name": "stdout",
     "output_type": "stream",
     "text": [
      "9600/9600 [==============================] - 21s 2ms/step\n"
     ]
    },
    {
     "data": {
      "text/plain": [
       "<AxesSubplot:>"
      ]
     },
     "execution_count": 22,
     "metadata": {},
     "output_type": "execute_result"
    },
    {
     "data": {
      "image/png": "[encoded data removed]",
      "text/plain": [
       "<Figure size 640x480 with 1 Axes>"
      ]
     },
     "metadata": {},
     "output_type": "display_data"
    }
   ],
   "source": [
    "plot_decision_regions(x_test,y_test.values,clf=model)  "
   ]
  },
  {
   "cell_type": "markdown",
   "id": "da915185",
   "metadata": {},
   "source": [
    "## Conclusions:\n",
    "\n",
    "###### This neural network model achieves an accuracy of 100%. The model architecture consists of 2 hidden layers with the following specifications:\n",
    "\n",
    "- 1st HL:- 18 neurons, tanh as activation function \n",
    "- 2nd HL:- 16 neurons, tanh as activation function \n",
    "\n",
    "###### The output layer uses the sigmoid activation function.\n",
    "\n",
    "###### Loss function: Binary cross-entropy.\n",
    "- Optimizer: Stochastic Gradient Descent (SGD) with a batch size of 10 and a learning rate of 0.01.\n",
    "- The model was trained for 18 epochs.\n",
    " \n"
   ]
  },
  {
   "cell_type": "code",
   "execution_count": null,
   "id": "fd3a0969",
   "metadata": {},
   "outputs": [],
   "source": []
  }
 ],
 "metadata": {
  "kernelspec": {
   "display_name": "Python 3 (ipykernel)",
   "language": "python",
   "name": "python3"
  },
  "language_info": {
   "codemirror_mode": {
    "name": "ipython",
    "version": 3
   },
   "file_extension": ".py",
   "mimetype": "text/x-python",
   "name": "python",
   "nbconvert_exporter": "python",
   "pygments_lexer": "ipython3",
   "version": "3.9.13"
  }
 },
 "nbformat": 4,
 "nbformat_minor": 5
}
