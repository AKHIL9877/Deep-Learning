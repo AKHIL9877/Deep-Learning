{
 "cells": [
  {
   "cell_type": "markdown",
   "id": "4f93cff5",
   "metadata": {},
   "source": [
    "## Importing Libraries"
   ]
  },
  {
   "cell_type": "code",
   "execution_count": 1,
   "id": "ff0d8e67",
   "metadata": {},
   "outputs": [],
   "source": [
    "import numpy as np\n",
    "import pandas as pd  \n",
    "from sklearn.preprocessing import StandardScaler\n",
    "from sklearn.model_selection import train_test_split\n",
    "from keras import Sequential \n",
    "from keras.layers import Dense \n",
    "from keras.regularizers import L1,L2,L1L2 \n",
    "from keras.optimizers import SGD  \n",
    "import matplotlib.pyplot as plt "
   ]
  },
  {
   "cell_type": "markdown",
   "id": "47ef5a51",
   "metadata": {},
   "source": [
    "## Importing the CSV file"
   ]
  },
  {
   "cell_type": "code",
   "execution_count": 2,
   "id": "cbdded52",
   "metadata": {},
   "outputs": [
    {
     "data": {
      "text/html": [
       "<div>\n",
       "<style scoped>\n",
       "    .dataframe tbody tr th:only-of-type {\n",
       "        vertical-align: middle;\n",
       "    }\n",
       "\n",
       "    .dataframe tbody tr th {\n",
       "        vertical-align: top;\n",
       "    }\n",
       "\n",
       "    .dataframe thead th {\n",
       "        text-align: right;\n",
       "    }\n",
       "</style>\n",
       "<table border=\"1\" class=\"dataframe\">\n",
       "  <thead>\n",
       "    <tr style=\"text-align: right;\">\n",
       "      <th></th>\n",
       "      <th>0</th>\n",
       "      <th>1</th>\n",
       "      <th>2</th>\n",
       "    </tr>\n",
       "  </thead>\n",
       "  <tbody>\n",
       "    <tr>\n",
       "      <th>0</th>\n",
       "      <td>0.031595</td>\n",
       "      <td>0.986988</td>\n",
       "      <td>0.0</td>\n",
       "    </tr>\n",
       "    <tr>\n",
       "      <th>1</th>\n",
       "      <td>2.115098</td>\n",
       "      <td>-0.046244</td>\n",
       "      <td>1.0</td>\n",
       "    </tr>\n",
       "    <tr>\n",
       "      <th>2</th>\n",
       "      <td>0.882490</td>\n",
       "      <td>-0.075756</td>\n",
       "      <td>0.0</td>\n",
       "    </tr>\n",
       "    <tr>\n",
       "      <th>3</th>\n",
       "      <td>-0.055144</td>\n",
       "      <td>-0.037332</td>\n",
       "      <td>1.0</td>\n",
       "    </tr>\n",
       "    <tr>\n",
       "      <th>4</th>\n",
       "      <td>0.829545</td>\n",
       "      <td>-0.539321</td>\n",
       "      <td>1.0</td>\n",
       "    </tr>\n",
       "  </tbody>\n",
       "</table>\n",
       "</div>"
      ],
      "text/plain": [
       "          0         1    2\n",
       "0  0.031595  0.986988  0.0\n",
       "1  2.115098 -0.046244  1.0\n",
       "2  0.882490 -0.075756  0.0\n",
       "3 -0.055144 -0.037332  1.0\n",
       "4  0.829545 -0.539321  1.0"
      ]
     },
     "execution_count": 2,
     "metadata": {},
     "output_type": "execute_result"
    }
   ],
   "source": [
    "df=pd.read_csv(r\"C:\\Users\\hp\\Downloads\\ASSIGNMENT_4\\ASSIGNMENT_4\\Multiple CSV\\1.ushape.csv\",header=None) \n",
    "df.head() "
   ]
  },
  {
   "cell_type": "markdown",
   "id": "97e974ab",
   "metadata": {},
   "source": [
    "### Seperating the Input and Output Features"
   ]
  },
  {
   "cell_type": "code",
   "execution_count": 3,
   "id": "17c7b60a",
   "metadata": {},
   "outputs": [],
   "source": [
    "x=df.iloc[:,0:2]\n",
    "y=df.iloc[:,2].astype(int) "
   ]
  },
  {
   "cell_type": "code",
   "execution_count": 4,
   "id": "238da76f",
   "metadata": {},
   "outputs": [
    {
     "data": {
      "text/html": [
       "<div>\n",
       "<style scoped>\n",
       "    .dataframe tbody tr th:only-of-type {\n",
       "        vertical-align: middle;\n",
       "    }\n",
       "\n",
       "    .dataframe tbody tr th {\n",
       "        vertical-align: top;\n",
       "    }\n",
       "\n",
       "    .dataframe thead th {\n",
       "        text-align: right;\n",
       "    }\n",
       "</style>\n",
       "<table border=\"1\" class=\"dataframe\">\n",
       "  <thead>\n",
       "    <tr style=\"text-align: right;\">\n",
       "      <th></th>\n",
       "      <th>0</th>\n",
       "      <th>1</th>\n",
       "    </tr>\n",
       "  </thead>\n",
       "  <tbody>\n",
       "    <tr>\n",
       "      <th>0</th>\n",
       "      <td>0.031595</td>\n",
       "      <td>0.986988</td>\n",
       "    </tr>\n",
       "    <tr>\n",
       "      <th>1</th>\n",
       "      <td>2.115098</td>\n",
       "      <td>-0.046244</td>\n",
       "    </tr>\n",
       "    <tr>\n",
       "      <th>2</th>\n",
       "      <td>0.882490</td>\n",
       "      <td>-0.075756</td>\n",
       "    </tr>\n",
       "    <tr>\n",
       "      <th>3</th>\n",
       "      <td>-0.055144</td>\n",
       "      <td>-0.037332</td>\n",
       "    </tr>\n",
       "    <tr>\n",
       "      <th>4</th>\n",
       "      <td>0.829545</td>\n",
       "      <td>-0.539321</td>\n",
       "    </tr>\n",
       "  </tbody>\n",
       "</table>\n",
       "</div>"
      ],
      "text/plain": [
       "          0         1\n",
       "0  0.031595  0.986988\n",
       "1  2.115098 -0.046244\n",
       "2  0.882490 -0.075756\n",
       "3 -0.055144 -0.037332\n",
       "4  0.829545 -0.539321"
      ]
     },
     "execution_count": 4,
     "metadata": {},
     "output_type": "execute_result"
    }
   ],
   "source": [
    "x.head() "
   ]
  },
  {
   "cell_type": "code",
   "execution_count": 5,
   "id": "c6f479b8",
   "metadata": {},
   "outputs": [
    {
     "data": {
      "text/plain": [
       "0    0\n",
       "1    1\n",
       "2    0\n",
       "3    1\n",
       "4    1\n",
       "Name: 2, dtype: int32"
      ]
     },
     "execution_count": 5,
     "metadata": {},
     "output_type": "execute_result"
    }
   ],
   "source": [
    "y.head()"
   ]
  },
  {
   "cell_type": "markdown",
   "id": "c9b9afbd",
   "metadata": {},
   "source": [
    "### Split the data into train and test"
   ]
  },
  {
   "cell_type": "code",
   "execution_count": 6,
   "id": "864c2f81",
   "metadata": {},
   "outputs": [],
   "source": [
    "x_train,x_test,y_train,y_test=train_test_split(x,y,test_size=0.1)"
   ]
  },
  {
   "cell_type": "code",
   "execution_count": 7,
   "id": "47f62c70",
   "metadata": {},
   "outputs": [
    {
     "data": {
      "text/plain": [
       "(90, 2)"
      ]
     },
     "execution_count": 7,
     "metadata": {},
     "output_type": "execute_result"
    }
   ],
   "source": [
    "x_train.shape"
   ]
  },
  {
   "cell_type": "code",
   "execution_count": 8,
   "id": "2d5204e1",
   "metadata": {},
   "outputs": [
    {
     "data": {
      "text/plain": [
       "(10, 2)"
      ]
     },
     "execution_count": 8,
     "metadata": {},
     "output_type": "execute_result"
    }
   ],
   "source": [
    "x_test.shape "
   ]
  },
  {
   "cell_type": "markdown",
   "id": "dfd6cec0",
   "metadata": {},
   "source": [
    "### Standardising input features"
   ]
  },
  {
   "cell_type": "code",
   "execution_count": 9,
   "id": "12dedab1",
   "metadata": {},
   "outputs": [],
   "source": [
    "std=StandardScaler()\n",
    "x_train=std.fit_transform(x_train)\n",
    "x_test=std.transform(x_test) "
   ]
  },
  {
   "cell_type": "markdown",
   "id": "c79b8b52",
   "metadata": {},
   "source": [
    "### Build the Logical Structure"
   ]
  },
  {
   "cell_type": "code",
   "execution_count": 10,
   "id": "3ef4d952",
   "metadata": {},
   "outputs": [],
   "source": [
    "model=Sequential()\n",
    "model.add(Dense(18,activation=\"relu\",kernel_regularizer=L2(0.001),bias_regularizer=L2(0.001),input_dim=2))\n",
    "model.add(Dense(16,activation=\"relu\",kernel_regularizer=L2(0.001),bias_regularizer=L2(0.001)))\n",
    "model.add(Dense(12,activation=\"relu\",kernel_regularizer=L2(0.001),bias_regularizer=L2(0.001)))\n",
    "model.add(Dense(8,activation=\"relu\",kernel_regularizer=L2(0.001),bias_regularizer=L2(0.001)))\n",
    "model.add(Dense(1,activation=\"sigmoid\",kernel_regularizer=L2(0.001),bias_regularizer=L2(0.001)))  "
   ]
  },
  {
   "cell_type": "code",
   "execution_count": 11,
   "id": "6a3b0eaf",
   "metadata": {},
   "outputs": [
    {
     "name": "stdout",
     "output_type": "stream",
     "text": [
      "Model: \"sequential\"\n",
      "_________________________________________________________________\n",
      " Layer (type)                Output Shape              Param #   \n",
      "=================================================================\n",
      " dense (Dense)               (None, 18)                54        \n",
      "                                                                 \n",
      " dense_1 (Dense)             (None, 16)                304       \n",
      "                                                                 \n",
      " dense_2 (Dense)             (None, 12)                204       \n",
      "                                                                 \n",
      " dense_3 (Dense)             (None, 8)                 104       \n",
      "                                                                 \n",
      " dense_4 (Dense)             (None, 1)                 9         \n",
      "                                                                 \n",
      "=================================================================\n",
      "Total params: 675 (2.64 KB)\n",
      "Trainable params: 675 (2.64 KB)\n",
      "Non-trainable params: 0 (0.00 Byte)\n",
      "_________________________________________________________________\n"
     ]
    }
   ],
   "source": [
    "model.summary() "
   ]
  },
  {
   "cell_type": "markdown",
   "id": "91aac4c1",
   "metadata": {},
   "source": [
    "### Compling the model"
   ]
  },
  {
   "cell_type": "code",
   "execution_count": 12,
   "id": "a86dfac1",
   "metadata": {},
   "outputs": [],
   "source": [
    "model.compile(loss=\"binary_crossentropy\",optimizer=SGD(0.1),metrics=[\"accuracy\"])"
   ]
  },
  {
   "cell_type": "code",
   "execution_count": 13,
   "id": "ab74dc15",
   "metadata": {},
   "outputs": [
    {
     "name": "stdout",
     "output_type": "stream",
     "text": [
      "Epoch 1/45\n",
      "17/17 [==============================] - 2s 27ms/step - loss: 0.7139 - accuracy: 0.6790 - val_loss: 0.6689 - val_accuracy: 0.8889\n",
      "Epoch 2/45\n",
      "17/17 [==============================] - 0s 7ms/step - loss: 0.6296 - accuracy: 0.7778 - val_loss: 0.4930 - val_accuracy: 0.6667\n",
      "Epoch 3/45\n",
      "17/17 [==============================] - 0s 7ms/step - loss: 0.5317 - accuracy: 0.8148 - val_loss: 0.3179 - val_accuracy: 1.0000\n",
      "Epoch 4/45\n",
      "17/17 [==============================] - 0s 7ms/step - loss: 0.4557 - accuracy: 0.8395 - val_loss: 0.2418 - val_accuracy: 1.0000\n",
      "Epoch 5/45\n",
      "17/17 [==============================] - 0s 6ms/step - loss: 0.4041 - accuracy: 0.8395 - val_loss: 0.1689 - val_accuracy: 1.0000\n",
      "Epoch 6/45\n",
      "17/17 [==============================] - 0s 7ms/step - loss: 0.3946 - accuracy: 0.8148 - val_loss: 0.1444 - val_accuracy: 1.0000\n",
      "Epoch 7/45\n",
      "17/17 [==============================] - 0s 6ms/step - loss: 0.3952 - accuracy: 0.8395 - val_loss: 0.1529 - val_accuracy: 1.0000\n",
      "Epoch 8/45\n",
      "17/17 [==============================] - 0s 6ms/step - loss: 0.3756 - accuracy: 0.8272 - val_loss: 0.2127 - val_accuracy: 0.8889\n",
      "Epoch 9/45\n",
      "17/17 [==============================] - 0s 7ms/step - loss: 0.3691 - accuracy: 0.8395 - val_loss: 0.1047 - val_accuracy: 1.0000\n",
      "Epoch 10/45\n",
      "17/17 [==============================] - 0s 7ms/step - loss: 0.3790 - accuracy: 0.8519 - val_loss: 0.1012 - val_accuracy: 1.0000\n",
      "Epoch 11/45\n",
      "17/17 [==============================] - 0s 7ms/step - loss: 0.3684 - accuracy: 0.8519 - val_loss: 0.2108 - val_accuracy: 0.8889\n",
      "Epoch 12/45\n",
      "17/17 [==============================] - 0s 7ms/step - loss: 0.3457 - accuracy: 0.8642 - val_loss: 0.1513 - val_accuracy: 1.0000\n",
      "Epoch 13/45\n",
      "17/17 [==============================] - 0s 6ms/step - loss: 0.3402 - accuracy: 0.8889 - val_loss: 0.1204 - val_accuracy: 1.0000\n",
      "Epoch 14/45\n",
      "17/17 [==============================] - 0s 5ms/step - loss: 0.3422 - accuracy: 0.8889 - val_loss: 0.5149 - val_accuracy: 0.6667\n",
      "Epoch 15/45\n",
      "17/17 [==============================] - 0s 6ms/step - loss: 0.3658 - accuracy: 0.8889 - val_loss: 0.1825 - val_accuracy: 1.0000\n",
      "Epoch 16/45\n",
      "17/17 [==============================] - 0s 8ms/step - loss: 0.3229 - accuracy: 0.9012 - val_loss: 0.1344 - val_accuracy: 1.0000\n",
      "Epoch 17/45\n",
      "17/17 [==============================] - 0s 6ms/step - loss: 0.3144 - accuracy: 0.9012 - val_loss: 0.2047 - val_accuracy: 0.8889\n",
      "Epoch 18/45\n",
      "17/17 [==============================] - 0s 7ms/step - loss: 0.3260 - accuracy: 0.8889 - val_loss: 0.2401 - val_accuracy: 0.8889\n",
      "Epoch 19/45\n",
      "17/17 [==============================] - 0s 7ms/step - loss: 0.3557 - accuracy: 0.8642 - val_loss: 0.0960 - val_accuracy: 1.0000\n",
      "Epoch 20/45\n",
      "17/17 [==============================] - 0s 7ms/step - loss: 0.2843 - accuracy: 0.9383 - val_loss: 0.1443 - val_accuracy: 1.0000\n",
      "Epoch 21/45\n",
      "17/17 [==============================] - 0s 6ms/step - loss: 0.2980 - accuracy: 0.8889 - val_loss: 0.1082 - val_accuracy: 1.0000\n",
      "Epoch 22/45\n",
      "17/17 [==============================] - 0s 7ms/step - loss: 0.2998 - accuracy: 0.8765 - val_loss: 0.1228 - val_accuracy: 1.0000\n",
      "Epoch 23/45\n",
      "17/17 [==============================] - 0s 7ms/step - loss: 0.2336 - accuracy: 0.9136 - val_loss: 0.2218 - val_accuracy: 0.8889\n",
      "Epoch 24/45\n",
      "17/17 [==============================] - 0s 7ms/step - loss: 0.3199 - accuracy: 0.8765 - val_loss: 0.0702 - val_accuracy: 1.0000\n",
      "Epoch 25/45\n",
      "17/17 [==============================] - 0s 6ms/step - loss: 0.2240 - accuracy: 0.9506 - val_loss: 0.0960 - val_accuracy: 1.0000\n",
      "Epoch 26/45\n",
      "17/17 [==============================] - 0s 7ms/step - loss: 0.2012 - accuracy: 0.9383 - val_loss: 0.0741 - val_accuracy: 1.0000\n",
      "Epoch 27/45\n",
      "17/17 [==============================] - 0s 7ms/step - loss: 0.1779 - accuracy: 0.9630 - val_loss: 0.2033 - val_accuracy: 0.8889\n",
      "Epoch 28/45\n",
      "17/17 [==============================] - 0s 7ms/step - loss: 0.1970 - accuracy: 0.9383 - val_loss: 0.0904 - val_accuracy: 1.0000\n",
      "Epoch 29/45\n",
      "17/17 [==============================] - 0s 7ms/step - loss: 0.1948 - accuracy: 0.9630 - val_loss: 0.1245 - val_accuracy: 1.0000\n",
      "Epoch 30/45\n",
      "17/17 [==============================] - 0s 7ms/step - loss: 0.1645 - accuracy: 0.9630 - val_loss: 0.1217 - val_accuracy: 1.0000\n",
      "Epoch 31/45\n",
      "17/17 [==============================] - 0s 6ms/step - loss: 0.2340 - accuracy: 0.9506 - val_loss: 0.6001 - val_accuracy: 0.7778\n",
      "Epoch 32/45\n",
      "17/17 [==============================] - 0s 6ms/step - loss: 0.3082 - accuracy: 0.8889 - val_loss: 0.0752 - val_accuracy: 1.0000\n",
      "Epoch 33/45\n",
      "17/17 [==============================] - 0s 6ms/step - loss: 0.2042 - accuracy: 0.9630 - val_loss: 0.0818 - val_accuracy: 1.0000\n",
      "Epoch 34/45\n",
      "17/17 [==============================] - 0s 6ms/step - loss: 0.1877 - accuracy: 0.9259 - val_loss: 0.7971 - val_accuracy: 0.7778\n",
      "Epoch 35/45\n",
      "17/17 [==============================] - 0s 7ms/step - loss: 0.3753 - accuracy: 0.8889 - val_loss: 0.3107 - val_accuracy: 0.8889\n",
      "Epoch 36/45\n",
      "17/17 [==============================] - 0s 8ms/step - loss: 0.1896 - accuracy: 0.9630 - val_loss: 0.1964 - val_accuracy: 0.8889\n",
      "Epoch 37/45\n",
      "17/17 [==============================] - 0s 7ms/step - loss: 0.1863 - accuracy: 0.9506 - val_loss: 0.7119 - val_accuracy: 0.7778\n",
      "Epoch 38/45\n",
      "17/17 [==============================] - 0s 7ms/step - loss: 0.4035 - accuracy: 0.8765 - val_loss: 0.0936 - val_accuracy: 1.0000\n",
      "Epoch 39/45\n",
      "17/17 [==============================] - 0s 7ms/step - loss: 0.2176 - accuracy: 0.9506 - val_loss: 0.1750 - val_accuracy: 0.8889\n",
      "Epoch 40/45\n",
      "17/17 [==============================] - 0s 6ms/step - loss: 0.1863 - accuracy: 0.9383 - val_loss: 0.1551 - val_accuracy: 0.8889\n",
      "Epoch 41/45\n",
      "17/17 [==============================] - 0s 5ms/step - loss: 0.2012 - accuracy: 0.9383 - val_loss: 0.1833 - val_accuracy: 0.8889\n",
      "Epoch 42/45\n",
      "17/17 [==============================] - 0s 6ms/step - loss: 0.2241 - accuracy: 0.9383 - val_loss: 0.0859 - val_accuracy: 1.0000\n",
      "Epoch 43/45\n",
      "17/17 [==============================] - 0s 6ms/step - loss: 0.1773 - accuracy: 0.9506 - val_loss: 0.1180 - val_accuracy: 1.0000\n",
      "Epoch 44/45\n",
      "17/17 [==============================] - 0s 6ms/step - loss: 0.1595 - accuracy: 0.9506 - val_loss: 0.1157 - val_accuracy: 1.0000\n",
      "Epoch 45/45\n",
      "17/17 [==============================] - 0s 6ms/step - loss: 0.1705 - accuracy: 0.9506 - val_loss: 0.2563 - val_accuracy: 0.8889\n"
     ]
    }
   ],
   "source": [
    "history=model.fit(x_train,y_train,batch_size=5,epochs=45,validation_split=0.1)"
   ]
  },
  {
   "cell_type": "code",
   "execution_count": 14,
   "id": "18f852e1",
   "metadata": {},
   "outputs": [
    {
     "data": {
      "text/plain": [
       "<matplotlib.legend.Legend at 0x2a21c4329a0>"
      ]
     },
     "execution_count": 14,
     "metadata": {},
     "output_type": "execute_result"
    },
    {
     "data": {
      "image/png": "[encoded data removed]",
      "text/plain": [
       "<Figure size 640x480 with 1 Axes>"
      ]
     },
     "metadata": {},
     "output_type": "display_data"
    }
   ],
   "source": [
    "plt.plot(range(1,46),history.history[\"loss\"],label=\"train_loss\")\n",
    "plt.plot(range(1,46),history.history[\"val_loss\"],label=\"test_loss\") \n",
    "plt.legend() "
   ]
  },
  {
   "cell_type": "markdown",
   "id": "459d3ab0",
   "metadata": {},
   "source": [
    "### Predicting the model\n"
   ]
  },
  {
   "cell_type": "code",
   "execution_count": 15,
   "id": "ac6e5175",
   "metadata": {},
   "outputs": [
    {
     "name": "stdout",
     "output_type": "stream",
     "text": [
      "1/1 [==============================] - 0s 153ms/step\n"
     ]
    },
    {
     "data": {
      "text/plain": [
       "array([[0.99953276],\n",
       "       [0.00492819],\n",
       "       [0.9831613 ],\n",
       "       [0.01374822],\n",
       "       [0.02261806],\n",
       "       [0.00261511],\n",
       "       [0.996341  ],\n",
       "       [0.99990773],\n",
       "       [0.99999917],\n",
       "       [0.99969923]], dtype=float32)"
      ]
     },
     "execution_count": 15,
     "metadata": {},
     "output_type": "execute_result"
    }
   ],
   "source": [
    "predicted=model.predict(x_test) \n",
    "predicted "
   ]
  },
  {
   "cell_type": "code",
   "execution_count": 16,
   "id": "00ff2a87",
   "metadata": {},
   "outputs": [
    {
     "data": {
      "text/plain": [
       "array([[1],\n",
       "       [0],\n",
       "       [1],\n",
       "       [0],\n",
       "       [0],\n",
       "       [0],\n",
       "       [1],\n",
       "       [1],\n",
       "       [1],\n",
       "       [1]])"
      ]
     },
     "execution_count": 16,
     "metadata": {},
     "output_type": "execute_result"
    }
   ],
   "source": [
    "predicted=np.where(predicted>0.5,1,0)\n",
    "predicted  "
   ]
  },
  {
   "cell_type": "markdown",
   "id": "4c222511",
   "metadata": {},
   "source": [
    "### Evaluating the model "
   ]
  },
  {
   "cell_type": "code",
   "execution_count": 17,
   "id": "d95042c5",
   "metadata": {},
   "outputs": [
    {
     "name": "stdout",
     "output_type": "stream",
     "text": [
      "0.8\n"
     ]
    },
    {
     "data": {
      "image/png": "[encoded data removed]",
      "text/plain": [
       "<Figure size 640x480 with 2 Axes>"
      ]
     },
     "metadata": {},
     "output_type": "display_data"
    }
   ],
   "source": [
    "from sklearn.metrics import accuracy_score,confusion_matrix,ConfusionMatrixDisplay\n",
    "print(accuracy_score(y_test,predicted))\n",
    "cm=confusion_matrix(y_test,predicted)\n",
    "va=ConfusionMatrixDisplay(cm)\n",
    "va.plot() \n",
    "plt.show() "
   ]
  },
  {
   "cell_type": "markdown",
   "id": "df82e05c",
   "metadata": {},
   "source": [
    "### PLOTING THE DECISION SURFACE"
   ]
  },
  {
   "cell_type": "code",
   "execution_count": 18,
   "id": "9339a069",
   "metadata": {},
   "outputs": [],
   "source": [
    "from mlxtend.plotting  import plot_decision_regions "
   ]
  },
  {
   "cell_type": "code",
   "execution_count": 19,
   "id": "e295f772",
   "metadata": {},
   "outputs": [
    {
     "name": "stdout",
     "output_type": "stream",
     "text": [
      "9600/9600 [==============================] - 21s 2ms/step\n"
     ]
    },
    {
     "data": {
      "text/plain": [
       "<AxesSubplot:>"
      ]
     },
     "execution_count": 19,
     "metadata": {},
     "output_type": "execute_result"
    },
    {
     "data": {
      "image/png": "[encoded data removed]",
      "text/plain": [
       "<Figure size 640x480 with 1 Axes>"
      ]
     },
     "metadata": {},
     "output_type": "display_data"
    }
   ],
   "source": [
    "plot_decision_regions(x_train,y_train.values,clf=model) "
   ]
  },
  {
   "cell_type": "code",
   "execution_count": 20,
   "id": "63eb6fe3",
   "metadata": {},
   "outputs": [
    {
     "name": "stdout",
     "output_type": "stream",
     "text": [
      "9600/9600 [==============================] - 22s 2ms/step\n"
     ]
    },
    {
     "data": {
      "text/plain": [
       "<AxesSubplot:>"
      ]
     },
     "execution_count": 20,
     "metadata": {},
     "output_type": "execute_result"
    },
    {
     "data": {
      "image/png": "[encoded data removed]",
      "text/plain": [
       "<Figure size 640x480 with 1 Axes>"
      ]
     },
     "metadata": {},
     "output_type": "display_data"
    }
   ],
   "source": [
    "plot_decision_regions(x_test,y_test.values,clf=model) "
   ]
  },
  {
   "cell_type": "markdown",
   "id": "c37af396",
   "metadata": {},
   "source": [
    "### Conclusions:"
   ]
  },
  {
   "cell_type": "markdown",
   "id": "75366b74",
   "metadata": {},
   "source": [
    "###### This model achieves an accuracy of 95%. The model architecture consists of 4 hidden layers with the following specifications:\n",
    "\n",
    "- 1st HL:- 18 neurons with the ReLU activation function and an L2 regularizer with a strength of 0.001.\n",
    "- 2nd HL:- 16 neurons with the ReLU activation function and an L2 regularizer with a strength of 0.001.\n",
    "- 3rd HL:- 12 neurons with the ReLU activation function and an L2 regularizer with a strength of 0.001.\n",
    "- 4th HL:- 8 neurons with the ReLU activation function and an L2 regularizer with a strength of 0.001.\n",
    "\n",
    "###### The output layer uses the sigmoid activation function.\n",
    "\n",
    "##### For model compilation, the following settings were used:\n",
    "\n",
    "###### Loss function: Binary cross-entropy.\n",
    "- Optimizer: Stochastic Gradient Descent (SGD) with a batch size of 5 and a learning rate of 0.01.\n",
    "- The model was trained for 50 epochs.\n",
    "\n",
    "###### Overall, this neural network model architecture and training configuration achieve an accuracy of 95%."
   ]
  },
  {
   "cell_type": "code",
   "execution_count": null,
   "id": "fd1f09a5",
   "metadata": {},
   "outputs": [],
   "source": [
    "`"
   ]
  }
 ],
 "metadata": {
  "kernelspec": {
   "display_name": "Python 3 (ipykernel)",
   "language": "python",
   "name": "python3"
  },
  "language_info": {
   "codemirror_mode": {
    "name": "ipython",
    "version": 3
   },
   "file_extension": ".py",
   "mimetype": "text/x-python",
   "name": "python",
   "nbconvert_exporter": "python",
   "pygments_lexer": "ipython3",
   "version": "3.9.13"
  }
 },
 "nbformat": 4,
 "nbformat_minor": 5
}
